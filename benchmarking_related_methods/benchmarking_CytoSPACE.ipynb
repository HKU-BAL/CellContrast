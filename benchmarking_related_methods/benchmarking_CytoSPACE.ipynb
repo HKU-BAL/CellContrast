{
 "cells": [
  {
   "cell_type": "markdown",
   "id": "a85d10aa",
   "metadata": {},
   "source": [
    "# Benchmarking scripts for CytoSPACE"
   ]
  },
  {
   "cell_type": "markdown",
   "id": "633cb874",
   "metadata": {},
   "source": [
    "## Intallation of the running environment"
   ]
  },
  {
   "cell_type": "markdown",
   "id": "0f7fc562",
   "metadata": {},
   "source": [
    "* Install the envrioment of CytoSPACE based on the instructions: https://github.com/digitalcytometry/cytospace"
   ]
  },
  {
   "cell_type": "code",
   "execution_count": 2,
   "id": "305d5fda",
   "metadata": {},
   "outputs": [],
   "source": [
    "import pandas as pd\n",
    "import scanpy as sc\n",
    "import os\n",
    "from scipy.sparse import issparse\n",
    "import logging\n",
    "from scipy.spatial.distance import cdist\n",
    "import seaborn as sns\n",
    "import numpy as np\n",
    "logging.getLogger().setLevel(logging.INFO)\n",
    "import utils"
   ]
  },
  {
   "cell_type": "markdown",
   "id": "6e0ab40b",
   "metadata": {},
   "source": [
    "## Utilized functions"
   ]
  },
  {
   "cell_type": "code",
   "execution_count": 4,
   "id": "6fe2211b",
   "metadata": {},
   "outputs": [],
   "source": [
    "def getResults(cur_query_data,cur_res):\n",
    "    \n",
    "    selected_ids = []\n",
    "    predicted_coordinates = []\n",
    "    truth_coordinates = []\n",
    "    truth_cell_types = []\n",
    "    \n",
    "    truth_data = pd.DataFrame({'ID':cur_query_data.obs.index,\\\n",
    "                               \"x\":cur_query_data.obs['x'].values,\\\n",
    "                              \"y\":cur_query_data.obs['y'].values,\\\n",
    "                             'cell_type':cur_query_data.obs['cell_type'].values}).set_index(\"ID\")\n",
    "\n",
    "    for cur_cell_id in cur_query_data.obs_names:\n",
    "        \n",
    "        if(cur_cell_id not in cur_res.index):\n",
    "            continue\n",
    "            \n",
    "        predicted_data = cur_res.loc[cur_cell_id]\n",
    "        tmp_predicted_coor = [predicted_data['row'],predicted_data['col']]\n",
    "        \n",
    "        predicted_coordinates.append(tmp_predicted_coor)\n",
    "        \n",
    "        cur_truth_row =  truth_data.loc[cur_cell_id]\n",
    "        tmp_truth_coor = [cur_truth_row['x'],cur_truth_row['y']]\n",
    "        tmp_truth_cell_type = cur_truth_row['cell_type']\n",
    "        \n",
    "        truth_coordinates.append(tmp_truth_coor)\n",
    "        truth_cell_types.append(tmp_truth_cell_type)\n",
    "        \n",
    "    \n",
    "   \n",
    "    predicted_coordinates = np.asarray(predicted_coordinates)\n",
    "    truth_coordinates = np.asarray(truth_coordinates)\n",
    "    \n",
    "   \n",
    "    return predicted_coordinates,truth_coordinates,truth_cell_types"
   ]
  },
  {
   "cell_type": "markdown",
   "id": "0b41d9d4",
   "metadata": {},
   "source": [
    "## 1. Spatial reconstruction of mouse gastrulation cells using single-cell resolution ST reference"
   ]
  },
  {
   "cell_type": "markdown",
   "id": "30eb0b36",
   "metadata": {},
   "source": [
    "### 1.1 Performing alignment and evaluation\n",
    "* Run in the terminal"
   ]
  },
  {
   "cell_type": "markdown",
   "id": "eda97f4f",
   "metadata": {},
   "source": [
    "#### 1.1.1 Alignment between embryo1 l1 and embryo1 l2"
   ]
  },
  {
   "cell_type": "markdown",
   "id": "3f0366e5",
   "metadata": {},
   "source": [
    "```\n",
    "cytospace --single-cell --scRNA-path ./cytospace/embryo1_l2_test_geneExp.txt\\\n",
    "--st-path ./cytospace/embryo1_l1_train_geneExp.txt \\\n",
    "--coordinates-path ./cytospace/embryo1_l1_train_coordinates.txt  \\\n",
    "--st-cell-type-path ./cytospace/embryo1_l1_train_cellTypes.txt\\\n",
    "--cell-type-path ./cytospace/embryo1_l2_test_cellTypes.txt \\\n",
    "--number-of-processor 16 -noss 10000 \\\n",
    "-sm lap_CSPR -o cytospace/ -op embryo1_l2 -mcn 1\n",
    "```"
   ]
  },
  {
   "cell_type": "markdown",
   "id": "e595356f",
   "metadata": {},
   "source": [
    "#### 1.1.2 Alignment between embryo1 l1 and embryo2 l2"
   ]
  },
  {
   "cell_type": "markdown",
   "id": "0cec31f6",
   "metadata": {},
   "source": [
    "```\n",
    "cytospace --single-cell --scRNA-path ./cytospace/embryo2_l2_test_geneExp.txt\\\n",
    "--st-path ./cytospace/embryo1_l1_train_geneExp.txt \\\n",
    "--coordinates-path ./cytospace/embryo1_l1_train_coordinates.txt  \\\n",
    "--st-cell-type-path ./cytospace/embryo1_l1_train_cellTypes.txt\\\n",
    "--cell-type-path ./cytospace/embryo2_l2_test_cellTypes.txt \\\n",
    "--number-of-processor 16 -noss 10000 \\\n",
    "-sm lap_CSPR -o cytospace/ -op embryo2_l2 -mcn 1\n",
    "```"
   ]
  },
  {
   "cell_type": "markdown",
   "id": "edb0ee61",
   "metadata": {},
   "source": [
    "#### 1.1.3 Alignment between embryo1 l1 and embryo3 l2"
   ]
  },
  {
   "cell_type": "markdown",
   "id": "cb5a0818",
   "metadata": {},
   "source": [
    "```\n",
    "cytospace --single-cell --scRNA-path ./cytospace/embryo3_l2_test_geneExp.txt\\\n",
    "--st-path ./cytospace/embryo1_l1_train_geneExp.txt \\\n",
    "--coordinates-path ./cytospace/embryo1_l1_train_coordinates.txt  \\\n",
    "--st-cell-type-path ./cytospace/embryo1_l1_train_cellTypes.txt\\\n",
    "--cell-type-path ./cytospace/embryo3_l2_test_cellTypes.txt \\\n",
    "--number-of-processor 16 -noss 10000 \\\n",
    "-sm lap_CSPR -o cytospace/ -op embryo3_l2 -mcn 1\n",
    "```"
   ]
  },
  {
   "cell_type": "markdown",
   "id": "8f110234",
   "metadata": {},
   "source": [
    "### 1.2. Performing evaluations\n"
   ]
  },
  {
   "cell_type": "code",
   "execution_count": 91,
   "id": "9a3057b4",
   "metadata": {},
   "outputs": [
    {
     "name": "stderr",
     "output_type": "stream",
     "text": [
      "INFO:root:Evaluation for embryo1_l2\n",
      "100%|███████████████████████████████████████████████████████████████████████████████████████████████████████████| 7590/7590 [00:17<00:00, 425.93it/s]\n",
      "INFO:root:Evaluation for embryo2_l2\n",
      "100%|███████████████████████████████████████████████████████████████████████████████████████████████████████████| 5740/5740 [00:11<00:00, 516.65it/s]\n",
      "INFO:root:Evaluation for embryo3_l2\n",
      "100%|███████████████████████████████████████████████████████████████████████████████████████████████████████████| 7319/7319 [00:16<00:00, 430.79it/s]\n"
     ]
    }
   ],
   "source": [
    "test_adata_list = {\"embryo1_l2\":embryo1_l2,\"embryo2_l2\":embryo2_l2,\"embryo3_l2\":embryo3_l2}\n",
    "\n",
    "neighbor_hit_res = {'Dataset':[],'K nearest neighbor':[],'Average hit number':[]}\n",
    "JSD_spearman_res = {'Dataset':[],'Average JSD':[],\"Average spearman's rank correlation coefficient\":[]}\n",
    "res_summary_all   = {\"Dataset\":[],\"Cell type\":[],\"Average JSD\":[],\"Average spearman\":[]}\n",
    "\n",
    "for test_name in test_adata_list:\n",
    "    cur_test_adata = test_adata_list[test_name]\n",
    "    \n",
    "    logging.info(\"Evaluation for \"+test_name)\n",
    "    \n",
    "    cur_result_path = os.path.join(SAVE_ROOT,test_name+\"assigned_locations.csv\")\n",
    "\n",
    "    cur_result_data = pd.read_csv(cur_result_path).drop_duplicates(subset=['OriginalCID']).set_index(\"OriginalCID\")\n",
    "    predicted_coor,cur_truth_coor,cur_truth_cell_types = getResults(cur_test_adata,cur_result_data)\n",
    "    \n",
    "    predicted_distances =  cdist(predicted_coor, predicted_coor)\n",
    "    predicted_sorted_ind = np.argsort(predicted_distances)\n",
    "    \n",
    "    truth_distances =  cdist(cur_truth_coor, cur_truth_coor)\n",
    "    truth_sorted_ind = np.argsort(truth_distances)\n",
    "    \n",
    "    # neighbor hit\n",
    "    cur_neighbor_res,cur_average_neighbor_res = utils.calNeiborHit(truth_sorted_ind,predicted_sorted_ind)\n",
    "    neighbor_hit_res['Dataset'].extend([test_name]*10)\n",
    "    neighbor_hit_res['K nearest neighbor'].extend(cur_average_neighbor_res['K nearest neighbor'])\n",
    "    neighbor_hit_res['Average hit number'].extend(cur_average_neighbor_res['Average hit number'])\n",
    "    \n",
    "    # JSD\n",
    "    cur_jsd_list = utils.calJSD(truth_sorted_ind,predicted_sorted_ind,cur_truth_cell_types,neighbor_num=20)\n",
    "    \n",
    "    # Spearman rank correlation\n",
    "    spearman_corr_list,spearman_p_list = utils.calSpearmanRank(predicted_distances,truth_distances)\n",
    "    \n",
    "    JSD_spearman_res['Dataset'].append(test_name)\n",
    "    JSD_spearman_res['Average JSD'].append(np.mean(cur_jsd_list))\n",
    "    JSD_spearman_res[\"Average spearman's rank correlation coefficient\"].append(np.mean(spearman_corr_list))\n",
    "    \n",
    "    res_summary_all['Dataset'].extend([test_name]*len(cur_truth_cell_types))\n",
    "    res_summary_all['Cell type'].extend(cur_truth_cell_types)\n",
    "    res_summary_all['Average JSD'].extend(cur_jsd_list)\n",
    "    res_summary_all['Average spearman'].extend(spearman_corr_list)\n",
    "\n",
    "\n",
    "neighbor_hit_res = pd.DataFrame(neighbor_hit_res)\n",
    "JSD_spearman_res = pd.DataFrame(JSD_spearman_res)\n",
    "res_summary_all = pd.DataFrame(res_summary_all)"
   ]
  },
  {
   "cell_type": "code",
   "execution_count": 94,
   "id": "f43eaf2d",
   "metadata": {},
   "outputs": [],
   "source": [
    "res_summary_all.to_csv(\"results/cytospace_mouse_single_cell_ref.csv\")"
   ]
  },
  {
   "cell_type": "markdown",
   "id": "e4910c8e",
   "metadata": {},
   "source": [
    "### 1.3 Benchmarking results"
   ]
  },
  {
   "cell_type": "markdown",
   "id": "1ba5189d",
   "metadata": {},
   "source": [
    "#### 1.3.1 Nearest neighbor hit"
   ]
  },
  {
   "cell_type": "code",
   "execution_count": 92,
   "id": "d11312b1",
   "metadata": {},
   "outputs": [
    {
     "data": {
      "text/plain": [
       "<Axes: xlabel='K nearest neighbor', ylabel='Average hit number'>"
      ]
     },
     "execution_count": 92,
     "metadata": {},
     "output_type": "execute_result"
    },
    {
     "data": {
      "image/png": "[encoded data removed]",
      "text/plain": [
       "<Figure size 640x480 with 1 Axes>"
      ]
     },
     "metadata": {},
     "output_type": "display_data"
    }
   ],
   "source": [
    "sns.set_style('whitegrid')\n",
    "sns.lineplot(data=neighbor_hit_res,x=\"K nearest neighbor\",y=\"Average hit number\",hue=\"Dataset\",markers=True,style='Dataset',\\\n",
    "             dashes=False,linewidth=2)"
   ]
  },
  {
   "cell_type": "markdown",
   "id": "e8e1a1ba",
   "metadata": {},
   "source": [
    "#### 1.3.2 Average JSD and spearman's rank correlation coefficient"
   ]
  },
  {
   "cell_type": "code",
   "execution_count": 93,
   "id": "27895633",
   "metadata": {},
   "outputs": [
    {
     "data": {
      "text/html": [
       "<div>\n",
       "<style scoped>\n",
       "    .dataframe tbody tr th:only-of-type {\n",
       "        vertical-align: middle;\n",
       "    }\n",
       "\n",
       "    .dataframe tbody tr th {\n",
       "        vertical-align: top;\n",
       "    }\n",
       "\n",
       "    .dataframe thead th {\n",
       "        text-align: right;\n",
       "    }\n",
       "</style>\n",
       "<table border=\"1\" class=\"dataframe\">\n",
       "  <thead>\n",
       "    <tr style=\"text-align: right;\">\n",
       "      <th></th>\n",
       "      <th>Dataset</th>\n",
       "      <th>Average JSD</th>\n",
       "      <th>Average spearman's rank correlation coefficient</th>\n",
       "    </tr>\n",
       "  </thead>\n",
       "  <tbody>\n",
       "    <tr>\n",
       "      <th>0</th>\n",
       "      <td>embryo1_l2</td>\n",
       "      <td>0.329119</td>\n",
       "      <td>0.606100</td>\n",
       "    </tr>\n",
       "    <tr>\n",
       "      <th>1</th>\n",
       "      <td>embryo2_l2</td>\n",
       "      <td>0.357342</td>\n",
       "      <td>0.318703</td>\n",
       "    </tr>\n",
       "    <tr>\n",
       "      <th>2</th>\n",
       "      <td>embryo3_l2</td>\n",
       "      <td>0.435005</td>\n",
       "      <td>0.292913</td>\n",
       "    </tr>\n",
       "  </tbody>\n",
       "</table>\n",
       "</div>"
      ],
      "text/plain": [
       "      Dataset  Average JSD  Average spearman's rank correlation coefficient\n",
       "0  embryo1_l2     0.329119                                         0.606100\n",
       "1  embryo2_l2     0.357342                                         0.318703\n",
       "2  embryo3_l2     0.435005                                         0.292913"
      ]
     },
     "metadata": {},
     "output_type": "display_data"
    }
   ],
   "source": [
    "display(JSD_spearman_res)"
   ]
  },
  {
   "cell_type": "markdown",
   "id": "7365a8cc",
   "metadata": {},
   "source": [
    "## 2. Spatial location inference across platforms: mouse gastrulation datasets"
   ]
  },
  {
   "cell_type": "markdown",
   "id": "ce0e7a6d",
   "metadata": {},
   "source": [
    "### 2.1 Performing alignment and evaluation"
   ]
  },
  {
   "cell_type": "markdown",
   "id": "c8ce5d9a",
   "metadata": {},
   "source": [
    "* Run in terminal\n"
   ]
  },
  {
   "cell_type": "markdown",
   "id": "7b786aaa",
   "metadata": {},
   "source": [
    "#### 2.1.1 Alignment between stereoseq sample and embryo1 l2"
   ]
  },
  {
   "cell_type": "markdown",
   "id": "fcaede4a",
   "metadata": {},
   "source": [
    "````\n",
    "~/miniconda2/envs/cytospace/bin/cytospace --scRNA-path ./cytospace/embryo1_l2_stereoseq_test_geneExp.txt \\\n",
    "--cell-type-path ./cytospace/embryo1_l2_stereoseq_test_cellTypes.txt \\\n",
    "--st-path ./cytospace/stereoseq_train_geneExp.txt \\\n",
    "--coordinates-path ./cytospace/stereoseq_train_coordinates.txt \\\n",
    "-sm lap_CSPR --number-of-processor 16 -op stereoseq_embryo1_l2 -o ./cytospace\n",
    "````"
   ]
  },
  {
   "cell_type": "markdown",
   "id": "e784d202",
   "metadata": {},
   "source": [
    "#### 2.1.2 Alignment between stereoseq sample and embryo2 l2"
   ]
  },
  {
   "cell_type": "markdown",
   "id": "277826cc",
   "metadata": {},
   "source": [
    "````\n",
    "~/miniconda2/envs/cytospace/bin/cytospace --scRNA-path ./cytospace/embryo2_l2_stereoseq_test_geneExp.txt \\\n",
    "--cell-type-path ./cytospace/embryo2_l2_stereoseq_test_cellTypes.txt \\\n",
    "--st-path ./cytospace/stereoseq_train_geneExp.txt \\\n",
    "--coordinates-path ./cytospace/stereoseq_train_coordinates.txt \\\n",
    "-sm lap_CSPR --number-of-processor 16 -op stereoseq_embryo2_l2 -o ./cytospace\n",
    "````"
   ]
  },
  {
   "cell_type": "markdown",
   "id": "833fd247",
   "metadata": {},
   "source": [
    "#### 2.1.3 Alignment between stereoseq sample and embryo3 l2\n"
   ]
  },
  {
   "cell_type": "markdown",
   "id": "2d0cfcde",
   "metadata": {},
   "source": [
    "````\n",
    "~/miniconda2/envs/cytospace/bin/cytospace --scRNA-path ./cytospace/embryo3_l2_stereoseq_test_geneExp.txt \\\n",
    "--cell-type-path ./cytospace/embryo3_l2_stereoseq_test_cellTypes.txt \\\n",
    "--st-path ./cytospace/stereoseq_train_geneExp.txt \\\n",
    "--coordinates-path ./cytospace/stereoseq_train_coordinates.txt \\\n",
    "-sm lap_CSPR --number-of-processor 16 -op stereoseq_embryo3_l2 -o ./cytospace\n",
    "````"
   ]
  },
  {
   "cell_type": "markdown",
   "id": "31c75bdc",
   "metadata": {},
   "source": [
    "### 2.2 Performing evaluations\n"
   ]
  },
  {
   "cell_type": "code",
   "execution_count": 146,
   "id": "4256ca3a",
   "metadata": {},
   "outputs": [
    {
     "name": "stderr",
     "output_type": "stream",
     "text": [
      "INFO:root:Evaluation for embryo1_l2\n",
      "100%|███████████████████████████████████████████████████████████████████████████████████████████████████████████| 7656/7656 [00:16<00:00, 462.08it/s]\n",
      "INFO:root:Evaluation for embryo2_l2\n",
      "100%|███████████████████████████████████████████████████████████████████████████████████████████████████████████| 6521/6521 [00:12<00:00, 507.66it/s]\n",
      "INFO:root:Evaluation for embryo3_l2\n",
      "100%|███████████████████████████████████████████████████████████████████████████████████████████████████████████| 9401/9401 [00:23<00:00, 401.93it/s]\n"
     ]
    }
   ],
   "source": [
    "\n",
    "neighbor_hit_res = {'Dataset':[],'K nearest neighbor':[],'Average hit number':[]}\n",
    "JSD_spearman_res = {'Dataset':[],'Average JSD':[],\"Average spearman's rank correlation coefficient\":[]}\n",
    "res_summary_all   = {\"Dataset\":[],\"Cell type\":[],\"Average JSD\":[],\"Average spearman\":[]}\n",
    "\n",
    "for test_name in test_adata_list:\n",
    "    cur_test_adata = test_adata_list[test_name]\n",
    "    \n",
    "    logging.info(\"Evaluation for \"+test_name)\n",
    "    \n",
    "    cur_result_path = os.path.join(SAVE_ROOT,\"stereoseq_\"+test_name+\"assigned_locations.csv\")\n",
    "\n",
    "    cur_result_data = pd.read_csv(cur_result_path).drop_duplicates(subset=['OriginalCID']).set_index(\"OriginalCID\")\n",
    "    predicted_coor,cur_truth_coor,cur_truth_cell_types = getResults(cur_test_adata,cur_result_data)\n",
    "    \n",
    "    predicted_distances =  cdist(predicted_coor, predicted_coor)\n",
    "    predicted_sorted_ind = np.argsort(predicted_distances)\n",
    "    \n",
    "    truth_distances =  cdist(cur_truth_coor, cur_truth_coor)\n",
    "    truth_sorted_ind = np.argsort(truth_distances)\n",
    "    \n",
    "    # neighbor hit\n",
    "    cur_neighbor_res,cur_average_neighbor_res = utils.calNeiborHit(truth_sorted_ind,predicted_sorted_ind)\n",
    "    neighbor_hit_res['Dataset'].extend([test_name]*10)\n",
    "    neighbor_hit_res['K nearest neighbor'].extend(cur_average_neighbor_res['K nearest neighbor'])\n",
    "    neighbor_hit_res['Average hit number'].extend(cur_average_neighbor_res['Average hit number'])\n",
    "    \n",
    "    # JSD\n",
    "    cur_jsd_list = utils.calJSD(truth_sorted_ind,predicted_sorted_ind,cur_truth_cell_types,neighbor_num=20)\n",
    "    \n",
    "    # Spearman rank correlation\n",
    "    spearman_corr_list,spearman_p_list = utils.calSpearmanRank(predicted_distances,truth_distances)\n",
    "    \n",
    "    JSD_spearman_res['Dataset'].append(test_name)\n",
    "    JSD_spearman_res['Average JSD'].append(np.mean(cur_jsd_list))\n",
    "    JSD_spearman_res[\"Average spearman's rank correlation coefficient\"].append(np.mean(spearman_corr_list))\n",
    "    \n",
    "    res_summary_all['Dataset'].extend([test_name]*len(cur_truth_cell_types))\n",
    "    res_summary_all['Cell type'].extend(cur_truth_cell_types)\n",
    "    res_summary_all['Average JSD'].extend(cur_jsd_list)\n",
    "    res_summary_all['Average spearman'].extend(spearman_corr_list)\n",
    "    \n",
    "\n",
    "neighbor_hit_res = pd.DataFrame(neighbor_hit_res)\n",
    "JSD_spearman_res = pd.DataFrame(JSD_spearman_res)\n",
    "res_summary_all = pd.DataFrame(res_summary_all)"
   ]
  },
  {
   "cell_type": "code",
   "execution_count": 147,
   "id": "5042e83e",
   "metadata": {},
   "outputs": [],
   "source": [
    "res_summary_all.to_csv(\"results/cytospace_mouse_stereoseq_ref.csv\")"
   ]
  },
  {
   "cell_type": "markdown",
   "id": "6fcfb618",
   "metadata": {},
   "source": [
    "### 2.3. Benchmarking results\n"
   ]
  },
  {
   "cell_type": "markdown",
   "id": "8f5a9b01",
   "metadata": {},
   "source": [
    "#### 2.3.1 Nearest neighbor hit"
   ]
  },
  {
   "cell_type": "code",
   "execution_count": 148,
   "id": "c36937e9",
   "metadata": {},
   "outputs": [
    {
     "data": {
      "text/plain": [
       "<Axes: xlabel='K nearest neighbor', ylabel='Average hit number'>"
      ]
     },
     "execution_count": 148,
     "metadata": {},
     "output_type": "execute_result"
    },
    {
     "data": {
      "image/png": "[encoded data removed]",
      "text/plain": [
       "<Figure size 640x480 with 1 Axes>"
      ]
     },
     "metadata": {},
     "output_type": "display_data"
    }
   ],
   "source": [
    "sns.set_style('whitegrid')\n",
    "sns.lineplot(data=neighbor_hit_res,x=\"K nearest neighbor\",y=\"Average hit number\",hue=\"Dataset\",markers=True,style='Dataset',\\\n",
    "             dashes=False,linewidth=2)"
   ]
  },
  {
   "cell_type": "markdown",
   "id": "a6292dc4",
   "metadata": {},
   "source": [
    "#### 2.3.2 Average JSD and spearman's rank correlation coefficient"
   ]
  },
  {
   "cell_type": "code",
   "execution_count": 149,
   "id": "e559bf15",
   "metadata": {},
   "outputs": [
    {
     "data": {
      "text/html": [
       "<div>\n",
       "<style scoped>\n",
       "    .dataframe tbody tr th:only-of-type {\n",
       "        vertical-align: middle;\n",
       "    }\n",
       "\n",
       "    .dataframe tbody tr th {\n",
       "        vertical-align: top;\n",
       "    }\n",
       "\n",
       "    .dataframe thead th {\n",
       "        text-align: right;\n",
       "    }\n",
       "</style>\n",
       "<table border=\"1\" class=\"dataframe\">\n",
       "  <thead>\n",
       "    <tr style=\"text-align: right;\">\n",
       "      <th></th>\n",
       "      <th>Dataset</th>\n",
       "      <th>Average JSD</th>\n",
       "      <th>Average spearman's rank correlation coefficient</th>\n",
       "    </tr>\n",
       "  </thead>\n",
       "  <tbody>\n",
       "    <tr>\n",
       "      <th>0</th>\n",
       "      <td>embryo1_l2</td>\n",
       "      <td>0.594813</td>\n",
       "      <td>0.077875</td>\n",
       "    </tr>\n",
       "    <tr>\n",
       "      <th>1</th>\n",
       "      <td>embryo2_l2</td>\n",
       "      <td>0.521585</td>\n",
       "      <td>0.138689</td>\n",
       "    </tr>\n",
       "    <tr>\n",
       "      <th>2</th>\n",
       "      <td>embryo3_l2</td>\n",
       "      <td>0.594941</td>\n",
       "      <td>0.087287</td>\n",
       "    </tr>\n",
       "  </tbody>\n",
       "</table>\n",
       "</div>"
      ],
      "text/plain": [
       "      Dataset  Average JSD  Average spearman's rank correlation coefficient\n",
       "0  embryo1_l2     0.594813                                         0.077875\n",
       "1  embryo2_l2     0.521585                                         0.138689\n",
       "2  embryo3_l2     0.594941                                         0.087287"
      ]
     },
     "metadata": {},
     "output_type": "display_data"
    }
   ],
   "source": [
    "display(JSD_spearman_res)"
   ]
  },
  {
   "cell_type": "markdown",
   "id": "a5abd05e",
   "metadata": {},
   "source": [
    "## 3. Spatial location inference across platforms: human breast cancer datasets"
   ]
  },
  {
   "cell_type": "markdown",
   "id": "ec40b20c",
   "metadata": {},
   "source": [
    "### 3.1 Performing alignment and evaluation\n"
   ]
  },
  {
   "cell_type": "markdown",
   "id": "625e6815",
   "metadata": {},
   "source": [
    "#### 3.1.1 Alignment between  human breast sample S06 and S08"
   ]
  },
  {
   "cell_type": "markdown",
   "id": "d1c89f5a",
   "metadata": {},
   "source": [
    "````\n",
    "cytospace --scRNA-path ./cytospace/human_breast_test_geneExp.txt \\\n",
    "--cell-type-path ./cytospace/human_breast_test_cellTypes.txt \\\n",
    "--st-path ./cytospace/human_breast_train_geneExp.txt  \\\n",
    "--coordinates-path ./cytospace/human_breast_train_coordinates.txt \\\n",
    "-sm lap_CSPR --number-of-processor 16 -op human_breast_cancer -o ./cytospace/\n",
    "````"
   ]
  },
  {
   "cell_type": "markdown",
   "id": "a226c2f3",
   "metadata": {},
   "source": [
    "### 3.2 Performing evaluation"
   ]
  },
  {
   "cell_type": "code",
   "execution_count": 156,
   "id": "52c883aa",
   "metadata": {},
   "outputs": [
    {
     "name": "stderr",
     "output_type": "stream",
     "text": [
      "INFO:root:Evaluation for 10X visium S08\n",
      "100%|███████████████████████████████████████████████████████████████████████████████████████████████████████████| 2801/2801 [00:03<00:00, 796.81it/s]\n"
     ]
    }
   ],
   "source": [
    "neighbor_hit_res = {'Dataset':[],'K nearest neighbor':[],'Average hit number':[]}\n",
    "JSD_spearman_res = {'Dataset':[],'Average JSD':[],\"Average spearman's rank correlation coefficient\":[]}\n",
    "res_summary_all   = {\"Dataset\":[],\"Cell type\":[],\"Average JSD\":[],\"Average spearman\":[]}\n",
    "\n",
    "test_name = \"10X visium S08\"\n",
    "cur_test_adata = adata_q\n",
    "    \n",
    "logging.info(\"Evaluation for \"+test_name)\n",
    "    \n",
    "cur_result_path = os.path.join(SAVE_ROOT,\"human_breast_cancerassigned_locations.csv\")\n",
    "\n",
    "cur_result_data = pd.read_csv(cur_result_path).drop_duplicates(subset=['OriginalCID']).set_index(\"OriginalCID\")\n",
    "predicted_coor,cur_truth_coor,cur_truth_cell_types = getResults(cur_test_adata,cur_result_data)\n",
    "    \n",
    "predicted_distances =  cdist(predicted_coor, predicted_coor)\n",
    "predicted_sorted_ind = np.argsort(predicted_distances)\n",
    "    \n",
    "truth_distances =  cdist(cur_truth_coor, cur_truth_coor)\n",
    "truth_sorted_ind = np.argsort(truth_distances)\n",
    "    \n",
    "# neighbor hit\n",
    "cur_neighbor_res,cur_average_neighbor_res = utils.calNeiborHit(truth_sorted_ind,predicted_sorted_ind)\n",
    "neighbor_hit_res['Dataset'].extend([test_name]*10)\n",
    "neighbor_hit_res['K nearest neighbor'].extend(cur_average_neighbor_res['K nearest neighbor'])\n",
    "neighbor_hit_res['Average hit number'].extend(cur_average_neighbor_res['Average hit number'])\n",
    "    \n",
    "# JSD\n",
    "cur_jsd_list = utils.calJSD(truth_sorted_ind,predicted_sorted_ind,cur_truth_cell_types,neighbor_num=20)\n",
    "    \n",
    "# Spearman rank correlation\n",
    "spearman_corr_list,spearman_p_list = utils.calSpearmanRank(predicted_distances,truth_distances)\n",
    "    \n",
    "JSD_spearman_res['Dataset'].append(test_name)\n",
    "JSD_spearman_res['Average JSD'].append(np.mean(cur_jsd_list))\n",
    "JSD_spearman_res[\"Average spearman's rank correlation coefficient\"].append(np.mean(spearman_corr_list))\n",
    "    \n",
    "res_summary_all['Dataset'].extend([test_name]*len(cur_truth_cell_types))\n",
    "res_summary_all['Cell type'].extend(cur_truth_cell_types)\n",
    "res_summary_all['Average JSD'].extend(cur_jsd_list)\n",
    "res_summary_all['Average spearman'].extend(spearman_corr_list)\n",
    "    \n",
    "\n",
    "neighbor_hit_res = pd.DataFrame(neighbor_hit_res)\n",
    "JSD_spearman_res = pd.DataFrame(JSD_spearman_res)\n",
    "res_summary_all = pd.DataFrame(res_summary_all)"
   ]
  },
  {
   "cell_type": "code",
   "execution_count": 159,
   "id": "8047999f",
   "metadata": {},
   "outputs": [],
   "source": [
    "res_summary_all.to_csv(\"results/cytospace_human_breast.csv\")"
   ]
  },
  {
   "cell_type": "markdown",
   "id": "2dd7756a",
   "metadata": {},
   "source": [
    "### 3.3 Benchmarking results\n"
   ]
  },
  {
   "cell_type": "markdown",
   "id": "af59202b",
   "metadata": {},
   "source": [
    "#### 3.3.1 Nearest neighbor hit"
   ]
  },
  {
   "cell_type": "code",
   "execution_count": 160,
   "id": "6e6eaaf2",
   "metadata": {},
   "outputs": [
    {
     "data": {
      "text/plain": [
       "<Axes: xlabel='K nearest neighbor', ylabel='Average hit number'>"
      ]
     },
     "execution_count": 160,
     "metadata": {},
     "output_type": "execute_result"
    },
    {
     "data": {
      "image/png": "[encoded data removed]",
      "text/plain": [
       "<Figure size 640x480 with 1 Axes>"
      ]
     },
     "metadata": {},
     "output_type": "display_data"
    }
   ],
   "source": [
    "sns.set_style('whitegrid')\n",
    "sns.lineplot(data=neighbor_hit_res,x=\"K nearest neighbor\",y=\"Average hit number\",hue=\"Dataset\",markers=True,style='Dataset',\\\n",
    "             dashes=False,linewidth=2)"
   ]
  },
  {
   "cell_type": "markdown",
   "id": "6bc4eee2",
   "metadata": {},
   "source": [
    "#### 3.3.2 Average JSD and spearman's rank correlation coefficient"
   ]
  },
  {
   "cell_type": "code",
   "execution_count": 161,
   "id": "301a5739",
   "metadata": {},
   "outputs": [
    {
     "data": {
      "text/html": [
       "<div>\n",
       "<style scoped>\n",
       "    .dataframe tbody tr th:only-of-type {\n",
       "        vertical-align: middle;\n",
       "    }\n",
       "\n",
       "    .dataframe tbody tr th {\n",
       "        vertical-align: top;\n",
       "    }\n",
       "\n",
       "    .dataframe thead th {\n",
       "        text-align: right;\n",
       "    }\n",
       "</style>\n",
       "<table border=\"1\" class=\"dataframe\">\n",
       "  <thead>\n",
       "    <tr style=\"text-align: right;\">\n",
       "      <th></th>\n",
       "      <th>Dataset</th>\n",
       "      <th>Average JSD</th>\n",
       "      <th>Average spearman's rank correlation coefficient</th>\n",
       "    </tr>\n",
       "  </thead>\n",
       "  <tbody>\n",
       "    <tr>\n",
       "      <th>0</th>\n",
       "      <td>10X visium S08</td>\n",
       "      <td>0.430659</td>\n",
       "      <td>0.032598</td>\n",
       "    </tr>\n",
       "  </tbody>\n",
       "</table>\n",
       "</div>"
      ],
      "text/plain": [
       "          Dataset  Average JSD  \\\n",
       "0  10X visium S08     0.430659   \n",
       "\n",
       "   Average spearman's rank correlation coefficient  \n",
       "0                                         0.032598  "
      ]
     },
     "metadata": {},
     "output_type": "display_data"
    }
   ],
   "source": [
    "display(JSD_spearman_res)"
   ]
  },
  {
   "cell_type": "code",
   "execution_count": null,
   "id": "ccf519f0",
   "metadata": {},
   "outputs": [],
   "source": []
  }
 ],
 "metadata": {
  "kernelspec": {
   "display_name": "CeLEryPy",
   "language": "python",
   "name": "celerypy"
  },
  "language_info": {
   "codemirror_mode": {
    "name": "ipython",
    "version": 3
   },
   "file_extension": ".py",
   "mimetype": "text/x-python",
   "name": "python",
   "nbconvert_exporter": "python",
   "pygments_lexer": "ipython3",
   "version": "3.9.16"
  }
 },
 "nbformat": 4,
 "nbformat_minor": 5
}
