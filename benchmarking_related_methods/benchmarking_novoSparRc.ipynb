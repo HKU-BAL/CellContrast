{
 "cells": [
  {
   "cell_type": "markdown",
   "id": "6f39dbc5",
   "metadata": {},
   "source": [
    "# Benchmarking scripts for novoSpaRc"
   ]
  },
  {
   "cell_type": "markdown",
   "id": "a2de509b",
   "metadata": {},
   "source": [
    "## Intallation of the running environment"
   ]
  },
  {
   "cell_type": "markdown",
   "id": "756d133f",
   "metadata": {},
   "source": [
    "* Install the envrioment of novoSpaRC based on the instructions: https://github.com/rajewsky-lab/novosparc"
   ]
  },
  {
   "cell_type": "code",
   "execution_count": 4,
   "id": "d1505ba5",
   "metadata": {},
   "outputs": [],
   "source": [
    "import novosparc\n",
    "import os\n",
    "import numpy as np\n",
    "import pandas as pd\n",
    "import scanpy as sc\n",
    "from scipy.sparse import issparse\n",
    "import logging\n",
    "from scipy.spatial.distance import cdist\n",
    "import seaborn as sns\n",
    "logging.getLogger().setLevel(logging.INFO)\n",
    "import utils\n",
    "\n",
    "import random\n",
    "random.seed(0)"
   ]
  },
  {
   "cell_type": "markdown",
   "id": "95814a71",
   "metadata": {},
   "source": [
    "## Utilized functions"
   ]
  },
  {
   "cell_type": "code",
   "execution_count": 5,
   "id": "dc14511d",
   "metadata": {},
   "outputs": [],
   "source": [
    "def reconstruct(ref_adata,query_adata):\n",
    "    \n",
    "    if(issparse(ref_adata.X)):\n",
    "        ref_adata.X = np.asarray(ref_adata.X.todense())\n",
    "        \n",
    "    if(issparse(query_adata.X)):\n",
    "        print(\"test data sparse to dense\")\n",
    "        query_adata.X = np.asarray(query_adata.X.todense())\n",
    "    \n",
    "    dataset = query_adata\n",
    "    gene_names = query_adata.var_names\n",
    "    num_cells, num_genes = dataset.shape\n",
    "    \n",
    "    sc.pp.highly_variable_genes(ref_adata)\n",
    "    is_var_gene = ref_adata.var['highly_variable']\n",
    "    var_genes  = list(is_var_gene.index[is_var_gene])\n",
    "    dge_rep = ref_adata.to_df()[var_genes]\n",
    "    atlas_genes = var_genes\n",
    "    \n",
    "    num_locations = num_cells\n",
    "    locations =  np.column_stack((ref_adata.obs['x'].values,ref_adata.obs['y'].values))\n",
    "    \n",
    "    train_index = list(range(locations.shape[0]))\n",
    "    random.shuffle(train_index)\n",
    "    random_selected_index = train_index[:num_locations]\n",
    "    locations_apriori  = locations[random_selected_index]\n",
    "    locations = locations_apriori\n",
    "    \n",
    "    atlas = ref_adata[random_selected_index,:]\n",
    "    num_neighbors_s = num_neighbors_t = 5\n",
    "    tissue = novosparc.cm.Tissue(dataset=dataset, locations=locations, output_folder=\"./\")\n",
    "    \n",
    "    markers = list(set(atlas_genes).intersection(gene_names))\n",
    "    atlas_matrix = atlas.to_df()[markers].values\n",
    "    markers_idx = pd.DataFrame({'markers_idx': np.arange(num_genes)}, index=gene_names)\n",
    "    markers_to_use = np.concatenate(markers_idx.loc[markers].values)\n",
    "    \n",
    "    tissue.setup_reconstruction(atlas_matrix=atlas_matrix, \n",
    "                            markers_to_use=markers_to_use, \n",
    "                            num_neighbors_s=num_neighbors_s, \n",
    "                            num_neighbors_t=num_neighbors_t)\n",
    "    \n",
    "    alpha_linear = 0.8\n",
    "    epsilon = 5e-3\n",
    "    tissue.reconstruct(alpha_linear=alpha_linear, epsilon=epsilon)\n",
    "    \n",
    "    sdge = tissue.sdge\n",
    "    dataset_reconst = sc.AnnData(pd.DataFrame(sdge.T, columns=gene_names))\n",
    "    dataset_reconst.obsm['spatial'] = locations\n",
    "    gw = tissue.gw\n",
    "    return gw,locations\n",
    "\n",
    "    \n",
    "    pass"
   ]
  },
  {
   "cell_type": "code",
   "execution_count": 6,
   "id": "227c7817",
   "metadata": {},
   "outputs": [],
   "source": [
    "def getLocations(predefined_locations, predict_probs):\n",
    "    \n",
    "    predicted_coors = []\n",
    "    \n",
    "    for i,cur_probs in enumerate(predict_probs):\n",
    "        \n",
    "        cur_max_coor_idx = np.argmax(cur_probs)\n",
    "        cur_predict_coor = predefined_locations[cur_max_coor_idx]\n",
    "        predicted_coors.append(cur_predict_coor)\n",
    "        \n",
    "    \n",
    "    return np.asarray(predicted_coors)\n",
    "    \n",
    "    "
   ]
  },
  {
   "cell_type": "markdown",
   "id": "4f2bc39e",
   "metadata": {},
   "source": [
    "## 1. Spatial reconstruction of mouse gastrulation cells using single-cell resolution ST reference"
   ]
  },
  {
   "cell_type": "markdown",
   "id": "39b16690",
   "metadata": {},
   "source": [
    "### 1.1 Load data\n"
   ]
  },
  {
   "cell_type": "code",
   "execution_count": 4,
   "id": "4f00ad53",
   "metadata": {},
   "outputs": [
    {
     "name": "stdout",
     "output_type": "stream",
     "text": [
      "(10150, 351) (7656, 351) (6524, 351) (9408, 351)\n"
     ]
    }
   ],
   "source": [
    "DATA_ROOT = \"../benchmarking_data\"\n",
    "\n",
    "embryo1_l1 = sc.read_h5ad(os.path.join(DATA_ROOT,\"seqFISH_embryo1_l1.h5ad\"))\n",
    "embryo1_l2 = sc.read_h5ad(os.path.join(DATA_ROOT,\"seqFISH_embryo1_l2.h5ad\"))\n",
    "embryo2_l2 = sc.read_h5ad(os.path.join(DATA_ROOT,\"seqFISH_embryo2_l2.h5ad\"))\n",
    "embryo3_l2 = sc.read_h5ad(os.path.join(DATA_ROOT,\"seqFISH_embryo3_l2.h5ad\"))\n",
    "\n",
    "print(embryo1_l1.shape,embryo1_l2.shape,embryo2_l2.shape,embryo3_l2.shape)"
   ]
  },
  {
   "cell_type": "markdown",
   "id": "2e2caf31",
   "metadata": {},
   "source": [
    "### 1.2 Reconstruct and evaluation\n"
   ]
  },
  {
   "cell_type": "code",
   "execution_count": 20,
   "id": "3af9425c",
   "metadata": {},
   "outputs": [
    {
     "name": "stderr",
     "output_type": "stream",
     "text": [
      "INFO:root:Aligning data for embryo1_l2\n"
     ]
    },
    {
     "name": "stdout",
     "output_type": "stream",
     "text": [
      "cell_expression.shape (7656, 95) atlas_expression.shape (7656, 95) markers_metric.shape minkowski markers_metric_p.shape 2\n",
      "type(cell_expression) <class 'numpy.ndarray'>\n",
      "Setting up for reconstruction ... done ( 38.19 seconds )\n",
      "Reconstructing spatial information with 95 markers: 7656 cells and 7656 locations ... \n",
      "Trying with epsilon: 5.00e-03\n"
     ]
    },
    {
     "name": "stderr",
     "output_type": "stream",
     "text": [
      "/home/smli/miniconda2/envs/pytorch/lib/python3.9/site-packages/ot/bregman.py:535: UserWarning: Sinkhorn did not converge. You might want to increase the number of iterations `numItermax` or the regularization parameter `reg`.\n",
      "  warnings.warn(\"Sinkhorn did not converge. You might want to \"\n",
      "/home/smli/miniconda2/envs/pytorch/lib/python3.9/site-packages/anndata/_core/anndata.py:117: ImplicitModificationWarning: Transforming to str index.\n",
      "  warnings.warn(\"Transforming to str index.\", ImplicitModificationWarning)\n",
      "INFO:root:Aligning DONE\n",
      "100%|███████████████████████████████████████████████████████████████████████████████████████████████████████████| 7656/7656 [00:18<00:00, 411.84it/s]\n",
      "INFO:root:Aligning data for embryo2_l2\n"
     ]
    },
    {
     "name": "stdout",
     "output_type": "stream",
     "text": [
      "cell_expression.shape (6524, 95) atlas_expression.shape (6524, 95) markers_metric.shape minkowski markers_metric_p.shape 2\n",
      "type(cell_expression) <class 'numpy.ndarray'>\n",
      "Setting up for reconstruction ... done ( 27.41 seconds )\n",
      "Reconstructing spatial information with 95 markers: 6524 cells and 6524 locations ... \n",
      "Trying with epsilon: 5.00e-03\n"
     ]
    },
    {
     "name": "stderr",
     "output_type": "stream",
     "text": [
      "/home/smli/miniconda2/envs/pytorch/lib/python3.9/site-packages/ot/bregman.py:535: UserWarning: Sinkhorn did not converge. You might want to increase the number of iterations `numItermax` or the regularization parameter `reg`.\n",
      "  warnings.warn(\"Sinkhorn did not converge. You might want to \"\n",
      "/home/smli/miniconda2/envs/pytorch/lib/python3.9/site-packages/anndata/_core/anndata.py:117: ImplicitModificationWarning: Transforming to str index.\n",
      "  warnings.warn(\"Transforming to str index.\", ImplicitModificationWarning)\n",
      "INFO:root:Aligning DONE\n",
      "100%|███████████████████████████████████████████████████████████████████████████████████████████████████████████| 6524/6524 [00:14<00:00, 449.58it/s]\n",
      "INFO:root:Aligning data for embryo3_l2\n"
     ]
    },
    {
     "name": "stdout",
     "output_type": "stream",
     "text": [
      "cell_expression.shape (9408, 95) atlas_expression.shape (9408, 95) markers_metric.shape minkowski markers_metric_p.shape 2\n",
      "type(cell_expression) <class 'numpy.ndarray'>\n",
      "Setting up for reconstruction ... done ( 60.62 seconds )\n",
      "Reconstructing spatial information with 95 markers: 9408 cells and 9408 locations ... \n",
      "Trying with epsilon: 5.00e-03\n"
     ]
    },
    {
     "name": "stderr",
     "output_type": "stream",
     "text": [
      "/home/smli/miniconda2/envs/pytorch/lib/python3.9/site-packages/ot/bregman.py:535: UserWarning: Sinkhorn did not converge. You might want to increase the number of iterations `numItermax` or the regularization parameter `reg`.\n",
      "  warnings.warn(\"Sinkhorn did not converge. You might want to \"\n",
      "/home/smli/miniconda2/envs/pytorch/lib/python3.9/site-packages/anndata/_core/anndata.py:117: ImplicitModificationWarning: Transforming to str index.\n",
      "  warnings.warn(\"Transforming to str index.\", ImplicitModificationWarning)\n",
      "INFO:root:Aligning DONE\n",
      "100%|███████████████████████████████████████████████████████████████████████████████████████████████████████████| 9408/9408 [00:26<00:00, 352.68it/s]\n"
     ]
    }
   ],
   "source": [
    "test_adata_list = {\"embryo1_l2\":embryo1_l2,\"embryo2_l2\":embryo2_l2,\"embryo3_l2\":embryo3_l2}\n",
    "# set reference data\n",
    "ref_adata = embryo1_l1\n",
    "\n",
    "neighbor_hit_res = {'Dataset':[],'K nearest neighbor':[],'Average hit number':[]}\n",
    "JSD_spearman_res = {'Dataset':[],'Average JSD':[],\"Average spearman's rank correlation coefficient\":[]}\n",
    "res_summary_all   = {\"Dataset\":[],\"Cell type\":[],\"Average JSD\":[],\"Average spearman\":[]}\n",
    "\n",
    "for test_name in test_adata_list:\n",
    "    cur_test_adata = test_adata_list[test_name]\n",
    "    cur_truth_coor = np.column_stack((cur_test_adata.obs['x'].values,cur_test_adata.obs['y'].values))\n",
    "    \n",
    "    logging.info(\"Aligning data for \"+test_name)\n",
    "    query_adata = cur_test_adata\n",
    "    predict_probs,predefined_locations = reconstruct(ref_adata,query_adata)\n",
    "    predicted_coor = getLocations(predefined_locations, predict_probs)\n",
    "    logging.info(\"Aligning DONE\")\n",
    "    \n",
    "    predicted_distances =  cdist(predicted_coor, predicted_coor)\n",
    "    predicted_sorted_ind = np.argsort(predicted_distances)\n",
    "    \n",
    "    truth_distances =  cdist(cur_truth_coor, cur_truth_coor)\n",
    "    truth_sorted_ind = np.argsort(truth_distances)\n",
    "    \n",
    "    # neighbor hit\n",
    "    cur_neighbor_res,cur_average_neighbor_res = utils.calNeiborHit(truth_sorted_ind,predicted_sorted_ind)\n",
    "    neighbor_hit_res['Dataset'].extend([test_name]*10)\n",
    "    neighbor_hit_res['K nearest neighbor'].extend(cur_average_neighbor_res['K nearest neighbor'])\n",
    "    neighbor_hit_res['Average hit number'].extend(cur_average_neighbor_res['Average hit number'])\n",
    "    \n",
    "    # JSD\n",
    "    cur_truth_cell_types = cur_test_adata.obs['cell_type'].values\n",
    "    cur_jsd_list = utils.calJSD(truth_sorted_ind,predicted_sorted_ind,cur_truth_cell_types,neighbor_num=20)\n",
    "    \n",
    "    # Spearman rank correlation\n",
    "    spearman_corr_list,spearman_p_list = utils.calSpearmanRank(predicted_distances,truth_distances)\n",
    "    \n",
    "    JSD_spearman_res['Dataset'].append(test_name)\n",
    "    JSD_spearman_res['Average JSD'].append(np.mean(cur_jsd_list))\n",
    "    JSD_spearman_res[\"Average spearman's rank correlation coefficient\"].append(np.mean(spearman_corr_list))\n",
    "    \n",
    "    res_summary_all['Dataset'].extend([test_name]*len(cur_truth_cell_types))\n",
    "    res_summary_all['Cell type'].extend(cur_truth_cell_types)\n",
    "    res_summary_all['Average JSD'].extend(cur_jsd_list)\n",
    "    res_summary_all['Average spearman'].extend(spearman_corr_list)\n",
    "\n",
    "\n",
    "neighbor_hit_res = pd.DataFrame(neighbor_hit_res)\n",
    "JSD_spearman_res = pd.DataFrame(JSD_spearman_res)\n",
    "res_summary_all = pd.DataFrame(res_summary_all)"
   ]
  },
  {
   "cell_type": "code",
   "execution_count": 21,
   "id": "ce106cae",
   "metadata": {},
   "outputs": [],
   "source": [
    "res_summary_all.to_csv(\"results/novosparc_mouse_single_cell_ref.csv\")"
   ]
  },
  {
   "cell_type": "markdown",
   "id": "b3ea7e7e",
   "metadata": {},
   "source": [
    "### 1.3 Benchmarking results"
   ]
  },
  {
   "cell_type": "markdown",
   "id": "e2d0af9c",
   "metadata": {},
   "source": [
    "#### 1.3.1 Neighbor hit"
   ]
  },
  {
   "cell_type": "code",
   "execution_count": 22,
   "id": "d3334c7d",
   "metadata": {},
   "outputs": [
    {
     "data": {
      "text/plain": [
       "<AxesSubplot: xlabel='K nearest neighbor', ylabel='Average hit number'>"
      ]
     },
     "execution_count": 22,
     "metadata": {},
     "output_type": "execute_result"
    },
    {
     "data": {
      "image/png": "[encoded data removed]",
      "text/plain": [
       "<Figure size 640x480 with 1 Axes>"
      ]
     },
     "metadata": {},
     "output_type": "display_data"
    }
   ],
   "source": [
    "sns.set_style('whitegrid')\n",
    "sns.lineplot(data=neighbor_hit_res,x=\"K nearest neighbor\",y=\"Average hit number\",hue=\"Dataset\",markers=True,style='Dataset',\\\n",
    "             dashes=False,linewidth=2)"
   ]
  },
  {
   "cell_type": "markdown",
   "id": "351d41b9",
   "metadata": {},
   "source": [
    "#### 1.3.2 Average JSD and  spearman's rank correlation coefficient"
   ]
  },
  {
   "cell_type": "code",
   "execution_count": 23,
   "id": "519e234d",
   "metadata": {},
   "outputs": [
    {
     "data": {
      "text/html": [
       "<div>\n",
       "<style scoped>\n",
       "    .dataframe tbody tr th:only-of-type {\n",
       "        vertical-align: middle;\n",
       "    }\n",
       "\n",
       "    .dataframe tbody tr th {\n",
       "        vertical-align: top;\n",
       "    }\n",
       "\n",
       "    .dataframe thead th {\n",
       "        text-align: right;\n",
       "    }\n",
       "</style>\n",
       "<table border=\"1\" class=\"dataframe\">\n",
       "  <thead>\n",
       "    <tr style=\"text-align: right;\">\n",
       "      <th></th>\n",
       "      <th>Dataset</th>\n",
       "      <th>Average JSD</th>\n",
       "      <th>Average spearman's rank correlation coefficient</th>\n",
       "    </tr>\n",
       "  </thead>\n",
       "  <tbody>\n",
       "    <tr>\n",
       "      <th>0</th>\n",
       "      <td>embryo1_l2</td>\n",
       "      <td>0.417052</td>\n",
       "      <td>0.470905</td>\n",
       "    </tr>\n",
       "    <tr>\n",
       "      <th>1</th>\n",
       "      <td>embryo2_l2</td>\n",
       "      <td>0.434477</td>\n",
       "      <td>0.162065</td>\n",
       "    </tr>\n",
       "    <tr>\n",
       "      <th>2</th>\n",
       "      <td>embryo3_l2</td>\n",
       "      <td>0.521769</td>\n",
       "      <td>0.198829</td>\n",
       "    </tr>\n",
       "  </tbody>\n",
       "</table>\n",
       "</div>"
      ],
      "text/plain": [
       "      Dataset  Average JSD  Average spearman's rank correlation coefficient\n",
       "0  embryo1_l2     0.417052                                         0.470905\n",
       "1  embryo2_l2     0.434477                                         0.162065\n",
       "2  embryo3_l2     0.521769                                         0.198829"
      ]
     },
     "metadata": {},
     "output_type": "display_data"
    }
   ],
   "source": [
    "display(JSD_spearman_res)"
   ]
  },
  {
   "cell_type": "markdown",
   "id": "8b19c2b9",
   "metadata": {},
   "source": [
    "## 2. Spatial location inference across platforms: mouse gastrulation datasets\n"
   ]
  },
  {
   "cell_type": "markdown",
   "id": "3f68c2c9",
   "metadata": {},
   "source": [
    "## 2.1 Load data"
   ]
  },
  {
   "cell_type": "code",
   "execution_count": 25,
   "id": "0039388a",
   "metadata": {},
   "outputs": [],
   "source": [
    "# Please modify the data path as needed\n",
    "DATA_ROOT = \"../benchmarking_data\"\n",
    "stereoseq_E2S1 = sc.read_h5ad(os.path.join(DATA_ROOT,\"stereoseq_E2S1.h5ad\"))\n",
    "embryo1_l2 = sc.read_h5ad(os.path.join(DATA_ROOT,\"seqFISH_embryo1_l2.h5ad\"))\n",
    "embryo2_l2 = sc.read_h5ad(os.path.join(DATA_ROOT,\"seqFISH_embryo2_l2.h5ad\"))\n",
    "embryo3_l2 = sc.read_h5ad(os.path.join(DATA_ROOT,\"seqFISH_embryo3_l2.h5ad\"))\n",
    "train_adata = stereoseq_E2S1"
   ]
  },
  {
   "cell_type": "markdown",
   "id": "22cb600e",
   "metadata": {},
   "source": [
    "### 2.2 Spatial reconstruction and evaluation\n"
   ]
  },
  {
   "cell_type": "code",
   "execution_count": 26,
   "id": "aa5cc659",
   "metadata": {},
   "outputs": [
    {
     "name": "stderr",
     "output_type": "stream",
     "text": [
      "INFO:root:Aligning data for embryo1_l2\n"
     ]
    },
    {
     "name": "stdout",
     "output_type": "stream",
     "text": [
      "cell_expression.shape (7656, 59) atlas_expression.shape (5266, 59) markers_metric.shape minkowski markers_metric_p.shape 2\n",
      "type(cell_expression) <class 'numpy.ndarray'>\n",
      "Setting up for reconstruction ... done ( 26.93 seconds )\n",
      "Reconstructing spatial information with 59 markers: 7656 cells and 5266 locations ... \n",
      "Trying with epsilon: 5.00e-03\n"
     ]
    },
    {
     "name": "stderr",
     "output_type": "stream",
     "text": [
      "/home/smli/miniconda2/envs/pytorch/lib/python3.9/site-packages/anndata/_core/anndata.py:117: ImplicitModificationWarning: Transforming to str index.\n",
      "  warnings.warn(\"Transforming to str index.\", ImplicitModificationWarning)\n",
      "INFO:root:Aligning DONE\n",
      "100%|███████████████████████████████████████████████████████████████████████████████████████████████████████████| 7656/7656 [00:18<00:00, 422.48it/s]\n",
      "INFO:root:Aligning data for embryo2_l2\n"
     ]
    },
    {
     "name": "stdout",
     "output_type": "stream",
     "text": [
      "cell_expression.shape (6524, 59) atlas_expression.shape (5266, 59) markers_metric.shape minkowski markers_metric_p.shape 2\n",
      "type(cell_expression) <class 'numpy.ndarray'>\n",
      "Setting up for reconstruction ... done ( 22.13 seconds )\n",
      "Reconstructing spatial information with 59 markers: 6524 cells and 5266 locations ... \n",
      "Trying with epsilon: 5.00e-03\n"
     ]
    },
    {
     "name": "stderr",
     "output_type": "stream",
     "text": [
      "/home/smli/miniconda2/envs/pytorch/lib/python3.9/site-packages/anndata/_core/anndata.py:117: ImplicitModificationWarning: Transforming to str index.\n",
      "  warnings.warn(\"Transforming to str index.\", ImplicitModificationWarning)\n",
      "INFO:root:Aligning DONE\n",
      "100%|███████████████████████████████████████████████████████████████████████████████████████████████████████████| 6524/6524 [00:14<00:00, 456.21it/s]\n",
      "INFO:root:Aligning data for embryo3_l2\n"
     ]
    },
    {
     "name": "stdout",
     "output_type": "stream",
     "text": [
      "cell_expression.shape (9408, 59) atlas_expression.shape (5266, 59) markers_metric.shape minkowski markers_metric_p.shape 2\n",
      "type(cell_expression) <class 'numpy.ndarray'>\n",
      "Setting up for reconstruction ... done ( 37.51 seconds )\n",
      "Reconstructing spatial information with 59 markers: 9408 cells and 5266 locations ... \n",
      "Trying with epsilon: 5.00e-03\n"
     ]
    },
    {
     "name": "stderr",
     "output_type": "stream",
     "text": [
      "/home/smli/miniconda2/envs/pytorch/lib/python3.9/site-packages/anndata/_core/anndata.py:117: ImplicitModificationWarning: Transforming to str index.\n",
      "  warnings.warn(\"Transforming to str index.\", ImplicitModificationWarning)\n",
      "INFO:root:Aligning DONE\n",
      "100%|███████████████████████████████████████████████████████████████████████████████████████████████████████████| 9408/9408 [00:26<00:00, 360.75it/s]\n"
     ]
    }
   ],
   "source": [
    "test_adata_list = {\"embryo1_l2\":embryo1_l2,\"embryo2_l2\":embryo2_l2,\"embryo3_l2\":embryo3_l2}\n",
    "# set reference data\n",
    "ref_adata = stereoseq_E2S1\n",
    "\n",
    "neighbor_hit_res = {'Dataset':[],'K nearest neighbor':[],'Average hit number':[]}\n",
    "JSD_spearman_res = {'Dataset':[],'Average JSD':[],\"Average spearman's rank correlation coefficient\":[]}\n",
    "res_summary_all   = {\"Dataset\":[],\"Cell type\":[],\"Average JSD\":[],\"Average spearman\":[]}\n",
    "\n",
    "for test_name in test_adata_list:\n",
    "    cur_test_adata = test_adata_list[test_name]\n",
    "    cur_truth_coor = np.column_stack((cur_test_adata.obs['x'].values,cur_test_adata.obs['y'].values))\n",
    "    \n",
    "    logging.info(\"Aligning data for \"+test_name)\n",
    "    query_adata = cur_test_adata\n",
    "    predict_probs,predefined_locations = reconstruct(ref_adata,query_adata)\n",
    "    predicted_coor = getLocations(predefined_locations, predict_probs)\n",
    "    logging.info(\"Aligning DONE\")\n",
    "    \n",
    "    predicted_distances =  cdist(predicted_coor, predicted_coor)\n",
    "    predicted_sorted_ind = np.argsort(predicted_distances)\n",
    "    \n",
    "    truth_distances =  cdist(cur_truth_coor, cur_truth_coor)\n",
    "    truth_sorted_ind = np.argsort(truth_distances)\n",
    "    \n",
    "    # neighbor hit\n",
    "    cur_neighbor_res,cur_average_neighbor_res = utils.calNeiborHit(truth_sorted_ind,predicted_sorted_ind)\n",
    "    neighbor_hit_res['Dataset'].extend([test_name]*10)\n",
    "    neighbor_hit_res['K nearest neighbor'].extend(cur_average_neighbor_res['K nearest neighbor'])\n",
    "    neighbor_hit_res['Average hit number'].extend(cur_average_neighbor_res['Average hit number'])\n",
    "    \n",
    "    # JSD\n",
    "    cur_truth_cell_types = cur_test_adata.obs['cell_type'].values\n",
    "    cur_jsd_list = utils.calJSD(truth_sorted_ind,predicted_sorted_ind,cur_truth_cell_types,neighbor_num=20)\n",
    "    \n",
    "    # Spearman rank correlation\n",
    "    spearman_corr_list,spearman_p_list = utils.calSpearmanRank(predicted_distances,truth_distances)\n",
    "    \n",
    "    JSD_spearman_res['Dataset'].append(test_name)\n",
    "    JSD_spearman_res['Average JSD'].append(np.mean(cur_jsd_list))\n",
    "    JSD_spearman_res[\"Average spearman's rank correlation coefficient\"].append(np.mean(spearman_corr_list))\n",
    "    \n",
    "    res_summary_all['Dataset'].extend([test_name]*len(cur_truth_cell_types))\n",
    "    res_summary_all['Cell type'].extend(cur_truth_cell_types)\n",
    "    res_summary_all['Average JSD'].extend(cur_jsd_list)\n",
    "    res_summary_all['Average spearman'].extend(spearman_corr_list)\n",
    "\n",
    "\n",
    "neighbor_hit_res = pd.DataFrame(neighbor_hit_res)\n",
    "JSD_spearman_res = pd.DataFrame(JSD_spearman_res)\n",
    "res_summary_all = pd.DataFrame(res_summary_all)"
   ]
  },
  {
   "cell_type": "code",
   "execution_count": 27,
   "id": "4a4a3193",
   "metadata": {},
   "outputs": [],
   "source": [
    "res_summary_all.to_csv(\"results/novosparc_mouse_stereoseq_ref.csv\")"
   ]
  },
  {
   "cell_type": "markdown",
   "id": "e554420d",
   "metadata": {},
   "source": [
    "### 2.3 Benchmarking results"
   ]
  },
  {
   "cell_type": "markdown",
   "id": "33ecfab6",
   "metadata": {},
   "source": [
    "#### 2.3.1 Neighbor hit"
   ]
  },
  {
   "cell_type": "code",
   "execution_count": 28,
   "id": "e12234cc",
   "metadata": {},
   "outputs": [
    {
     "data": {
      "text/plain": [
       "<AxesSubplot: xlabel='K nearest neighbor', ylabel='Average hit number'>"
      ]
     },
     "execution_count": 28,
     "metadata": {},
     "output_type": "execute_result"
    },
    {
     "data": {
      "image/png": "[encoded data removed]",
      "text/plain": [
       "<Figure size 640x480 with 1 Axes>"
      ]
     },
     "metadata": {},
     "output_type": "display_data"
    }
   ],
   "source": [
    "sns.set_style('whitegrid')\n",
    "sns.lineplot(data=neighbor_hit_res,x=\"K nearest neighbor\",y=\"Average hit number\",hue=\"Dataset\",markers=True,style='Dataset',\\\n",
    "             dashes=False,linewidth=2)"
   ]
  },
  {
   "cell_type": "markdown",
   "id": "a9a8906f",
   "metadata": {},
   "source": [
    "#### 2.3.2 Average JSD and  spearman's rank correlation coefficient"
   ]
  },
  {
   "cell_type": "code",
   "execution_count": 29,
   "id": "e47fb499",
   "metadata": {},
   "outputs": [
    {
     "data": {
      "text/html": [
       "<div>\n",
       "<style scoped>\n",
       "    .dataframe tbody tr th:only-of-type {\n",
       "        vertical-align: middle;\n",
       "    }\n",
       "\n",
       "    .dataframe tbody tr th {\n",
       "        vertical-align: top;\n",
       "    }\n",
       "\n",
       "    .dataframe thead th {\n",
       "        text-align: right;\n",
       "    }\n",
       "</style>\n",
       "<table border=\"1\" class=\"dataframe\">\n",
       "  <thead>\n",
       "    <tr style=\"text-align: right;\">\n",
       "      <th></th>\n",
       "      <th>Dataset</th>\n",
       "      <th>Average JSD</th>\n",
       "      <th>Average spearman's rank correlation coefficient</th>\n",
       "    </tr>\n",
       "  </thead>\n",
       "  <tbody>\n",
       "    <tr>\n",
       "      <th>0</th>\n",
       "      <td>embryo1_l2</td>\n",
       "      <td>0.599284</td>\n",
       "      <td>0.053024</td>\n",
       "    </tr>\n",
       "    <tr>\n",
       "      <th>1</th>\n",
       "      <td>embryo2_l2</td>\n",
       "      <td>0.530751</td>\n",
       "      <td>0.096083</td>\n",
       "    </tr>\n",
       "    <tr>\n",
       "      <th>2</th>\n",
       "      <td>embryo3_l2</td>\n",
       "      <td>0.610992</td>\n",
       "      <td>0.052866</td>\n",
       "    </tr>\n",
       "  </tbody>\n",
       "</table>\n",
       "</div>"
      ],
      "text/plain": [
       "      Dataset  Average JSD  Average spearman's rank correlation coefficient\n",
       "0  embryo1_l2     0.599284                                         0.053024\n",
       "1  embryo2_l2     0.530751                                         0.096083\n",
       "2  embryo3_l2     0.610992                                         0.052866"
      ]
     },
     "metadata": {},
     "output_type": "display_data"
    }
   ],
   "source": [
    "display(JSD_spearman_res)"
   ]
  },
  {
   "cell_type": "markdown",
   "id": "cd561f72",
   "metadata": {},
   "source": [
    "## 3. Spatial location inference across platforms: human breast cancer datasets"
   ]
  },
  {
   "cell_type": "markdown",
   "id": "ab46d806",
   "metadata": {},
   "source": [
    "### 3.1 Load data"
   ]
  },
  {
   "cell_type": "code",
   "execution_count": 30,
   "id": "1dc0cf1f",
   "metadata": {},
   "outputs": [
    {
     "name": "stdout",
     "output_type": "stream",
     "text": [
      "human_breast_s06 (3037, 36503) human_breast_s08 (2801, 36503)\n"
     ]
    }
   ],
   "source": [
    "DATA_ROOT = \"../benchmarking_data\"\n",
    "human_breast_s06 = sc.read_h5ad(os.path.join(DATA_ROOT,\"s06_normal.h5ad\"))\n",
    "human_breast_s08 = sc.read_h5ad(os.path.join(DATA_ROOT,\"s08_normal.h5ad\"))\n",
    "print(\"human_breast_s06\",human_breast_s06.shape,\"human_breast_s08\",human_breast_s08.shape)\n"
   ]
  },
  {
   "cell_type": "markdown",
   "id": "b259ae4e",
   "metadata": {},
   "source": [
    "### 3.2 Spatial Reconstruction and evaluation\n"
   ]
  },
  {
   "cell_type": "code",
   "execution_count": 31,
   "id": "0f134d0f",
   "metadata": {},
   "outputs": [
    {
     "name": "stderr",
     "output_type": "stream",
     "text": [
      "INFO:root:Aligning data for 10X visium S08\n"
     ]
    },
    {
     "name": "stdout",
     "output_type": "stream",
     "text": [
      "test data sparse to dense\n",
      "cell_expression.shape (2801, 2519) atlas_expression.shape (2801, 2519) markers_metric.shape minkowski markers_metric_p.shape 2\n",
      "type(cell_expression) <class 'numpy.ndarray'>\n",
      "Setting up for reconstruction ... done ( 10.24 seconds )\n",
      "Reconstructing spatial information with 2519 markers: 2801 cells and 2801 locations ... \n",
      "Trying with epsilon: 5.00e-03\n"
     ]
    },
    {
     "name": "stderr",
     "output_type": "stream",
     "text": [
      "/home/smli/miniconda2/envs/pytorch/lib/python3.9/site-packages/anndata/_core/anndata.py:117: ImplicitModificationWarning: Transforming to str index.\n",
      "  warnings.warn(\"Transforming to str index.\", ImplicitModificationWarning)\n",
      "INFO:root:Aligning DONE\n",
      "100%|███████████████████████████████████████████████████████████████████████████████████████████████████████████| 2801/2801 [00:03<00:00, 730.30it/s]\n"
     ]
    }
   ],
   "source": [
    "test_adata_list = {\"embryo1_l2\":embryo1_l2,\"embryo2_l2\":embryo2_l2,\"embryo3_l2\":embryo3_l2}\n",
    "# set reference data\n",
    "ref_adata = human_breast_s06\n",
    "\n",
    "neighbor_hit_res = {'Dataset':[],'K nearest neighbor':[],'Average hit number':[]}\n",
    "JSD_spearman_res = {'Dataset':[],'Average JSD':[],\"Average spearman's rank correlation coefficient\":[]}\n",
    "res_summary_all   = {\"Dataset\":[],\"Cell type\":[],\"Average JSD\":[],\"Average spearman\":[]}\n",
    "\n",
    "cur_test_adata = human_breast_s08\n",
    "test_name = \"10X visium S08\"\n",
    "cur_truth_coor = np.column_stack((cur_test_adata.obs['x'].values,cur_test_adata.obs['y'].values))\n",
    "    \n",
    "logging.info(\"Aligning data for \"+test_name)\n",
    "query_adata = cur_test_adata\n",
    "predict_probs,predefined_locations = reconstruct(ref_adata,query_adata)\n",
    "predicted_coor = getLocations(predefined_locations, predict_probs)\n",
    "logging.info(\"Aligning DONE\")\n",
    "    \n",
    "predicted_distances =  cdist(predicted_coor, predicted_coor)\n",
    "predicted_sorted_ind = np.argsort(predicted_distances)\n",
    "    \n",
    "truth_distances =  cdist(cur_truth_coor, cur_truth_coor)\n",
    "truth_sorted_ind = np.argsort(truth_distances)\n",
    "    \n",
    "# neighbor hit\n",
    "cur_neighbor_res,cur_average_neighbor_res = utils.calNeiborHit(truth_sorted_ind,predicted_sorted_ind)\n",
    "neighbor_hit_res['Dataset'].extend([test_name]*10)\n",
    "neighbor_hit_res['K nearest neighbor'].extend(cur_average_neighbor_res['K nearest neighbor'])\n",
    "neighbor_hit_res['Average hit number'].extend(cur_average_neighbor_res['Average hit number'])\n",
    "    \n",
    "# JSD\n",
    "cur_truth_cell_types = cur_test_adata.obs['cell_type'].values\n",
    "cur_jsd_list = utils.calJSD(truth_sorted_ind,predicted_sorted_ind,cur_truth_cell_types,neighbor_num=20)\n",
    "    \n",
    "# Spearman rank correlation\n",
    "spearman_corr_list,spearman_p_list = utils.calSpearmanRank(predicted_distances,truth_distances)\n",
    "    \n",
    "JSD_spearman_res['Dataset'].append(test_name)\n",
    "JSD_spearman_res['Average JSD'].append(np.mean(cur_jsd_list))\n",
    "JSD_spearman_res[\"Average spearman's rank correlation coefficient\"].append(np.mean(spearman_corr_list))\n",
    "    \n",
    "res_summary_all['Dataset'].extend([test_name]*len(cur_truth_cell_types))\n",
    "res_summary_all['Cell type'].extend(cur_truth_cell_types)\n",
    "res_summary_all['Average JSD'].extend(cur_jsd_list)\n",
    "res_summary_all['Average spearman'].extend(spearman_corr_list)\n",
    "\n",
    "\n",
    "neighbor_hit_res = pd.DataFrame(neighbor_hit_res)\n",
    "JSD_spearman_res = pd.DataFrame(JSD_spearman_res)\n",
    "res_summary_all = pd.DataFrame(res_summary_all)"
   ]
  },
  {
   "cell_type": "code",
   "execution_count": 32,
   "id": "def7f276",
   "metadata": {},
   "outputs": [],
   "source": [
    "res_summary_all.to_csv(\"results/novosparc_human_breast.csv\")"
   ]
  },
  {
   "cell_type": "markdown",
   "id": "3fbdca4e",
   "metadata": {},
   "source": [
    "### 3.3 Benchmarking results"
   ]
  },
  {
   "cell_type": "markdown",
   "id": "45f4b085",
   "metadata": {},
   "source": [
    "#### 3.3.1 Neighbor hit"
   ]
  },
  {
   "cell_type": "code",
   "execution_count": 34,
   "id": "d046ddfb",
   "metadata": {},
   "outputs": [
    {
     "data": {
      "text/plain": [
       "<AxesSubplot: xlabel='K nearest neighbor', ylabel='Average hit number'>"
      ]
     },
     "execution_count": 34,
     "metadata": {},
     "output_type": "execute_result"
    },
    {
     "data": {
      "image/png": "[encoded data removed]",
      "text/plain": [
       "<Figure size 640x480 with 1 Axes>"
      ]
     },
     "metadata": {},
     "output_type": "display_data"
    }
   ],
   "source": [
    "sns.set_style('whitegrid')\n",
    "sns.lineplot(data=neighbor_hit_res,x=\"K nearest neighbor\",y=\"Average hit number\",hue=\"Dataset\",markers=True,style='Dataset',\\\n",
    "             dashes=False,linewidth=2)"
   ]
  },
  {
   "cell_type": "markdown",
   "id": "d5292099",
   "metadata": {},
   "source": [
    "#### 3.3.2 Average JSD and  spearman's rank correlation coefficient"
   ]
  },
  {
   "cell_type": "code",
   "execution_count": 35,
   "id": "10053a86",
   "metadata": {},
   "outputs": [
    {
     "data": {
      "text/html": [
       "<div>\n",
       "<style scoped>\n",
       "    .dataframe tbody tr th:only-of-type {\n",
       "        vertical-align: middle;\n",
       "    }\n",
       "\n",
       "    .dataframe tbody tr th {\n",
       "        vertical-align: top;\n",
       "    }\n",
       "\n",
       "    .dataframe thead th {\n",
       "        text-align: right;\n",
       "    }\n",
       "</style>\n",
       "<table border=\"1\" class=\"dataframe\">\n",
       "  <thead>\n",
       "    <tr style=\"text-align: right;\">\n",
       "      <th></th>\n",
       "      <th>Dataset</th>\n",
       "      <th>Average JSD</th>\n",
       "      <th>Average spearman's rank correlation coefficient</th>\n",
       "    </tr>\n",
       "  </thead>\n",
       "  <tbody>\n",
       "    <tr>\n",
       "      <th>0</th>\n",
       "      <td>10X visium S08</td>\n",
       "      <td>0.394582</td>\n",
       "      <td>0.043925</td>\n",
       "    </tr>\n",
       "  </tbody>\n",
       "</table>\n",
       "</div>"
      ],
      "text/plain": [
       "          Dataset  Average JSD  \\\n",
       "0  10X visium S08     0.394582   \n",
       "\n",
       "   Average spearman's rank correlation coefficient  \n",
       "0                                         0.043925  "
      ]
     },
     "metadata": {},
     "output_type": "display_data"
    }
   ],
   "source": [
    "display(JSD_spearman_res)"
   ]
  },
  {
   "cell_type": "markdown",
   "id": "385a8661",
   "metadata": {},
   "source": [
    "## 4. Spatial location inference: mouse brain cells generated by MERSCOPE"
   ]
  },
  {
   "cell_type": "markdown",
   "id": "12983a67",
   "metadata": {},
   "source": [
    "### 4.1. Load data"
   ]
  },
  {
   "cell_type": "code",
   "execution_count": 12,
   "id": "9f5b87d6",
   "metadata": {},
   "outputs": [],
   "source": [
    "DATA_ROOT = \"../benchmarking_data\"\n",
    "left_brain_adata = sc.read_h5ad(os.path.join(DATA_ROOT,\"s1r1_left_original.h5ad\"))\n",
    "right_brain_adata = sc.read_h5ad(os.path.join(DATA_ROOT,\"s1r1_right_original.h5ad\"))"
   ]
  },
  {
   "cell_type": "markdown",
   "id": "9613bc09",
   "metadata": {},
   "source": [
    "### 4.2. Spatial Reconstruction and evaluation\n"
   ]
  },
  {
   "cell_type": "code",
   "execution_count": 14,
   "id": "3488a9a6",
   "metadata": {},
   "outputs": [
    {
     "name": "stderr",
     "output_type": "stream",
     "text": [
      "INFO:root:Aligning data for merfish\n"
     ]
    },
    {
     "name": "stdout",
     "output_type": "stream",
     "text": [
      "cell_expression.shape (9419, 136) atlas_expression.shape (8923, 136) markers_metric.shape minkowski markers_metric_p.shape 2\n",
      "type(cell_expression) <class 'numpy.ndarray'>\n",
      "Setting up for reconstruction ... done ( 61.74 seconds )\n",
      "Reconstructing spatial information with 136 markers: 9419 cells and 8923 locations ... \n",
      "Trying with epsilon: 5.00e-03\n"
     ]
    },
    {
     "name": "stderr",
     "output_type": "stream",
     "text": [
      "/home/smli/miniconda2/envs/pytorch/lib/python3.9/site-packages/anndata/_core/anndata.py:117: ImplicitModificationWarning: Transforming to str index.\n",
      "  warnings.warn(\"Transforming to str index.\", ImplicitModificationWarning)\n",
      "INFO:root:Aligning DONE\n",
      "/autofs/bal12/smli/cell-to-location/src/github/benchmarking_related_methods/utils.py:55: RuntimeWarning: invalid value encountered in divide\n",
      "  prediction_datasets = prediction_datasets/prediction_datasets.sum()\n",
      "/autofs/bal12/smli/cell-to-location/src/github/benchmarking_related_methods/utils.py:56: RuntimeWarning: invalid value encountered in divide\n",
      "  truth_datasets = truth_datasets/truth_datasets.sum()\n",
      "100%|█████████████████████████████████████████████████████████████████████| 9419/9419 [00:30<00:00, 311.52it/s]\n"
     ]
    }
   ],
   "source": [
    "# set reference data\n",
    "ref_adata = left_brain_adata\n",
    "\n",
    "neighbor_hit_res = {'Dataset':[],'K nearest neighbor':[],'Average hit number':[]}\n",
    "JSD_spearman_res = {'Dataset':[],'Average JSD':[],\"Average spearman's rank correlation coefficient\":[]}\n",
    "res_summary_all   = {\"Dataset\":[],\"Cell type\":[],\"Average JSD\":[],\"Average spearman\":[]}\n",
    "\n",
    "cur_test_adata = right_brain_adata\n",
    "test_name = \"merfish\"\n",
    "cur_truth_coor = np.column_stack((cur_test_adata.obs['x'].values,cur_test_adata.obs['y'].values))\n",
    "    \n",
    "logging.info(\"Aligning data for \"+test_name)\n",
    "query_adata = cur_test_adata\n",
    "predict_probs,predefined_locations = reconstruct(ref_adata,query_adata)\n",
    "predicted_coor = getLocations(predefined_locations, predict_probs)\n",
    "logging.info(\"Aligning DONE\")\n",
    "    \n",
    "predicted_distances =  cdist(predicted_coor, predicted_coor)\n",
    "predicted_sorted_ind = np.argsort(predicted_distances)\n",
    "    \n",
    "truth_distances =  cdist(cur_truth_coor, cur_truth_coor)\n",
    "truth_sorted_ind = np.argsort(truth_distances)\n",
    "    \n",
    "# neighbor hit\n",
    "cur_neighbor_res,cur_average_neighbor_res = utils.calNeiborHit(truth_sorted_ind,predicted_sorted_ind)\n",
    "neighbor_hit_res['Dataset'].extend([test_name]*10)\n",
    "neighbor_hit_res['K nearest neighbor'].extend(cur_average_neighbor_res['K nearest neighbor'])\n",
    "neighbor_hit_res['Average hit number'].extend(cur_average_neighbor_res['Average hit number'])\n",
    "    \n",
    "# JSD\n",
    "cur_truth_cell_types = cur_test_adata.obs['cell_type'].values\n",
    "cur_jsd_list = utils.calJSD(truth_sorted_ind,predicted_sorted_ind,cur_truth_cell_types,neighbor_num=20)\n",
    "    \n",
    "# Spearman rank correlation\n",
    "spearman_corr_list,spearman_p_list = utils.calSpearmanRank(predicted_distances,truth_distances)\n",
    "    \n",
    "JSD_spearman_res['Dataset'].append(test_name)\n",
    "JSD_spearman_res['Average JSD'].append(np.mean(cur_jsd_list))\n",
    "JSD_spearman_res[\"Average spearman's rank correlation coefficient\"].append(np.mean(spearman_corr_list))\n",
    "    \n",
    "res_summary_all['Dataset'].extend([test_name]*len(cur_truth_cell_types))\n",
    "res_summary_all['Cell type'].extend(cur_truth_cell_types)\n",
    "res_summary_all['Average JSD'].extend(cur_jsd_list)\n",
    "res_summary_all['Average spearman'].extend(spearman_corr_list)\n",
    "\n",
    "\n",
    "neighbor_hit_res = pd.DataFrame(neighbor_hit_res)\n",
    "JSD_spearman_res = pd.DataFrame(JSD_spearman_res)\n",
    "res_summary_all = pd.DataFrame(res_summary_all)"
   ]
  },
  {
   "cell_type": "markdown",
   "id": "7b70796b",
   "metadata": {},
   "source": [
    "### 4.3 Benchmarking results"
   ]
  },
  {
   "cell_type": "markdown",
   "id": "2df477e1",
   "metadata": {},
   "source": [
    "#### 4.3.1 Neighbor hit"
   ]
  },
  {
   "cell_type": "code",
   "execution_count": 16,
   "id": "0e8151fb",
   "metadata": {},
   "outputs": [
    {
     "data": {
      "text/plain": [
       "<AxesSubplot: xlabel='K nearest neighbor', ylabel='Average hit number'>"
      ]
     },
     "execution_count": 16,
     "metadata": {},
     "output_type": "execute_result"
    },
    {
     "data": {
      "image/png": "[encoded data removed]",
      "text/plain": [
       "<Figure size 640x480 with 1 Axes>"
      ]
     },
     "metadata": {},
     "output_type": "display_data"
    }
   ],
   "source": [
    "sns.set_style('whitegrid')\n",
    "sns.lineplot(data=neighbor_hit_res,x=\"K nearest neighbor\",y=\"Average hit number\",hue=\"Dataset\",markers=True,style='Dataset',\\\n",
    "             dashes=False,linewidth=2)"
   ]
  },
  {
   "cell_type": "markdown",
   "id": "cbfba5ab",
   "metadata": {},
   "source": [
    "#### 4.3.2 Average JSD and  spearman's rank correlation coefficient"
   ]
  },
  {
   "cell_type": "code",
   "execution_count": 17,
   "id": "b6dbc35b",
   "metadata": {},
   "outputs": [
    {
     "data": {
      "text/html": [
       "<div>\n",
       "<style scoped>\n",
       "    .dataframe tbody tr th:only-of-type {\n",
       "        vertical-align: middle;\n",
       "    }\n",
       "\n",
       "    .dataframe tbody tr th {\n",
       "        vertical-align: top;\n",
       "    }\n",
       "\n",
       "    .dataframe thead th {\n",
       "        text-align: right;\n",
       "    }\n",
       "</style>\n",
       "<table border=\"1\" class=\"dataframe\">\n",
       "  <thead>\n",
       "    <tr style=\"text-align: right;\">\n",
       "      <th></th>\n",
       "      <th>Dataset</th>\n",
       "      <th>Average JSD</th>\n",
       "      <th>Average spearman's rank correlation coefficient</th>\n",
       "    </tr>\n",
       "  </thead>\n",
       "  <tbody>\n",
       "    <tr>\n",
       "      <th>0</th>\n",
       "      <td>merfish</td>\n",
       "      <td>NaN</td>\n",
       "      <td>0.341844</td>\n",
       "    </tr>\n",
       "  </tbody>\n",
       "</table>\n",
       "</div>"
      ],
      "text/plain": [
       "   Dataset  Average JSD  Average spearman's rank correlation coefficient\n",
       "0  merfish          NaN                                         0.341844"
      ]
     },
     "metadata": {},
     "output_type": "display_data"
    }
   ],
   "source": [
    "display(JSD_spearman_res)"
   ]
  },
  {
   "cell_type": "code",
   "execution_count": null,
   "id": "75c8ceee",
   "metadata": {},
   "outputs": [],
   "source": []
  }
 ],
 "metadata": {
  "kernelspec": {
   "display_name": "Python 3 (ipykernel)",
   "language": "python",
   "name": "python3"
  },
  "language_info": {
   "codemirror_mode": {
    "name": "ipython",
    "version": 3
   },
   "file_extension": ".py",
   "mimetype": "text/x-python",
   "name": "python",
   "nbconvert_exporter": "python",
   "pygments_lexer": "ipython3",
   "version": "3.9.16"
  }
 },
 "nbformat": 4,
 "nbformat_minor": 5
}
