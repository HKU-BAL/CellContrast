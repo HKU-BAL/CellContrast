{
 "cells": [
  {
   "cell_type": "markdown",
   "id": "9df7b9b2",
   "metadata": {},
   "source": [
    "# Benchmarking scripts for SageNet"
   ]
  },
  {
   "cell_type": "markdown",
   "id": "d78e3c31",
   "metadata": {},
   "source": [
    "## Intallation of the running environment"
   ]
  },
  {
   "cell_type": "markdown",
   "id": "d3eeff30",
   "metadata": {},
   "source": [
    "* Install the envrioment of sageNet based on the instructions: https://github.com/MarioniLab/sagenet"
   ]
  },
  {
   "cell_type": "code",
   "execution_count": 2,
   "id": "9cb75b29",
   "metadata": {},
   "outputs": [
    {
     "name": "stderr",
     "output_type": "stream",
     "text": [
      "/home/smli/miniconda2/envs/sageNet/lib/python3.9/site-packages/torch-2.0.1-py3.9-linux-x86_64.egg/torch/cuda/__init__.py:107: UserWarning: CUDA initialization: The NVIDIA driver on your system is too old (found version 10020). Please update your GPU driver by downloading and installing a new version from the URL: http://www.nvidia.com/Download/index.aspx Alternatively, go to: https://pytorch.org to install a PyTorch version that has been compiled with your version of the CUDA driver. (Triggered internally at ../c10/cuda/CUDAFunctions.cpp:109.)\n",
      "  return torch._C._cuda_getDeviceCount() > 0\n",
      "/home/smli/miniconda2/envs/sageNet/lib/python3.9/site-packages/tqdm/auto.py:21: TqdmWarning: IProgress not found. Please update jupyter and ipywidgets. See https://ipywidgets.readthedocs.io/en/stable/user_install.html\n",
      "  from .autonotebook import tqdm as notebook_tqdm\n"
     ]
    }
   ],
   "source": [
    "import os\n",
    "import sagenet as sg\n",
    "import scanpy as sc\n",
    "import squidpy as sq\n",
    "import anndata as ad\n",
    "import random\n",
    "random.seed(10)\n",
    "from sagenet.utils import glasso\n",
    "import numpy as np\n",
    "from sklearn.neighbors import KDTree\n",
    "import pandas as pd\n",
    "from scipy.stats import spearmanr\n",
    "from tqdm import tqdm\n",
    "from scipy.spatial.distance import cdist\n",
    "from collections import Counter\n",
    "from scipy.spatial.distance import jensenshannon\n",
    "import logging\n",
    "import seaborn as sns\n",
    "import matplotlib.pyplot as plt\n",
    "from scipy.sparse import issparse\n",
    "import utils\n",
    "import importlib\n",
    "importlib.reload(utils)\n",
    "logging.getLogger().setLevel(logging.INFO)\n"
   ]
  },
  {
   "cell_type": "markdown",
   "id": "d206275f",
   "metadata": {},
   "source": [
    "## Utilized functions and variables"
   ]
  },
  {
   "cell_type": "code",
   "execution_count": 5,
   "id": "c20ed63f",
   "metadata": {},
   "outputs": [],
   "source": [
    "def queryCell(sg_obj, test_adata):\n",
    "    \n",
    "    sg_obj.map_query(test_adata, save_pred=True, save_ent=True, save_prob=True, save_dist=True)\n",
    "    return test_adata"
   ]
  },
  {
   "cell_type": "code",
   "execution_count": 6,
   "id": "dfd76f94",
   "metadata": {},
   "outputs": [],
   "source": [
    "def preprocessQuery(query_adata,gene_list):\n",
    "    \n",
    "        \n",
    "    '''\n",
    "    \n",
    "    reformat the query_adata by the gene_list\n",
    "    \n",
    "    '''\n",
    "    gene_indices = [query_adata.var_names.get_loc(gene) for gene in gene_list]\n",
    "    selected_adata = query_adata[:, gene_indices]\n",
    "\n",
    "    \n",
    "    # remove all zeros\n",
    "    sum_per_cell = selected_adata.X.sum(axis=1)\n",
    "    zero_cells = sum_per_cell == 0\n",
    "    selected_adata = selected_adata[~zero_cells, :]\n",
    "    if(issparse(selected_adata.X)):\n",
    "        selected_adata.X = np.asarray(selected_adata.X.todense())\n",
    "\n",
    "    \n",
    "    return selected_adata\n",
    "    "
   ]
  },
  {
   "cell_type": "code",
   "execution_count": 7,
   "id": "5e993e46",
   "metadata": {},
   "outputs": [],
   "source": [
    "def grid_array(df, n = 2): # auxilary funciton for griding the ST datasets\n",
    "    \n",
    "    '''\n",
    "    \n",
    "    The function is obtained from SageNet Tutorial\n",
    "    \n",
    "    '''\n",
    "    min_x = np.min(df['x'])\n",
    "    max_x = np.max(df['x'])\n",
    "    to_ret_x = np.ones(len(df))\n",
    "    for i in range(1, n):\n",
    "        qr = min_x + i*((max_x - min_x)/n)\n",
    "        to_ret_x[np.where(df['x'].values > qr)] = i + 1\n",
    "    min_y = np.min(df['y'])\n",
    "    max_y = np.max(df['y'])\n",
    "    to_ret_y = np.ones(len(df))\n",
    "    for i in range(1, n):\n",
    "        qr = min_y + i*((max_y - min_y)/n)\n",
    "        to_ret_y[np.where(df['y'].values > qr)] = i + 1\n",
    "    temp = to_ret_x * (to_ret_y**3)\n",
    "    df['grid_' + str(n)] = temp\n",
    "    return df"
   ]
  },
  {
   "cell_type": "code",
   "execution_count": 8,
   "id": "ced26f9d",
   "metadata": {},
   "outputs": [],
   "source": [
    "def grid_adata(adata, n=[2, 3, 4]): # function to grid the ST datasets\n",
    "    '''\n",
    "    \n",
    "    The function is obtained from SageNet Tutorial\n",
    "    \n",
    "    '''\n",
    "    df = adata.obs\n",
    "    for i in n:\n",
    "        tag = 'grid_' + str(i)\n",
    "        df_temp = df.groupby('sample').apply(grid_array, n = i)\n",
    "        temp = np.searchsorted(np.unique(df_temp[tag].values), df_temp[tag].values)\n",
    "        sg.utils.save_adata(adata, attr='obs', key=tag, data=temp)"
   ]
  },
  {
   "cell_type": "code",
   "execution_count": 9,
   "id": "10b8ccfb",
   "metadata": {},
   "outputs": [],
   "source": [
    "grid_code = {\n",
    "  \"0\" : 'top - right',\n",
    "  \"1\" : 'top - middle',\n",
    "  \"2\" : 'top - left',\n",
    "  \"3\" : 'middle - right',\n",
    "  \"4\" : 'middle - middle',\n",
    "  \"5\" : 'middle - left',\n",
    "  \"6\" : 'bottom - right',\n",
    "  \"7\" : 'bottom - middle',\n",
    "  \"8\" : 'bottom - left'\n",
    "}"
   ]
  },
  {
   "cell_type": "markdown",
   "id": "a1086582",
   "metadata": {},
   "source": [
    "## 1. Spatial reconstruction of mouse gastrulation cells using single-cell resolution ST reference"
   ]
  },
  {
   "cell_type": "markdown",
   "id": "86d10f4f",
   "metadata": {},
   "source": [
    "### 1.1 Load data"
   ]
  },
  {
   "cell_type": "markdown",
   "id": "e92a0a67",
   "metadata": {},
   "source": [
    "* Please modify the data path as neccessary "
   ]
  },
  {
   "cell_type": "code",
   "execution_count": 7,
   "id": "6f4a4a6e",
   "metadata": {},
   "outputs": [
    {
     "name": "stdout",
     "output_type": "stream",
     "text": [
      "(10150, 351) (7656, 351) (6524, 351) (9408, 351)\n"
     ]
    }
   ],
   "source": [
    "DATA_ROOT = \"../benchmarking_data\"\n",
    "\n",
    "embryo1_l1 = sc.read_h5ad(os.path.join(DATA_ROOT,\"seqFISH_embryo1_l1.h5ad\"))\n",
    "embryo1_l2 = sc.read_h5ad(os.path.join(DATA_ROOT,\"seqFISH_embryo1_l2.h5ad\"))\n",
    "embryo2_l2 = sc.read_h5ad(os.path.join(DATA_ROOT,\"seqFISH_embryo2_l2.h5ad\"))\n",
    "embryo3_l2 = sc.read_h5ad(os.path.join(DATA_ROOT,\"seqFISH_embryo3_l2.h5ad\"))\n",
    "\n",
    "print(embryo1_l1.shape,embryo1_l2.shape,embryo2_l2.shape,embryo3_l2.shape)"
   ]
  },
  {
   "cell_type": "markdown",
   "id": "ec3bd65f",
   "metadata": {},
   "source": [
    "### 1.2 Training the model with embryo1 L1"
   ]
  },
  {
   "cell_type": "code",
   "execution_count": 8,
   "id": "c5104355",
   "metadata": {},
   "outputs": [],
   "source": [
    "adata_r = embryo1_l1\n",
    "device = \"cpu\"\n",
    "\n",
    "glasso(adata_r, [0.5, 0.75, 1])\n",
    "adata_r.obsm['spatial'] = np.array(adata_r.obs[['x','y']])\n",
    "\n",
    "sq.gr.spatial_neighbors(adata_r, coord_type=\"generic\")\n",
    "sc.tl.leiden(adata_r, resolution=.01, random_state=0, key_added='leiden_0.01', adjacency=adata_r.obsp[\"spatial_connectivities\"])\n",
    "sc.tl.leiden(adata_r, resolution=.05, random_state=0, key_added='leiden_0.05', adjacency=adata_r.obsp[\"spatial_connectivities\"])\n",
    "sc.tl.leiden(adata_r, resolution=.1, random_state=0, key_added='leiden_0.1', adjacency=adata_r.obsp[\"spatial_connectivities\"])\n",
    "sc.tl.leiden(adata_r, resolution=.5, random_state=0, key_added='leiden_0.5', adjacency=adata_r.obsp[\"spatial_connectivities\"])\n",
    "sc.tl.leiden(adata_r, resolution=1, random_state=0, key_added='leiden_1', adjacency=adata_r.obsp[\"spatial_connectivities\"])"
   ]
  },
  {
   "cell_type": "code",
   "execution_count": 9,
   "id": "33921e95",
   "metadata": {},
   "outputs": [
    {
     "name": "stderr",
     "output_type": "stream",
     "text": [
      "/home/smli/miniconda2/envs/sageNet/lib/python3.9/site-packages/torch_geometric/deprecation.py:22: UserWarning: 'data.DataLoader' is deprecated, use 'loader.DataLoader' instead\n",
      "  warnings.warn(out)\n",
      "/home/smli/miniconda2/envs/sageNet/lib/python3.9/site-packages/torch_geometric/deprecation.py:22: UserWarning: 'data.DataLoader' is deprecated, use 'loader.DataLoader' instead\n",
      "  warnings.warn(out)\n",
      "/home/smli/miniconda2/envs/sageNet/lib/python3.9/site-packages/torch_geometric/deprecation.py:22: UserWarning: 'data.DataLoader' is deprecated, use 'loader.DataLoader' instead\n",
      "  warnings.warn(out)\n",
      "/home/smli/miniconda2/envs/sageNet/lib/python3.9/site-packages/torch_geometric/deprecation.py:22: UserWarning: 'data.DataLoader' is deprecated, use 'loader.DataLoader' instead\n",
      "  warnings.warn(out)\n",
      "/home/smli/miniconda2/envs/sageNet/lib/python3.9/site-packages/torch_geometric/deprecation.py:22: UserWarning: 'data.DataLoader' is deprecated, use 'loader.DataLoader' instead\n",
      "  warnings.warn(out)\n"
     ]
    }
   ],
   "source": [
    "sg_obj = sg.sage.sage(device=device)\n",
    "sg_obj.add_ref(adata_r, comm_columns=['leiden_0.01', 'leiden_0.05', 'leiden_0.1', 'leiden_0.5', 'leiden_1'], tag='seqFISH_ref', epochs=20, verbose = False)"
   ]
  },
  {
   "cell_type": "markdown",
   "id": "06d92543",
   "metadata": {},
   "source": [
    "### 1.3 Evaluation on the embryo1 L2, embryo2 L2, embryo3 L3"
   ]
  },
  {
   "cell_type": "code",
   "execution_count": 10,
   "id": "dc75b8f7",
   "metadata": {},
   "outputs": [
    {
     "name": "stderr",
     "output_type": "stream",
     "text": [
      "INFO:root:querying cell for embryo1_l2\n",
      "/home/smli/miniconda2/envs/sageNet/lib/python3.9/site-packages/torch_geometric/deprecation.py:22: UserWarning: 'data.DataLoader' is deprecated, use 'loader.DataLoader' instead\n",
      "  warnings.warn(out)\n",
      "/home/smli/miniconda2/envs/sageNet/lib/python3.9/site-packages/torch_geometric/deprecation.py:22: UserWarning: 'data.DataLoader' is deprecated, use 'loader.DataLoader' instead\n",
      "  warnings.warn(out)\n",
      "/home/smli/miniconda2/envs/sageNet/lib/python3.9/site-packages/torch_geometric/deprecation.py:22: UserWarning: 'data.DataLoader' is deprecated, use 'loader.DataLoader' instead\n",
      "  warnings.warn(out)\n",
      "/home/smli/miniconda2/envs/sageNet/lib/python3.9/site-packages/torch_geometric/deprecation.py:22: UserWarning: 'data.DataLoader' is deprecated, use 'loader.DataLoader' instead\n",
      "  warnings.warn(out)\n",
      "/home/smli/miniconda2/envs/sageNet/lib/python3.9/site-packages/torch_geometric/deprecation.py:22: UserWarning: 'data.DataLoader' is deprecated, use 'loader.DataLoader' instead\n",
      "  warnings.warn(out)\n",
      "INFO:root:query DONE\n",
      "INFO:root:evaluate avergae neighbor hit number\n",
      "INFO:root:evaluate average Jessen-Shannon Distance\n",
      "INFO:root:evaluate average spearman's rank correlation coefficient\n",
      "100%|███████████████████████████████████████████████████████████████████████████████████████████████████████████| 7656/7656 [00:16<00:00, 457.65it/s]\n",
      "INFO:root:querying cell for embryo2_l2\n",
      "/home/smli/miniconda2/envs/sageNet/lib/python3.9/site-packages/torch_geometric/deprecation.py:22: UserWarning: 'data.DataLoader' is deprecated, use 'loader.DataLoader' instead\n",
      "  warnings.warn(out)\n",
      "/home/smli/miniconda2/envs/sageNet/lib/python3.9/site-packages/torch_geometric/deprecation.py:22: UserWarning: 'data.DataLoader' is deprecated, use 'loader.DataLoader' instead\n",
      "  warnings.warn(out)\n",
      "/home/smli/miniconda2/envs/sageNet/lib/python3.9/site-packages/torch_geometric/deprecation.py:22: UserWarning: 'data.DataLoader' is deprecated, use 'loader.DataLoader' instead\n",
      "  warnings.warn(out)\n",
      "/home/smli/miniconda2/envs/sageNet/lib/python3.9/site-packages/torch_geometric/deprecation.py:22: UserWarning: 'data.DataLoader' is deprecated, use 'loader.DataLoader' instead\n",
      "  warnings.warn(out)\n",
      "/home/smli/miniconda2/envs/sageNet/lib/python3.9/site-packages/torch_geometric/deprecation.py:22: UserWarning: 'data.DataLoader' is deprecated, use 'loader.DataLoader' instead\n",
      "  warnings.warn(out)\n",
      "INFO:root:query DONE\n",
      "INFO:root:evaluate avergae neighbor hit number\n",
      "INFO:root:evaluate average Jessen-Shannon Distance\n",
      "INFO:root:evaluate average spearman's rank correlation coefficient\n",
      "100%|███████████████████████████████████████████████████████████████████████████████████████████████████████████| 6524/6524 [00:13<00:00, 487.27it/s]\n",
      "INFO:root:querying cell for embryo3_l2\n",
      "/home/smli/miniconda2/envs/sageNet/lib/python3.9/site-packages/torch_geometric/deprecation.py:22: UserWarning: 'data.DataLoader' is deprecated, use 'loader.DataLoader' instead\n",
      "  warnings.warn(out)\n",
      "/home/smli/miniconda2/envs/sageNet/lib/python3.9/site-packages/torch_geometric/deprecation.py:22: UserWarning: 'data.DataLoader' is deprecated, use 'loader.DataLoader' instead\n",
      "  warnings.warn(out)\n",
      "/home/smli/miniconda2/envs/sageNet/lib/python3.9/site-packages/torch_geometric/deprecation.py:22: UserWarning: 'data.DataLoader' is deprecated, use 'loader.DataLoader' instead\n",
      "  warnings.warn(out)\n",
      "/home/smli/miniconda2/envs/sageNet/lib/python3.9/site-packages/torch_geometric/deprecation.py:22: UserWarning: 'data.DataLoader' is deprecated, use 'loader.DataLoader' instead\n",
      "  warnings.warn(out)\n",
      "/home/smli/miniconda2/envs/sageNet/lib/python3.9/site-packages/torch_geometric/deprecation.py:22: UserWarning: 'data.DataLoader' is deprecated, use 'loader.DataLoader' instead\n",
      "  warnings.warn(out)\n",
      "INFO:root:query DONE\n",
      "INFO:root:evaluate avergae neighbor hit number\n",
      "INFO:root:evaluate average Jessen-Shannon Distance\n",
      "INFO:root:evaluate average spearman's rank correlation coefficient\n",
      "100%|███████████████████████████████████████████████████████████████████████████████████████████████████████████| 9408/9408 [00:24<00:00, 381.75it/s]\n"
     ]
    }
   ],
   "source": [
    "test_adata_list = {\"embryo1_l2\":embryo1_l2,\"embryo2_l2\":embryo2_l2,\"embryo3_l2\":embryo3_l2}\n",
    "\n",
    "neighbor_hit_res = {'Dataset':[],'K nearest neighbor':[],'Average hit number':[]}\n",
    "JSD_spearman_res = {'Dataset':[],'Average JSD':[],\"Average spearman's rank correlation coefficient\":[]}\n",
    "\n",
    "res_summary_all   = {\"Dataset\":[],\"Cell type\":[],\"Average JSD\":[],\"Average spearman\":[]}\n",
    "\n",
    "for test_name in test_adata_list:\n",
    "    cur_test_adata = test_adata_list[test_name]\n",
    "    \n",
    "    logging.info(\"querying cell for \"+test_name)\n",
    "    queried_test_adata = queryCell(sg_obj, cur_test_adata)\n",
    "    logging.info(\"query DONE\")\n",
    "\n",
    "    cur_truth_coor = np.column_stack((queried_test_adata.obs['x'].values,queried_test_adata.obs['y'].values))\n",
    "    truth_distances =  cdist(cur_truth_coor, cur_truth_coor)\n",
    "    truth_sorted_ind = np.argsort(truth_distances)\n",
    "    \n",
    "    precited_dist_mat = queried_test_adata.obsm['dist_map']\n",
    "    predicted_sorted_ind = np.argsort(precited_dist_mat)    \n",
    "    \n",
    "    cur_truth_cell_types = queried_test_adata.obs['cell_type'].values\n",
    "    \n",
    "    # the nearest neighbor hit\n",
    "    logging.info(\"evaluate avergae neighbor hit number\")\n",
    "    cur_neighbor_res,cur_average_neighbor_res = utils.calNeiborHit(truth_sorted_ind,predicted_sorted_ind)\n",
    "    neighbor_hit_res['Dataset'].extend([test_name]*10)\n",
    "    neighbor_hit_res['K nearest neighbor'].extend(cur_average_neighbor_res['K nearest neighbor'])\n",
    "    neighbor_hit_res['Average hit number'].extend(cur_average_neighbor_res['Average hit number'])\n",
    "    \n",
    "    \n",
    "    # Jessen-Shannon Distance\n",
    "    logging.info(\"evaluate average Jessen-Shannon Distance\")\n",
    "    cur_jsd_list = utils.calJSD(truth_sorted_ind,predicted_sorted_ind,cur_truth_cell_types,neighbor_num=20)\n",
    "\n",
    "    # Spearman's rank correlation coefficient\n",
    "    logging.info(\"evaluate average spearman's rank correlation coefficient\")\n",
    "    spearman_corr_list,spearman_p_list = utils.calSpearmanRank(precited_dist_mat,truth_distances)\n",
    "    \n",
    "    \n",
    "    JSD_spearman_res['Dataset'].append(test_name)\n",
    "    JSD_spearman_res['Average JSD'].append(np.mean(cur_jsd_list))\n",
    "    JSD_spearman_res[\"Average spearman's rank correlation coefficient\"].append(np.mean(spearman_corr_list))\n",
    "    \n",
    "    res_summary_all['Dataset'].extend([test_name]*len(cur_truth_cell_types))\n",
    "    res_summary_all['Cell type'].extend(cur_truth_cell_types)\n",
    "    res_summary_all['Average JSD'].extend(cur_jsd_list)\n",
    "    res_summary_all['Average spearman'].extend(spearman_corr_list)\n",
    "    \n",
    "\n",
    "neighbor_hit_res = pd.DataFrame(neighbor_hit_res)\n",
    "JSD_spearman_res = pd.DataFrame(JSD_spearman_res)\n",
    "res_summary_all = pd.DataFrame(res_summary_all)"
   ]
  },
  {
   "cell_type": "code",
   "execution_count": 11,
   "id": "a656b7e4",
   "metadata": {},
   "outputs": [],
   "source": [
    "res_summary_all.to_csv(\"results/sageNet_mouse_seqfish_ref.csv\")"
   ]
  },
  {
   "cell_type": "markdown",
   "id": "2a4a7987",
   "metadata": {},
   "source": [
    "### 1.4 Benchmarking results"
   ]
  },
  {
   "cell_type": "markdown",
   "id": "dbd08d33",
   "metadata": {},
   "source": [
    "#### 1.4.1 Nearest neighbor hit"
   ]
  },
  {
   "cell_type": "code",
   "execution_count": 12,
   "id": "41a70c6a",
   "metadata": {},
   "outputs": [
    {
     "data": {
      "text/plain": [
       "<Axes: xlabel='K nearest neighbor', ylabel='Average hit number'>"
      ]
     },
     "execution_count": 12,
     "metadata": {},
     "output_type": "execute_result"
    },
    {
     "data": {
      "image/png": "[encoded data removed]",
      "text/plain": [
       "<Figure size 640x480 with 1 Axes>"
      ]
     },
     "metadata": {},
     "output_type": "display_data"
    }
   ],
   "source": [
    "sns.set_style('whitegrid')\n",
    "sns.lineplot(neighbor_hit_res,x=\"K nearest neighbor\",y=\"Average hit number\",hue=\"Dataset\",markers=True,style='Dataset',\\\n",
    "             dashes=False,linewidth=2)"
   ]
  },
  {
   "cell_type": "markdown",
   "id": "af0db0e9",
   "metadata": {},
   "source": [
    "#### 1.4.2 Average JSD and  spearman's rank correlation coefficient"
   ]
  },
  {
   "cell_type": "code",
   "execution_count": 13,
   "id": "c2f59869",
   "metadata": {},
   "outputs": [
    {
     "data": {
      "text/html": [
       "<div>\n",
       "<style scoped>\n",
       "    .dataframe tbody tr th:only-of-type {\n",
       "        vertical-align: middle;\n",
       "    }\n",
       "\n",
       "    .dataframe tbody tr th {\n",
       "        vertical-align: top;\n",
       "    }\n",
       "\n",
       "    .dataframe thead th {\n",
       "        text-align: right;\n",
       "    }\n",
       "</style>\n",
       "<table border=\"1\" class=\"dataframe\">\n",
       "  <thead>\n",
       "    <tr style=\"text-align: right;\">\n",
       "      <th></th>\n",
       "      <th>Dataset</th>\n",
       "      <th>Average JSD</th>\n",
       "      <th>Average spearman's rank correlation coefficient</th>\n",
       "    </tr>\n",
       "  </thead>\n",
       "  <tbody>\n",
       "    <tr>\n",
       "      <th>0</th>\n",
       "      <td>embryo1_l2</td>\n",
       "      <td>0.291898</td>\n",
       "      <td>0.542873</td>\n",
       "    </tr>\n",
       "    <tr>\n",
       "      <th>1</th>\n",
       "      <td>embryo2_l2</td>\n",
       "      <td>0.273375</td>\n",
       "      <td>0.520292</td>\n",
       "    </tr>\n",
       "    <tr>\n",
       "      <th>2</th>\n",
       "      <td>embryo3_l2</td>\n",
       "      <td>0.391394</td>\n",
       "      <td>0.378676</td>\n",
       "    </tr>\n",
       "  </tbody>\n",
       "</table>\n",
       "</div>"
      ],
      "text/plain": [
       "      Dataset  Average JSD  Average spearman's rank correlation coefficient\n",
       "0  embryo1_l2     0.291898                                         0.542873\n",
       "1  embryo2_l2     0.273375                                         0.520292\n",
       "2  embryo3_l2     0.391394                                         0.378676"
      ]
     },
     "metadata": {},
     "output_type": "display_data"
    }
   ],
   "source": [
    "display(JSD_spearman_res)"
   ]
  },
  {
   "cell_type": "markdown",
   "id": "a614c283",
   "metadata": {},
   "source": [
    "## 2. Spatial location inference across platforms: mouse gastrulation datasets"
   ]
  },
  {
   "cell_type": "markdown",
   "id": "ec73ddb8",
   "metadata": {},
   "source": [
    "### 2.1 Load data"
   ]
  },
  {
   "cell_type": "code",
   "execution_count": 14,
   "id": "97bf114b",
   "metadata": {},
   "outputs": [],
   "source": [
    "DATA_ROOT = \"../benchmarking_data\"\n",
    "stereoseq_E2S1 = sc.read_h5ad(os.path.join(DATA_ROOT,\"stereoseq_E2S1.h5ad\"))\n",
    "embryo1_l2 = sc.read_h5ad(os.path.join(DATA_ROOT,\"seqFISH_embryo1_l2.h5ad\"))\n",
    "embryo2_l2 = sc.read_h5ad(os.path.join(DATA_ROOT,\"seqFISH_embryo2_l2.h5ad\"))\n",
    "embryo3_l2 = sc.read_h5ad(os.path.join(DATA_ROOT,\"seqFISH_embryo3_l2.h5ad\"))"
   ]
  },
  {
   "cell_type": "markdown",
   "id": "ece9203e",
   "metadata": {},
   "source": [
    "### 2.2  Data preprocessing"
   ]
  },
  {
   "cell_type": "markdown",
   "id": "36a5ebe6",
   "metadata": {},
   "source": [
    "* Partition of the training data"
   ]
  },
  {
   "cell_type": "code",
   "execution_count": 15,
   "id": "4b1500e3",
   "metadata": {},
   "outputs": [],
   "source": [
    "adata_r = stereoseq_E2S1\n",
    "adata_r.obs['x'] = adata_r.obsm['spatial'][:,0]\n",
    "adata_r.obs['y'] = adata_r.obsm['spatial'][:,1]\n",
    "adata_r.obs['sample'] = ['E9.5_E2S1.MOSTA']*adata_r.obs.shape[0]\n",
    "grid_adata(adata_r, [2, 3, 4])\n",
    "adata_r.obs['position_3'] = [grid_code[k] for k in list(map(str, list(map(int, adata_r.obs['grid_3'].tolist()))))]\n",
    "adata_r.obs['class_'] = 0"
   ]
  },
  {
   "cell_type": "markdown",
   "id": "6e60c2ae",
   "metadata": {},
   "source": [
    "* Processing the testing data to obtain the genes that are in training data"
   ]
  },
  {
   "cell_type": "code",
   "execution_count": 16,
   "id": "26a2b94d",
   "metadata": {},
   "outputs": [],
   "source": [
    "test_adata_list = {\"embryo1_l2\":embryo1_l2,\"embryo2_l2\":embryo2_l2,\"embryo3_l2\":embryo3_l2}\n",
    "\n",
    "for cur_test_name in test_adata_list:\n",
    "    cur_test_data = test_adata_list[cur_test_name]\n",
    "    cur_processed_data = preprocessQuery(cur_test_data,adata_r.var_names)\n",
    "    test_adata_list[cur_test_name] = cur_processed_data"
   ]
  },
  {
   "cell_type": "markdown",
   "id": "16ea3b67",
   "metadata": {},
   "source": [
    "### 2.3 Training with Stereo-Seq E2S1 data"
   ]
  },
  {
   "cell_type": "code",
   "execution_count": 17,
   "id": "5a6ac066",
   "metadata": {},
   "outputs": [
    {
     "name": "stderr",
     "output_type": "stream",
     "text": [
      "/home/smli/miniconda2/envs/sageNet/lib/python3.9/site-packages/sklearn/covariance/_graph_lasso.py:268: RuntimeWarning: divide by zero encountered in double_scalars\n",
      "  precision_[idx, idx] = 1.0 / (\n",
      "/home/smli/miniconda2/envs/sageNet/lib/python3.9/site-packages/sklearn/covariance/_graph_lasso.py:272: RuntimeWarning: invalid value encountered in multiply\n",
      "  precision_[indices != idx, idx] = -precision_[idx, idx] * coefs\n",
      "/home/smli/miniconda2/envs/sageNet/lib/python3.9/site-packages/sklearn/covariance/_graph_lasso.py:273: RuntimeWarning: invalid value encountered in multiply\n",
      "  precision_[idx, indices != idx] = -precision_[idx, idx] * coefs\n",
      "/home/smli/miniconda2/envs/sageNet/lib/python3.9/site-packages/numpy/core/_methods.py:230: RuntimeWarning: invalid value encountered in subtract\n",
      "  x = asanyarray(arr - arrmean)\n",
      "/home/smli/miniconda2/envs/sageNet/lib/python3.9/site-packages/torch_geometric/deprecation.py:22: UserWarning: 'data.DataLoader' is deprecated, use 'loader.DataLoader' instead\n",
      "  warnings.warn(out)\n",
      "/home/smli/miniconda2/envs/sageNet/lib/python3.9/site-packages/torch_geometric/deprecation.py:22: UserWarning: 'data.DataLoader' is deprecated, use 'loader.DataLoader' instead\n",
      "  warnings.warn(out)\n",
      "/home/smli/miniconda2/envs/sageNet/lib/python3.9/site-packages/torch_geometric/deprecation.py:22: UserWarning: 'data.DataLoader' is deprecated, use 'loader.DataLoader' instead\n",
      "  warnings.warn(out)\n"
     ]
    }
   ],
   "source": [
    "sg.utils.glasso(adata_r, [0.5, 0.75])\n",
    "sg_stereo_obj = sg.sage.sage(device=device)\n",
    "sg_stereo_obj.add_ref(adata_r, comm_columns=['grid_2', 'grid_3', 'grid_4'], tag='ST_all', epochs=20, verbose = False) "
   ]
  },
  {
   "cell_type": "markdown",
   "id": "850ad0d2",
   "metadata": {},
   "source": [
    "### 2.4 Evaluation with single-cell resolution SeqFISH data"
   ]
  },
  {
   "cell_type": "code",
   "execution_count": 18,
   "id": "2ee9063b",
   "metadata": {},
   "outputs": [
    {
     "name": "stderr",
     "output_type": "stream",
     "text": [
      "INFO:root:querying cell for embryo1_l2\n",
      "/home/smli/miniconda2/envs/sageNet/lib/python3.9/site-packages/sagenet-0.1.2-py3.9.egg/sagenet/sage.py:131: ImplicitModificationWarning: Trying to modify attribute `.obs` of view, initializing view as actual.\n",
      "  adata_q.obs['class_'] = 0\n",
      "/home/smli/miniconda2/envs/sageNet/lib/python3.9/site-packages/torch_geometric/deprecation.py:22: UserWarning: 'data.DataLoader' is deprecated, use 'loader.DataLoader' instead\n",
      "  warnings.warn(out)\n",
      "/home/smli/miniconda2/envs/sageNet/lib/python3.9/site-packages/torch_geometric/deprecation.py:22: UserWarning: 'data.DataLoader' is deprecated, use 'loader.DataLoader' instead\n",
      "  warnings.warn(out)\n",
      "/home/smli/miniconda2/envs/sageNet/lib/python3.9/site-packages/torch_geometric/deprecation.py:22: UserWarning: 'data.DataLoader' is deprecated, use 'loader.DataLoader' instead\n",
      "  warnings.warn(out)\n",
      "INFO:root:query DONE\n",
      "INFO:root:evaluate avergae neighbor hit number\n",
      "INFO:root:evaluate average Jessen-Shannon Distance\n",
      "INFO:root:evaluate average spearman's rank correlation coefficient\n",
      "100%|███████████████████████████████████████████████████████████████████████████████████████████████████████████| 7656/7656 [00:17<00:00, 437.68it/s]\n",
      "INFO:root:querying cell for embryo2_l2\n",
      "/home/smli/miniconda2/envs/sageNet/lib/python3.9/site-packages/sagenet-0.1.2-py3.9.egg/sagenet/sage.py:131: ImplicitModificationWarning: Trying to modify attribute `.obs` of view, initializing view as actual.\n",
      "  adata_q.obs['class_'] = 0\n",
      "/home/smli/miniconda2/envs/sageNet/lib/python3.9/site-packages/torch_geometric/deprecation.py:22: UserWarning: 'data.DataLoader' is deprecated, use 'loader.DataLoader' instead\n",
      "  warnings.warn(out)\n",
      "/home/smli/miniconda2/envs/sageNet/lib/python3.9/site-packages/torch_geometric/deprecation.py:22: UserWarning: 'data.DataLoader' is deprecated, use 'loader.DataLoader' instead\n",
      "  warnings.warn(out)\n",
      "/home/smli/miniconda2/envs/sageNet/lib/python3.9/site-packages/torch_geometric/deprecation.py:22: UserWarning: 'data.DataLoader' is deprecated, use 'loader.DataLoader' instead\n",
      "  warnings.warn(out)\n",
      "INFO:root:query DONE\n",
      "INFO:root:evaluate average Jessen-Shannon Distance\n",
      "INFO:root:evaluate average spearman's rank correlation coefficient\n",
      "100%|███████████████████████████████████████████████████████████████████████████████████████████████████████████| 6524/6524 [00:13<00:00, 473.45it/s]\n",
      "INFO:root:querying cell for embryo3_l2\n",
      "/home/smli/miniconda2/envs/sageNet/lib/python3.9/site-packages/sagenet-0.1.2-py3.9.egg/sagenet/sage.py:131: ImplicitModificationWarning: Trying to modify attribute `.obs` of view, initializing view as actual.\n",
      "  adata_q.obs['class_'] = 0\n",
      "/home/smli/miniconda2/envs/sageNet/lib/python3.9/site-packages/torch_geometric/deprecation.py:22: UserWarning: 'data.DataLoader' is deprecated, use 'loader.DataLoader' instead\n",
      "  warnings.warn(out)\n",
      "/home/smli/miniconda2/envs/sageNet/lib/python3.9/site-packages/torch_geometric/deprecation.py:22: UserWarning: 'data.DataLoader' is deprecated, use 'loader.DataLoader' instead\n",
      "  warnings.warn(out)\n",
      "/home/smli/miniconda2/envs/sageNet/lib/python3.9/site-packages/torch_geometric/deprecation.py:22: UserWarning: 'data.DataLoader' is deprecated, use 'loader.DataLoader' instead\n",
      "  warnings.warn(out)\n",
      "INFO:root:query DONE\n",
      "INFO:root:evaluate avergae neighbor hit number\n",
      "INFO:root:evaluate average Jessen-Shannon Distance\n",
      "INFO:root:evaluate average spearman's rank correlation coefficient\n",
      "100%|███████████████████████████████████████████████████████████████████████████████████████████████████████████| 9408/9408 [00:24<00:00, 379.97it/s]\n"
     ]
    }
   ],
   "source": [
    "\n",
    "neighbor_hit_res = {'Dataset':[],'K nearest neighbor':[],'Average hit number':[]}\n",
    "JSD_spearman_res = {'Dataset':[],'Average JSD':[],\"Average spearman's rank correlation coefficient\":[]}\n",
    "\n",
    "res_summary_all   = {\"Dataset\":[],\"Cell type\":[],\"Average JSD\":[],\"Average spearman\":[]}\n",
    "\n",
    "for test_name in test_adata_list:\n",
    "    cur_test_adata = test_adata_list[test_name]\n",
    "    \n",
    "    logging.info(\"querying cell for \"+test_name)\n",
    "    queried_test_adata = queryCell(sg_stereo_obj, cur_test_adata)\n",
    "    logging.info(\"query DONE\")\n",
    "\n",
    "    cur_truth_coor = np.column_stack((queried_test_adata.obs['x'].values,queried_test_adata.obs['y'].values))\n",
    "    truth_distances =  cdist(cur_truth_coor, cur_truth_coor)\n",
    "    truth_sorted_ind = np.argsort(truth_distances)\n",
    "    \n",
    "    precited_dist_mat = queried_test_adata.obsm['dist_map']\n",
    "    predicted_sorted_ind = np.argsort(precited_dist_mat)    \n",
    "    \n",
    "    cur_truth_cell_types = queried_test_adata.obs['cell_type'].values\n",
    "    \n",
    "    # the nearest neighbor hit\n",
    "    logging.info(\"evaluate avergae neighbor hit number\")\n",
    "    cur_neighbor_res,cur_average_neighbor_res = utils.calNeiborHit(truth_sorted_ind,predicted_sorted_ind)\n",
    "    neighbor_hit_res['Dataset'].extend([test_name]*10)\n",
    "    neighbor_hit_res['K nearest neighbor'].extend(cur_average_neighbor_res['K nearest neighbor'])\n",
    "    neighbor_hit_res['Average hit number'].extend(cur_average_neighbor_res['Average hit number'])\n",
    "    \n",
    "    \n",
    "    # Jessen-Shannon Distance\n",
    "    logging.info(\"evaluate average Jessen-Shannon Distance\")\n",
    "    cur_jsd_list = utils.calJSD(truth_sorted_ind,predicted_sorted_ind,cur_truth_cell_types,neighbor_num=20)\n",
    "\n",
    "    # Spearman's rank correlation coefficient\n",
    "    logging.info(\"evaluate average spearman's rank correlation coefficient\")\n",
    "    spearman_corr_list,spearman_p_list = utils.calSpearmanRank(precited_dist_mat,truth_distances)\n",
    "    \n",
    "    \n",
    "    JSD_spearman_res['Dataset'].append(test_name)\n",
    "    JSD_spearman_res['Average JSD'].append(np.mean(cur_jsd_list))\n",
    "    JSD_spearman_res[\"Average spearman's rank correlation coefficient\"].append(np.mean(spearman_corr_list))\n",
    "    \n",
    "    res_summary_all['Dataset'].extend([test_name]*len(cur_truth_cell_types))\n",
    "    res_summary_all['Cell type'].extend(cur_truth_cell_types)\n",
    "    res_summary_all['Average JSD'].extend(cur_jsd_list)\n",
    "    res_summary_all['Average spearman'].extend(spearman_corr_list)\n",
    "    \n",
    "\n",
    "neighbor_hit_res = pd.DataFrame(neighbor_hit_res)\n",
    "JSD_spearman_res = pd.DataFrame(JSD_spearman_res)\n",
    "res_summary_all = pd.DataFrame(res_summary_all)"
   ]
  },
  {
   "cell_type": "code",
   "execution_count": 19,
   "id": "77ad9385",
   "metadata": {},
   "outputs": [],
   "source": [
    "res_summary_all.to_csv(\"results/sageNet_mouse_stereoseq_ref.csv\")"
   ]
  },
  {
   "cell_type": "markdown",
   "id": "d3deec89",
   "metadata": {},
   "source": [
    "### 2.5 Benchmarking results"
   ]
  },
  {
   "cell_type": "markdown",
   "id": "081975e4",
   "metadata": {},
   "source": [
    "#### 2.5.1 Nearest neighbor hit"
   ]
  },
  {
   "cell_type": "code",
   "execution_count": 20,
   "id": "a6f5c2b5",
   "metadata": {},
   "outputs": [
    {
     "data": {
      "text/plain": [
       "<Axes: xlabel='K nearest neighbor', ylabel='Average hit number'>"
      ]
     },
     "execution_count": 20,
     "metadata": {},
     "output_type": "execute_result"
    },
    {
     "data": {
      "image/png": "[encoded data removed]",
      "text/plain": [
       "<Figure size 640x480 with 1 Axes>"
      ]
     },
     "metadata": {},
     "output_type": "display_data"
    }
   ],
   "source": [
    "sns.set_style('whitegrid')\n",
    "sns.lineplot(neighbor_hit_res,x=\"K nearest neighbor\",y=\"Average hit number\",hue=\"Dataset\",markers=True,style='Dataset',\\\n",
    "             dashes=False,linewidth=2)\n"
   ]
  },
  {
   "cell_type": "markdown",
   "id": "c0af0c4c",
   "metadata": {},
   "source": [
    "#### 2.5.2 Average JSD and spearman's rank correlation coefficient"
   ]
  },
  {
   "cell_type": "code",
   "execution_count": 21,
   "id": "ffbca0bf",
   "metadata": {},
   "outputs": [
    {
     "data": {
      "text/html": [
       "<div>\n",
       "<style scoped>\n",
       "    .dataframe tbody tr th:only-of-type {\n",
       "        vertical-align: middle;\n",
       "    }\n",
       "\n",
       "    .dataframe tbody tr th {\n",
       "        vertical-align: top;\n",
       "    }\n",
       "\n",
       "    .dataframe thead th {\n",
       "        text-align: right;\n",
       "    }\n",
       "</style>\n",
       "<table border=\"1\" class=\"dataframe\">\n",
       "  <thead>\n",
       "    <tr style=\"text-align: right;\">\n",
       "      <th></th>\n",
       "      <th>Dataset</th>\n",
       "      <th>Average JSD</th>\n",
       "      <th>Average spearman's rank correlation coefficient</th>\n",
       "    </tr>\n",
       "  </thead>\n",
       "  <tbody>\n",
       "    <tr>\n",
       "      <th>0</th>\n",
       "      <td>embryo1_l2</td>\n",
       "      <td>0.377724</td>\n",
       "      <td>0.268742</td>\n",
       "    </tr>\n",
       "    <tr>\n",
       "      <th>1</th>\n",
       "      <td>embryo2_l2</td>\n",
       "      <td>0.297214</td>\n",
       "      <td>0.480516</td>\n",
       "    </tr>\n",
       "    <tr>\n",
       "      <th>2</th>\n",
       "      <td>embryo3_l2</td>\n",
       "      <td>0.422090</td>\n",
       "      <td>0.239372</td>\n",
       "    </tr>\n",
       "  </tbody>\n",
       "</table>\n",
       "</div>"
      ],
      "text/plain": [
       "      Dataset  Average JSD  Average spearman's rank correlation coefficient\n",
       "0  embryo1_l2     0.377724                                         0.268742\n",
       "1  embryo2_l2     0.297214                                         0.480516\n",
       "2  embryo3_l2     0.422090                                         0.239372"
      ]
     },
     "metadata": {},
     "output_type": "display_data"
    }
   ],
   "source": [
    "display(JSD_spearman_res)"
   ]
  },
  {
   "cell_type": "markdown",
   "id": "326380e8",
   "metadata": {},
   "source": [
    "## 3. Spatial location inference across platforms: human breast cancer datasets"
   ]
  },
  {
   "cell_type": "markdown",
   "id": "32a61cba",
   "metadata": {},
   "source": [
    "### 3.1 Load data"
   ]
  },
  {
   "cell_type": "code",
   "execution_count": 22,
   "id": "2d2d94c5",
   "metadata": {},
   "outputs": [],
   "source": [
    "DATA_ROOT = \"../benchmarking_data\"\n",
    "human_breast_s06 = sc.read_h5ad(os.path.join(DATA_ROOT,\"s06_normal_hvg1024.h5ad\"))\n",
    "human_breast_s08 = sc.read_h5ad(os.path.join(DATA_ROOT,\"s08_normal_hvg1024.h5ad\"))\n",
    "human_breast_s08.X = human_breast_s08.X.todense()"
   ]
  },
  {
   "cell_type": "markdown",
   "id": "5164286d",
   "metadata": {},
   "source": [
    "### 3.2 Data preprocessing"
   ]
  },
  {
   "cell_type": "code",
   "execution_count": 23,
   "id": "568b5b6b",
   "metadata": {},
   "outputs": [],
   "source": [
    "adata_r = human_breast_s06\n",
    "adata_r.obs['x'] = adata_r.obsm['spatial'][:,0]\n",
    "adata_r.obs['y'] = adata_r.obsm['spatial'][:,1]\n",
    "adata_r.obs['sample'] = ['E9.5_E2S1.MOSTA']*adata_r.obs.shape[0]\n",
    "grid_adata(adata_r, [2, 3, 4])\n",
    "adata_r.obs['position_3'] = [grid_code[k] for k in list(map(str, list(map(int, adata_r.obs['grid_3'].tolist()))))]\n",
    "adata_r.obs['class_'] = 0"
   ]
  },
  {
   "cell_type": "markdown",
   "id": "ee213d15",
   "metadata": {},
   "source": [
    "### 3.3 Training with 10X Visium human breast data"
   ]
  },
  {
   "cell_type": "code",
   "execution_count": 24,
   "id": "f28feabc",
   "metadata": {},
   "outputs": [
    {
     "name": "stderr",
     "output_type": "stream",
     "text": [
      "/home/smli/miniconda2/envs/sageNet/lib/python3.9/site-packages/sklearn/covariance/_graph_lasso.py:268: RuntimeWarning: divide by zero encountered in double_scalars\n",
      "  precision_[idx, idx] = 1.0 / (\n",
      "/home/smli/miniconda2/envs/sageNet/lib/python3.9/site-packages/sklearn/covariance/_graph_lasso.py:272: RuntimeWarning: invalid value encountered in multiply\n",
      "  precision_[indices != idx, idx] = -precision_[idx, idx] * coefs\n",
      "/home/smli/miniconda2/envs/sageNet/lib/python3.9/site-packages/sklearn/covariance/_graph_lasso.py:273: RuntimeWarning: invalid value encountered in multiply\n",
      "  precision_[idx, indices != idx] = -precision_[idx, idx] * coefs\n",
      "/home/smli/miniconda2/envs/sageNet/lib/python3.9/site-packages/numpy/core/_methods.py:230: RuntimeWarning: invalid value encountered in subtract\n",
      "  x = asanyarray(arr - arrmean)\n",
      "/home/smli/miniconda2/envs/sageNet/lib/python3.9/site-packages/torch_geometric/deprecation.py:22: UserWarning: 'data.DataLoader' is deprecated, use 'loader.DataLoader' instead\n",
      "  warnings.warn(out)\n",
      "/home/smli/miniconda2/envs/sageNet/lib/python3.9/site-packages/torch_geometric/deprecation.py:22: UserWarning: 'data.DataLoader' is deprecated, use 'loader.DataLoader' instead\n",
      "  warnings.warn(out)\n",
      "/home/smli/miniconda2/envs/sageNet/lib/python3.9/site-packages/torch_geometric/deprecation.py:22: UserWarning: 'data.DataLoader' is deprecated, use 'loader.DataLoader' instead\n",
      "  warnings.warn(out)\n"
     ]
    }
   ],
   "source": [
    "sg.utils.glasso(adata_r, [0.5, 0.75])\n",
    "sg_breast_obj = sg.sage.sage(device=device)\n",
    "sg_breast_obj.add_ref(adata_r, comm_columns=['grid_2', 'grid_3', 'grid_4'], tag='ST_all', epochs=20, verbose = False) "
   ]
  },
  {
   "cell_type": "markdown",
   "id": "2e5b6cbe",
   "metadata": {},
   "source": [
    "### 3.4 Evaluation"
   ]
  },
  {
   "cell_type": "code",
   "execution_count": 25,
   "id": "5e31f4e7",
   "metadata": {},
   "outputs": [
    {
     "name": "stderr",
     "output_type": "stream",
     "text": [
      "INFO:root:querying cell for human breast data S08\n",
      "/home/smli/miniconda2/envs/sageNet/lib/python3.9/site-packages/torch_geometric/deprecation.py:22: UserWarning: 'data.DataLoader' is deprecated, use 'loader.DataLoader' instead\n",
      "  warnings.warn(out)\n",
      "/home/smli/miniconda2/envs/sageNet/lib/python3.9/site-packages/torch_geometric/deprecation.py:22: UserWarning: 'data.DataLoader' is deprecated, use 'loader.DataLoader' instead\n",
      "  warnings.warn(out)\n",
      "/home/smli/miniconda2/envs/sageNet/lib/python3.9/site-packages/torch_geometric/deprecation.py:22: UserWarning: 'data.DataLoader' is deprecated, use 'loader.DataLoader' instead\n",
      "  warnings.warn(out)\n",
      "INFO:root:query DONE\n",
      "INFO:root:evaluate avergae neighbor hit number\n",
      "INFO:root:evaluate average Jessen-Shannon Distance\n",
      "INFO:root:evaluate average spearman's rank correlation coefficient\n",
      "100%|███████████████████████████████████████████████████████████████████████████████████████████████████████████| 2801/2801 [00:03<00:00, 733.19it/s]\n"
     ]
    }
   ],
   "source": [
    "cur_test_adata = human_breast_s08\n",
    "\n",
    "neighbor_hit_res = {'Dataset':[],'K nearest neighbor':[],'Average hit number':[]}\n",
    "JSD_spearman_res = {'Dataset':[],'Average JSD':[],\"Average spearman's rank correlation coefficient\":[]}\n",
    "\n",
    "logging.info(\"querying cell for human breast data S08\")\n",
    "queried_test_adata = queryCell(sg_breast_obj, cur_test_adata)\n",
    "logging.info(\"query DONE\")\n",
    "\n",
    "cur_truth_coor = np.column_stack((queried_test_adata.obs['x'].values,queried_test_adata.obs['y'].values))\n",
    "truth_distances =  cdist(cur_truth_coor, cur_truth_coor)\n",
    "truth_sorted_ind = np.argsort(truth_distances)\n",
    "\n",
    "precited_dist_mat = queried_test_adata.obsm['dist_map']\n",
    "predicted_sorted_ind = np.argsort(precited_dist_mat)    \n",
    "    \n",
    "cur_truth_cell_types = queried_test_adata.obs['cell_type'].values\n",
    "    \n",
    "# the nearest neighbor hit\n",
    "logging.info(\"evaluate avergae neighbor hit number\")\n",
    "cur_neighbor_res,cur_average_neighbor_res = utils.calNeiborHit(truth_sorted_ind,predicted_sorted_ind)\n",
    "neighbor_hit_res['Dataset'].extend([\"10X visium S08\"]*10)\n",
    "neighbor_hit_res['K nearest neighbor'].extend(cur_average_neighbor_res['K nearest neighbor'])\n",
    "neighbor_hit_res['Average hit number'].extend(cur_average_neighbor_res['Average hit number'])\n",
    "res_summary_all   = {\"Dataset\":[],\"Cell type\":[],\"Average JSD\":[],\"Average spearman\":[]}\n",
    "\n",
    "# Jessen-Shannon Distance\n",
    "logging.info(\"evaluate average Jessen-Shannon Distance\")\n",
    "cur_jsd_list = utils.calJSD(truth_sorted_ind,predicted_sorted_ind,cur_truth_cell_types,neighbor_num=20)\n",
    "\n",
    "# Spearman's rank correlation coefficient\n",
    "logging.info(\"evaluate average spearman's rank correlation coefficient\")\n",
    "spearman_corr_list,spearman_p_list = utils.calSpearmanRank(precited_dist_mat,truth_distances)\n",
    "\n",
    "    \n",
    "JSD_spearman_res['Dataset'].append(\"10X visium S08\")\n",
    "JSD_spearman_res['Average JSD'].append(np.mean(cur_jsd_list))\n",
    "JSD_spearman_res[\"Average spearman's rank correlation coefficient\"].append(np.mean(spearman_corr_list))\n",
    "\n",
    "res_summary_all['Dataset'].extend([\"10X visium S08\"]*len(cur_truth_cell_types))\n",
    "res_summary_all['Cell type'].extend(cur_truth_cell_types)\n",
    "res_summary_all['Average JSD'].extend(cur_jsd_list)\n",
    "res_summary_all['Average spearman'].extend(spearman_corr_list)\n",
    "\n",
    "neighbor_hit_res = pd.DataFrame(neighbor_hit_res)\n",
    "JSD_spearman_res = pd.DataFrame(JSD_spearman_res)\n",
    "res_summary_all = pd.DataFrame(res_summary_all)\n"
   ]
  },
  {
   "cell_type": "code",
   "execution_count": 26,
   "id": "32971421",
   "metadata": {},
   "outputs": [],
   "source": [
    "res_summary_all.to_csv(\"results/sageNet_human_breast.csv\")"
   ]
  },
  {
   "cell_type": "markdown",
   "id": "b7e177a1",
   "metadata": {},
   "source": [
    "#### 3.4.1 Nearest neighbor hit"
   ]
  },
  {
   "cell_type": "code",
   "execution_count": 27,
   "id": "78328542",
   "metadata": {},
   "outputs": [
    {
     "data": {
      "text/plain": [
       "Text(0.5, 1.0, 'Evaluation of cell neighbor reconstrution for SageNet')"
      ]
     },
     "execution_count": 27,
     "metadata": {},
     "output_type": "execute_result"
    },
    {
     "data": {
      "image/png": "[encoded data removed]",
      "text/plain": [
       "<Figure size 640x480 with 1 Axes>"
      ]
     },
     "metadata": {},
     "output_type": "display_data"
    }
   ],
   "source": [
    "sns.set_style('whitegrid')\n",
    "sns.lineplot(neighbor_hit_res,x=\"K nearest neighbor\",y=\"Average hit number\",hue=\"Dataset\",markers=True,style='Dataset',\\\n",
    "             dashes=False,linewidth=2)\n",
    "plt.title(\"Evaluation of cell neighbor reconstrution for SageNet\")"
   ]
  },
  {
   "cell_type": "markdown",
   "id": "64ce737c",
   "metadata": {},
   "source": [
    "#### 3.4.2 Average JSD and spearman's rank correlation coefficient"
   ]
  },
  {
   "cell_type": "code",
   "execution_count": 28,
   "id": "9b98910d",
   "metadata": {},
   "outputs": [
    {
     "data": {
      "text/html": [
       "<div>\n",
       "<style scoped>\n",
       "    .dataframe tbody tr th:only-of-type {\n",
       "        vertical-align: middle;\n",
       "    }\n",
       "\n",
       "    .dataframe tbody tr th {\n",
       "        vertical-align: top;\n",
       "    }\n",
       "\n",
       "    .dataframe thead th {\n",
       "        text-align: right;\n",
       "    }\n",
       "</style>\n",
       "<table border=\"1\" class=\"dataframe\">\n",
       "  <thead>\n",
       "    <tr style=\"text-align: right;\">\n",
       "      <th></th>\n",
       "      <th>Dataset</th>\n",
       "      <th>Average JSD</th>\n",
       "      <th>Average spearman's rank correlation coefficient</th>\n",
       "    </tr>\n",
       "  </thead>\n",
       "  <tbody>\n",
       "    <tr>\n",
       "      <th>0</th>\n",
       "      <td>10X visium S08</td>\n",
       "      <td>0.386123</td>\n",
       "      <td>0.121653</td>\n",
       "    </tr>\n",
       "  </tbody>\n",
       "</table>\n",
       "</div>"
      ],
      "text/plain": [
       "          Dataset  Average JSD   \n",
       "0  10X visium S08     0.386123  \\\n",
       "\n",
       "   Average spearman's rank correlation coefficient  \n",
       "0                                         0.121653  "
      ]
     },
     "execution_count": 28,
     "metadata": {},
     "output_type": "execute_result"
    }
   ],
   "source": [
    "JSD_spearman_res"
   ]
  },
  {
   "cell_type": "markdown",
   "id": "c925bb3a",
   "metadata": {},
   "source": [
    "## 4. Spatial location inference: mouse brain cells generated by MERSCOPE"
   ]
  },
  {
   "cell_type": "markdown",
   "id": "eb8d5779",
   "metadata": {},
   "source": [
    "### 4.1. Load data"
   ]
  },
  {
   "cell_type": "code",
   "execution_count": 57,
   "id": "9dfe1ec1",
   "metadata": {},
   "outputs": [],
   "source": [
    "DATA_ROOT = \"../benchmarking_data\"\n",
    "left_brain_adata = sc.read_h5ad(os.path.join(DATA_ROOT,\"s1r1_left_original.h5ad\"))\n",
    "right_brain_adata = sc.read_h5ad(os.path.join(DATA_ROOT,\"s1r1_right_original.h5ad\"))"
   ]
  },
  {
   "cell_type": "markdown",
   "id": "1137b071",
   "metadata": {},
   "source": [
    "### 4.2 Data preprocessing"
   ]
  },
  {
   "cell_type": "code",
   "execution_count": 58,
   "id": "e6dd74cb",
   "metadata": {},
   "outputs": [],
   "source": [
    "adata_r = left_brain_adata\n",
    "device = \"cpu\"\n",
    "\n",
    "glasso(adata_r, [0.5, 0.75, 1])\n",
    "adata_r.obsm['spatial'] = np.array(adata_r.obs[['x','y']])\n",
    "\n",
    "sq.gr.spatial_neighbors(adata_r, coord_type=\"generic\")\n",
    "sc.tl.leiden(adata_r, resolution=.01, random_state=0, key_added='leiden_0.01', adjacency=adata_r.obsp[\"spatial_connectivities\"])\n",
    "sc.tl.leiden(adata_r, resolution=.05, random_state=0, key_added='leiden_0.05', adjacency=adata_r.obsp[\"spatial_connectivities\"])\n",
    "sc.tl.leiden(adata_r, resolution=.1, random_state=0, key_added='leiden_0.1', adjacency=adata_r.obsp[\"spatial_connectivities\"])\n",
    "sc.tl.leiden(adata_r, resolution=.5, random_state=0, key_added='leiden_0.5', adjacency=adata_r.obsp[\"spatial_connectivities\"])\n",
    "sc.tl.leiden(adata_r, resolution=1, random_state=0, key_added='leiden_1', adjacency=adata_r.obsp[\"spatial_connectivities\"])"
   ]
  },
  {
   "cell_type": "markdown",
   "id": "05a03de1",
   "metadata": {},
   "source": [
    "### 4.3 Training with left brain"
   ]
  },
  {
   "cell_type": "code",
   "execution_count": 59,
   "id": "034e4db1",
   "metadata": {},
   "outputs": [
    {
     "name": "stderr",
     "output_type": "stream",
     "text": [
      "/home/smli/miniconda2/envs/sageNet/lib/python3.9/site-packages/torch_geometric/deprecation.py:22: UserWarning: 'data.DataLoader' is deprecated, use 'loader.DataLoader' instead\n",
      "  warnings.warn(out)\n",
      "/home/smli/miniconda2/envs/sageNet/lib/python3.9/site-packages/torch_geometric/deprecation.py:22: UserWarning: 'data.DataLoader' is deprecated, use 'loader.DataLoader' instead\n",
      "  warnings.warn(out)\n",
      "/home/smli/miniconda2/envs/sageNet/lib/python3.9/site-packages/torch_geometric/deprecation.py:22: UserWarning: 'data.DataLoader' is deprecated, use 'loader.DataLoader' instead\n",
      "  warnings.warn(out)\n",
      "/home/smli/miniconda2/envs/sageNet/lib/python3.9/site-packages/torch_geometric/deprecation.py:22: UserWarning: 'data.DataLoader' is deprecated, use 'loader.DataLoader' instead\n",
      "  warnings.warn(out)\n",
      "/home/smli/miniconda2/envs/sageNet/lib/python3.9/site-packages/torch_geometric/deprecation.py:22: UserWarning: 'data.DataLoader' is deprecated, use 'loader.DataLoader' instead\n",
      "  warnings.warn(out)\n"
     ]
    }
   ],
   "source": [
    "sg_obj = sg.sage.sage(device=device)\n",
    "sg_obj.add_ref(adata_r, comm_columns=['leiden_0.01', 'leiden_0.05', 'leiden_0.1', 'leiden_0.5', 'leiden_1'], tag='merfish_ref', epochs=20, verbose = False)"
   ]
  },
  {
   "cell_type": "markdown",
   "id": "8bf47d45",
   "metadata": {},
   "source": [
    "### 4.4 Evaluation"
   ]
  },
  {
   "cell_type": "code",
   "execution_count": 60,
   "id": "7e7a59b0",
   "metadata": {},
   "outputs": [
    {
     "name": "stderr",
     "output_type": "stream",
     "text": [
      "INFO:root:querying cell for merfish sample\n",
      "/home/smli/miniconda2/envs/sageNet/lib/python3.9/site-packages/torch_geometric/deprecation.py:22: UserWarning: 'data.DataLoader' is deprecated, use 'loader.DataLoader' instead\n",
      "  warnings.warn(out)\n",
      "/home/smli/miniconda2/envs/sageNet/lib/python3.9/site-packages/torch_geometric/deprecation.py:22: UserWarning: 'data.DataLoader' is deprecated, use 'loader.DataLoader' instead\n",
      "  warnings.warn(out)\n",
      "/home/smli/miniconda2/envs/sageNet/lib/python3.9/site-packages/torch_geometric/deprecation.py:22: UserWarning: 'data.DataLoader' is deprecated, use 'loader.DataLoader' instead\n",
      "  warnings.warn(out)\n",
      "/home/smli/miniconda2/envs/sageNet/lib/python3.9/site-packages/torch_geometric/deprecation.py:22: UserWarning: 'data.DataLoader' is deprecated, use 'loader.DataLoader' instead\n",
      "  warnings.warn(out)\n",
      "/home/smli/miniconda2/envs/sageNet/lib/python3.9/site-packages/torch_geometric/deprecation.py:22: UserWarning: 'data.DataLoader' is deprecated, use 'loader.DataLoader' instead\n",
      "  warnings.warn(out)\n",
      "INFO:root:query DONE\n",
      "INFO:root:evaluate avergae neighbor hit number\n",
      "INFO:root:evaluate average Jessen-Shannon Distance\n",
      "/autofs/bal12/smli/cell-to-location/src/github/benchmarking_related_methods/utils.py:55: RuntimeWarning: invalid value encountered in true_divide\n",
      "  prediction_datasets = prediction_datasets/prediction_datasets.sum()\n",
      "/autofs/bal12/smli/cell-to-location/src/github/benchmarking_related_methods/utils.py:56: RuntimeWarning: invalid value encountered in true_divide\n",
      "  truth_datasets = truth_datasets/truth_datasets.sum()\n",
      "INFO:root:evaluate average spearman's rank correlation coefficient\n",
      "100%|█████████████████████████████████████████████████████████████████████| 9419/9419 [00:22<00:00, 419.15it/s]\n"
     ]
    }
   ],
   "source": [
    "cur_test_adata = right_brain_adata\n",
    "\n",
    "neighbor_hit_res = {'Dataset':[],'K nearest neighbor':[],'Average hit number':[]}\n",
    "JSD_spearman_res = {'Dataset':[],'Average JSD':[],\"Average spearman's rank correlation coefficient\":[]}\n",
    "\n",
    "logging.info(\"querying cell for merfish sample\")\n",
    "queried_test_adata = queryCell(sg_obj, cur_test_adata)\n",
    "logging.info(\"query DONE\")\n",
    "\n",
    "cur_truth_coor = np.column_stack((queried_test_adata.obs['x'].values,queried_test_adata.obs['y'].values))\n",
    "truth_distances =  cdist(cur_truth_coor, cur_truth_coor)\n",
    "truth_sorted_ind = np.argsort(truth_distances)\n",
    "\n",
    "precited_dist_mat = queried_test_adata.obsm['dist_map']\n",
    "predicted_sorted_ind = np.argsort(precited_dist_mat)    \n",
    "    \n",
    "cur_truth_cell_types = queried_test_adata.obs['cell_type'].values\n",
    "    \n",
    "# the nearest neighbor hit\n",
    "logging.info(\"evaluate avergae neighbor hit number\")\n",
    "cur_neighbor_res,cur_average_neighbor_res = utils.calNeiborHit(truth_sorted_ind,predicted_sorted_ind)\n",
    "neighbor_hit_res['Dataset'].extend([\"merfish\"]*10)\n",
    "neighbor_hit_res['K nearest neighbor'].extend(cur_average_neighbor_res['K nearest neighbor'])\n",
    "neighbor_hit_res['Average hit number'].extend(cur_average_neighbor_res['Average hit number'])\n",
    "res_summary_all   = {\"Dataset\":[],\"Cell type\":[],\"Average JSD\":[],\"Average spearman\":[]}\n",
    "\n",
    "# Jessen-Shannon Distance\n",
    "logging.info(\"evaluate average Jessen-Shannon Distance\")\n",
    "cur_jsd_list = utils.calJSD(truth_sorted_ind,predicted_sorted_ind,cur_truth_cell_types,neighbor_num=20)\n",
    "\n",
    "# Spearman's rank correlation coefficient\n",
    "logging.info(\"evaluate average spearman's rank correlation coefficient\")\n",
    "spearman_corr_list,spearman_p_list = utils.calSpearmanRank(precited_dist_mat,truth_distances)\n",
    "\n",
    "    \n",
    "JSD_spearman_res['Dataset'].append(\"merfish\")\n",
    "JSD_spearman_res['Average JSD'].append(np.mean(cur_jsd_list))\n",
    "JSD_spearman_res[\"Average spearman's rank correlation coefficient\"].append(np.mean(spearman_corr_list))\n",
    "\n",
    "res_summary_all['Dataset'].extend([\"merfish\"]*len(cur_truth_cell_types))\n",
    "res_summary_all['Cell type'].extend(cur_truth_cell_types)\n",
    "res_summary_all['Average JSD'].extend(cur_jsd_list)\n",
    "res_summary_all['Average spearman'].extend(spearman_corr_list)\n",
    "\n",
    "neighbor_hit_res = pd.DataFrame(neighbor_hit_res)\n",
    "JSD_spearman_res = pd.DataFrame(JSD_spearman_res)\n",
    "res_summary_all = pd.DataFrame(res_summary_all)\n"
   ]
  },
  {
   "cell_type": "markdown",
   "id": "96c5e34a",
   "metadata": {},
   "source": [
    "#### 4.4.1 Nearest neighbor hit"
   ]
  },
  {
   "cell_type": "code",
   "execution_count": 62,
   "id": "d2c91cc1",
   "metadata": {},
   "outputs": [
    {
     "data": {
      "text/plain": [
       "Text(0.5, 1.0, 'Evaluation of cell neighbor reconstrution for SageNet')"
      ]
     },
     "execution_count": 62,
     "metadata": {},
     "output_type": "execute_result"
    },
    {
     "data": {
      "image/png": "[encoded data removed]",
      "text/plain": [
       "<Figure size 640x480 with 1 Axes>"
      ]
     },
     "metadata": {},
     "output_type": "display_data"
    }
   ],
   "source": [
    "sns.set_style('whitegrid')\n",
    "sns.lineplot(neighbor_hit_res,x=\"K nearest neighbor\",y=\"Average hit number\",hue=\"Dataset\",markers=True,style='Dataset',\\\n",
    "             dashes=False,linewidth=2)\n",
    "plt.title(\"Evaluation of cell neighbor reconstrution for SageNet\")"
   ]
  },
  {
   "cell_type": "markdown",
   "id": "576bcc9a",
   "metadata": {},
   "source": [
    "#### 4.4.2 Spearman's rank correlation coefficient\n"
   ]
  },
  {
   "cell_type": "code",
   "execution_count": 63,
   "id": "e9578c63",
   "metadata": {},
   "outputs": [
    {
     "data": {
      "text/html": [
       "<div>\n",
       "<style scoped>\n",
       "    .dataframe tbody tr th:only-of-type {\n",
       "        vertical-align: middle;\n",
       "    }\n",
       "\n",
       "    .dataframe tbody tr th {\n",
       "        vertical-align: top;\n",
       "    }\n",
       "\n",
       "    .dataframe thead th {\n",
       "        text-align: right;\n",
       "    }\n",
       "</style>\n",
       "<table border=\"1\" class=\"dataframe\">\n",
       "  <thead>\n",
       "    <tr style=\"text-align: right;\">\n",
       "      <th></th>\n",
       "      <th>Dataset</th>\n",
       "      <th>Average JSD</th>\n",
       "      <th>Average spearman's rank correlation coefficient</th>\n",
       "    </tr>\n",
       "  </thead>\n",
       "  <tbody>\n",
       "    <tr>\n",
       "      <th>0</th>\n",
       "      <td>merfish</td>\n",
       "      <td>NaN</td>\n",
       "      <td>0.492332</td>\n",
       "    </tr>\n",
       "  </tbody>\n",
       "</table>\n",
       "</div>"
      ],
      "text/plain": [
       "   Dataset  Average JSD  Average spearman's rank correlation coefficient\n",
       "0  merfish          NaN                                         0.492332"
      ]
     },
     "execution_count": 63,
     "metadata": {},
     "output_type": "execute_result"
    }
   ],
   "source": [
    "# there is no JSD because this dataset do not contain information of cell types\n",
    "JSD_spearman_res"
   ]
  },
  {
   "cell_type": "code",
   "execution_count": null,
   "id": "c2a2b1eb",
   "metadata": {},
   "outputs": [],
   "source": []
  }
 ],
 "metadata": {
  "kernelspec": {
   "display_name": "sageNet",
   "language": "python",
   "name": "sagenet"
  },
  "language_info": {
   "codemirror_mode": {
    "name": "ipython",
    "version": 3
   },
   "file_extension": ".py",
   "mimetype": "text/x-python",
   "name": "python",
   "nbconvert_exporter": "python",
   "pygments_lexer": "ipython3",
   "version": "3.9.16"
  }
 },
 "nbformat": 4,
 "nbformat_minor": 5
}
