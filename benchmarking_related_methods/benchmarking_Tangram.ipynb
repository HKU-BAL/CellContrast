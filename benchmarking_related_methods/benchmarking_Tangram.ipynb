{
 "cells": [
  {
   "cell_type": "markdown",
   "id": "c362cbfa",
   "metadata": {},
   "source": [
    "# Benchmarking scripts for Tangram"
   ]
  },
  {
   "cell_type": "markdown",
   "id": "66f99093",
   "metadata": {},
   "source": [
    "## Intallation of the running environment"
   ]
  },
  {
   "cell_type": "markdown",
   "id": "5e7bfd6d",
   "metadata": {},
   "source": [
    "* Install the envrioment of Tangram based on the instructions: https://github.com/broadinstitute/Tangram"
   ]
  },
  {
   "cell_type": "code",
   "execution_count": 2,
   "id": "103c9d70",
   "metadata": {},
   "outputs": [
    {
     "name": "stderr",
     "output_type": "stream",
     "text": [
      "/home/smli/miniconda2/envs/tangram-env/lib/python3.8/site-packages/tqdm/auto.py:22: TqdmWarning: IProgress not found. Please update jupyter and ipywidgets. See https://ipywidgets.readthedocs.io/en/stable/user_install.html\n",
      "  from .autonotebook import tqdm as notebook_tqdm\n"
     ]
    }
   ],
   "source": [
    "import tangram as tg\n",
    "import scanpy as sc\n",
    "import anndata\n",
    "import os\n",
    "import logging\n",
    "import numpy as np\n",
    "from scipy.spatial.distance import cdist\n",
    "import utils\n",
    "import importlib\n",
    "import pandas as pd\n",
    "import seaborn as sns\n",
    "import matplotlib.pyplot as plt\n",
    "importlib.reload(utils)\n",
    "logging.getLogger().setLevel(logging.INFO)"
   ]
  },
  {
   "cell_type": "markdown",
   "id": "16505b0a",
   "metadata": {},
   "source": [
    "## Utilized functions"
   ]
  },
  {
   "cell_type": "code",
   "execution_count": 3,
   "id": "0ea6911e",
   "metadata": {},
   "outputs": [],
   "source": [
    "def getPredictedCoor(train_data,test_data,mapping_mat):\n",
    "    \n",
    "    \n",
    "    train_coor = np.column_stack((train_data.obs['x'].values,train_data.obs['y'].values))\n",
    "    predicted_coor = []\n",
    "    for i in range(mapping_mat.shape[0]):\n",
    "        cur_mapping_probs = mapping_mat[i]\n",
    "        \n",
    "        cur_ind = np.argmax(cur_mapping_probs)\n",
    "        cur_predicted_coor = np.take(train_coor,cur_ind,axis=0)\n",
    "        \n",
    "        predicted_coor.append(cur_predicted_coor)\n",
    "    \n",
    "    predicted_coor = np.asarray(predicted_coor)\n",
    "    \n",
    "    return predicted_coor"
   ]
  },
  {
   "cell_type": "markdown",
   "id": "56bea9fd",
   "metadata": {},
   "source": [
    "## 1. Spatial reconstruction of mouse gastrulation cells using single-cell resolution ST reference "
   ]
  },
  {
   "cell_type": "markdown",
   "id": "f827e6be",
   "metadata": {},
   "source": [
    "### 1.1 Load data"
   ]
  },
  {
   "cell_type": "code",
   "execution_count": 3,
   "id": "f6a38f0f",
   "metadata": {},
   "outputs": [
    {
     "name": "stdout",
     "output_type": "stream",
     "text": [
      "(10150, 351) (7656, 351) (6524, 351) (9408, 351)\n"
     ]
    }
   ],
   "source": [
    "# Please modify the data path as neccessary \n",
    "\n",
    "DATA_ROOT = \"../benchmarking_data\"\n",
    "\n",
    "embryo1_l1 = sc.read_h5ad(os.path.join(DATA_ROOT,\"seqFISH_embryo1_l1.h5ad\"))\n",
    "embryo1_l2 = sc.read_h5ad(os.path.join(DATA_ROOT,\"seqFISH_embryo1_l2.h5ad\"))\n",
    "embryo2_l2 = sc.read_h5ad(os.path.join(DATA_ROOT,\"seqFISH_embryo2_l2.h5ad\"))\n",
    "embryo3_l2 = sc.read_h5ad(os.path.join(DATA_ROOT,\"seqFISH_embryo3_l2.h5ad\"))\n",
    "\n",
    "print(embryo1_l1.shape,embryo1_l2.shape,embryo2_l2.shape,embryo3_l2.shape)"
   ]
  },
  {
   "cell_type": "markdown",
   "id": "f4d7afc5",
   "metadata": {},
   "source": [
    "### 1.2 Performing alignment and evaluation"
   ]
  },
  {
   "cell_type": "code",
   "execution_count": 4,
   "id": "31b6b4f5",
   "metadata": {},
   "outputs": [
    {
     "name": "stderr",
     "output_type": "stream",
     "text": [
      "INFO:root:Aligning data for embryo1_l2\n",
      "INFO:root:351 training genes are saved in `uns``training_genes` of both single cell and spatial Anndatas.\n",
      "INFO:root:351 overlapped genes are saved in `uns``overlap_genes` of both single cell and spatial Anndatas.\n",
      "INFO:root:uniform based density prior is calculated and saved in `obs``uniform_density` of the spatial Anndata.\n",
      "INFO:root:rna count based density prior is calculated and saved in `obs``rna_count_based_density` of the spatial Anndata.\n",
      "INFO:root:Allocate tensors for mapping.\n",
      "INFO:root:Begin training with 351 genes and rna_count_based density_prior in cells mode...\n",
      "INFO:root:Printing scores every 100 epochs.\n"
     ]
    },
    {
     "name": "stdout",
     "output_type": "stream",
     "text": [
      "Score: 0.486, KL reg: 0.014\n",
      "Score: 0.721, KL reg: 0.001\n",
      "Score: 0.735, KL reg: 0.001\n",
      "Score: 0.738, KL reg: 0.001\n",
      "Score: 0.740, KL reg: 0.001\n",
      "Score: 0.741, KL reg: 0.001\n",
      "Score: 0.741, KL reg: 0.001\n",
      "Score: 0.742, KL reg: 0.001\n",
      "Score: 0.742, KL reg: 0.001\n",
      "Score: 0.742, KL reg: 0.001\n"
     ]
    },
    {
     "name": "stderr",
     "output_type": "stream",
     "text": [
      "INFO:root:Saving results..\n",
      "INFO:root:Aligning DONE\n",
      "100%|███████████████████████████████████████████████████████████████████████████████████████████████████████████| 7656/7656 [00:21<00:00, 356.44it/s]\n",
      "INFO:root:Aligning data for embryo2_l2\n",
      "INFO:root:351 training genes are saved in `uns``training_genes` of both single cell and spatial Anndatas.\n",
      "INFO:root:351 overlapped genes are saved in `uns``overlap_genes` of both single cell and spatial Anndatas.\n",
      "INFO:root:uniform based density prior is calculated and saved in `obs``uniform_density` of the spatial Anndata.\n",
      "INFO:root:rna count based density prior is calculated and saved in `obs``rna_count_based_density` of the spatial Anndata.\n",
      "INFO:root:Allocate tensors for mapping.\n",
      "INFO:root:Begin training with 351 genes and rna_count_based density_prior in cells mode...\n",
      "INFO:root:Printing scores every 100 epochs.\n"
     ]
    },
    {
     "name": "stdout",
     "output_type": "stream",
     "text": [
      "Score: 0.486, KL reg: 0.014\n",
      "Score: 0.713, KL reg: 0.001\n",
      "Score: 0.727, KL reg: 0.001\n",
      "Score: 0.730, KL reg: 0.001\n",
      "Score: 0.731, KL reg: 0.001\n",
      "Score: 0.732, KL reg: 0.001\n",
      "Score: 0.733, KL reg: 0.001\n",
      "Score: 0.733, KL reg: 0.001\n",
      "Score: 0.734, KL reg: 0.001\n",
      "Score: 0.734, KL reg: 0.001\n"
     ]
    },
    {
     "name": "stderr",
     "output_type": "stream",
     "text": [
      "INFO:root:Saving results..\n",
      "INFO:root:Aligning DONE\n",
      "100%|███████████████████████████████████████████████████████████████████████████████████████████████████████████| 6524/6524 [00:16<00:00, 403.88it/s]\n",
      "INFO:root:Aligning data for embryo3_l2\n",
      "INFO:root:351 training genes are saved in `uns``training_genes` of both single cell and spatial Anndatas.\n",
      "INFO:root:351 overlapped genes are saved in `uns``overlap_genes` of both single cell and spatial Anndatas.\n",
      "INFO:root:uniform based density prior is calculated and saved in `obs``uniform_density` of the spatial Anndata.\n",
      "INFO:root:rna count based density prior is calculated and saved in `obs``rna_count_based_density` of the spatial Anndata.\n",
      "INFO:root:Allocate tensors for mapping.\n",
      "INFO:root:Begin training with 351 genes and rna_count_based density_prior in cells mode...\n",
      "INFO:root:Printing scores every 100 epochs.\n"
     ]
    },
    {
     "name": "stdout",
     "output_type": "stream",
     "text": [
      "Score: 0.486, KL reg: 0.014\n",
      "Score: 0.732, KL reg: 0.001\n",
      "Score: 0.748, KL reg: 0.001\n",
      "Score: 0.752, KL reg: 0.001\n",
      "Score: 0.753, KL reg: 0.001\n",
      "Score: 0.754, KL reg: 0.001\n",
      "Score: 0.755, KL reg: 0.001\n",
      "Score: 0.755, KL reg: 0.001\n",
      "Score: 0.756, KL reg: 0.001\n",
      "Score: 0.756, KL reg: 0.001\n"
     ]
    },
    {
     "name": "stderr",
     "output_type": "stream",
     "text": [
      "INFO:root:Saving results..\n",
      "INFO:root:Aligning DONE\n",
      "100%|███████████████████████████████████████████████████████████████████████████████████████████████████████████| 9408/9408 [00:29<00:00, 316.21it/s]\n"
     ]
    }
   ],
   "source": [
    "test_adata_list = {\"embryo1_l2\":embryo1_l2,\"embryo2_l2\":embryo2_l2,\"embryo3_l2\":embryo3_l2}\n",
    "# set the reference data\n",
    "ad_sp = embryo1_l1\n",
    "\n",
    "neighbor_hit_res = {'Dataset':[],'K nearest neighbor':[],'Average hit number':[]}\n",
    "JSD_spearman_res = {'Dataset':[],'Average JSD':[],\"Average spearman's rank correlation coefficient\":[]}\n",
    "res_summary_all   = {\"Dataset\":[],\"Cell type\":[],\"Average JSD\":[],\"Average spearman\":[]}\n",
    "\n",
    "for test_name in test_adata_list:\n",
    "    cur_test_adata = test_adata_list[test_name]\n",
    "    cur_truth_coor = np.column_stack((cur_test_adata.obs['x'].values,cur_test_adata.obs['y'].values))\n",
    "    \n",
    "    logging.info(\"Aligning data for \"+test_name)\n",
    "    ad_sc = cur_test_adata\n",
    "    tg.pp_adatas(ad_sc, ad_sp, genes=None)\n",
    "    ad_map = tg.map_cells_to_space(ad_sc, ad_sp)\n",
    "    logging.info(\"Aligning DONE\")\n",
    "    mapping_mat = ad_map.X\n",
    "    \n",
    "    predicted_coor = getPredictedCoor(ad_sp,ad_sc,mapping_mat)\n",
    "    predicted_distances =  cdist(predicted_coor, predicted_coor)\n",
    "    predicted_sorted_ind = np.argsort(predicted_distances)\n",
    "    \n",
    "    truth_distances =  cdist(cur_truth_coor, cur_truth_coor)\n",
    "    truth_sorted_ind = np.argsort(truth_distances)\n",
    "    \n",
    "    # neighbor hit\n",
    "    cur_neighbor_res,cur_average_neighbor_res = utils.calNeiborHit(truth_sorted_ind,predicted_sorted_ind)\n",
    "    neighbor_hit_res['Dataset'].extend([test_name]*10)\n",
    "    neighbor_hit_res['K nearest neighbor'].extend(cur_average_neighbor_res['K nearest neighbor'])\n",
    "    neighbor_hit_res['Average hit number'].extend(cur_average_neighbor_res['Average hit number'])\n",
    "    \n",
    "    # JSD\n",
    "    cur_truth_cell_types = cur_test_adata.obs['cell_type'].values\n",
    "    cur_jsd_list = utils.calJSD(truth_sorted_ind,predicted_sorted_ind,cur_truth_cell_types,neighbor_num=20)\n",
    "    \n",
    "    # Spearman rank correlation\n",
    "    spearman_corr_list,spearman_p_list = utils.calSpearmanRank(predicted_distances,truth_distances)\n",
    "    \n",
    "    JSD_spearman_res['Dataset'].append(test_name)\n",
    "    JSD_spearman_res['Average JSD'].append(np.mean(cur_jsd_list))\n",
    "    JSD_spearman_res[\"Average spearman's rank correlation coefficient\"].append(np.mean(spearman_corr_list))\n",
    "    \n",
    "    res_summary_all['Dataset'].extend([test_name]*len(cur_truth_cell_types))\n",
    "    res_summary_all['Cell type'].extend(cur_truth_cell_types)\n",
    "    res_summary_all['Average JSD'].extend(cur_jsd_list)\n",
    "    res_summary_all['Average spearman'].extend(spearman_corr_list)\n",
    "\n",
    "\n",
    "neighbor_hit_res = pd.DataFrame(neighbor_hit_res)\n",
    "JSD_spearman_res = pd.DataFrame(JSD_spearman_res)\n",
    "res_summary_all = pd.DataFrame(res_summary_all)"
   ]
  },
  {
   "cell_type": "code",
   "execution_count": 5,
   "id": "a2e6a155",
   "metadata": {},
   "outputs": [],
   "source": [
    "res_summary_all.to_csv(\"results/tangram_mouse_single_cell_ref.csv\")"
   ]
  },
  {
   "cell_type": "markdown",
   "id": "fcc08f6a",
   "metadata": {},
   "source": [
    "### 1.3 Benchmarking results"
   ]
  },
  {
   "cell_type": "markdown",
   "id": "11b9da7b",
   "metadata": {},
   "source": [
    "#### 1.3.1 Nearest neighbor hit"
   ]
  },
  {
   "cell_type": "code",
   "execution_count": 6,
   "id": "302055e8",
   "metadata": {},
   "outputs": [
    {
     "data": {
      "text/plain": [
       "<AxesSubplot: xlabel='K nearest neighbor', ylabel='Average hit number'>"
      ]
     },
     "execution_count": 6,
     "metadata": {},
     "output_type": "execute_result"
    },
    {
     "data": {
      "image/png": "[encoded data removed]",
      "text/plain": [
       "<Figure size 640x480 with 1 Axes>"
      ]
     },
     "metadata": {},
     "output_type": "display_data"
    }
   ],
   "source": [
    "sns.set_style('whitegrid')\n",
    "sns.lineplot(data=neighbor_hit_res,x=\"K nearest neighbor\",y=\"Average hit number\",hue=\"Dataset\",markers=True,style='Dataset',\\\n",
    "             dashes=False,linewidth=2)"
   ]
  },
  {
   "cell_type": "markdown",
   "id": "9aa738d1",
   "metadata": {},
   "source": [
    "#### 1.3.2 Average JSD and  spearman's rank correlation coefficient\n"
   ]
  },
  {
   "cell_type": "code",
   "execution_count": 7,
   "id": "45805da2",
   "metadata": {},
   "outputs": [
    {
     "data": {
      "text/html": [
       "<div>\n",
       "<style scoped>\n",
       "    .dataframe tbody tr th:only-of-type {\n",
       "        vertical-align: middle;\n",
       "    }\n",
       "\n",
       "    .dataframe tbody tr th {\n",
       "        vertical-align: top;\n",
       "    }\n",
       "\n",
       "    .dataframe thead th {\n",
       "        text-align: right;\n",
       "    }\n",
       "</style>\n",
       "<table border=\"1\" class=\"dataframe\">\n",
       "  <thead>\n",
       "    <tr style=\"text-align: right;\">\n",
       "      <th></th>\n",
       "      <th>Dataset</th>\n",
       "      <th>Average JSD</th>\n",
       "      <th>Average spearman's rank correlation coefficient</th>\n",
       "    </tr>\n",
       "  </thead>\n",
       "  <tbody>\n",
       "    <tr>\n",
       "      <th>0</th>\n",
       "      <td>embryo1_l2</td>\n",
       "      <td>0.526323</td>\n",
       "      <td>0.296259</td>\n",
       "    </tr>\n",
       "    <tr>\n",
       "      <th>1</th>\n",
       "      <td>embryo2_l2</td>\n",
       "      <td>0.540290</td>\n",
       "      <td>0.073249</td>\n",
       "    </tr>\n",
       "    <tr>\n",
       "      <th>2</th>\n",
       "      <td>embryo3_l2</td>\n",
       "      <td>0.613265</td>\n",
       "      <td>0.095110</td>\n",
       "    </tr>\n",
       "  </tbody>\n",
       "</table>\n",
       "</div>"
      ],
      "text/plain": [
       "      Dataset  Average JSD  Average spearman's rank correlation coefficient\n",
       "0  embryo1_l2     0.526323                                         0.296259\n",
       "1  embryo2_l2     0.540290                                         0.073249\n",
       "2  embryo3_l2     0.613265                                         0.095110"
      ]
     },
     "metadata": {},
     "output_type": "display_data"
    }
   ],
   "source": [
    "display(JSD_spearman_res)"
   ]
  },
  {
   "cell_type": "markdown",
   "id": "d0a36afd",
   "metadata": {},
   "source": [
    "## 2. Spatial location inference across platforms: mouse gastrulation datasets"
   ]
  },
  {
   "cell_type": "markdown",
   "id": "00619439",
   "metadata": {},
   "source": [
    "### 2.1 Load data"
   ]
  },
  {
   "cell_type": "code",
   "execution_count": 8,
   "id": "d474f3d5",
   "metadata": {},
   "outputs": [],
   "source": [
    "# Please modify the data path as needed\n",
    "DATA_ROOT = \"../benchmarking_data\"\n",
    "stereoseq_E2S1 = sc.read_h5ad(os.path.join(DATA_ROOT,\"stereoseq_E2S1.h5ad\"))\n",
    "embryo1_l2 = sc.read_h5ad(os.path.join(DATA_ROOT,\"seqFISH_embryo1_l2.h5ad\"))\n",
    "embryo2_l2 = sc.read_h5ad(os.path.join(DATA_ROOT,\"seqFISH_embryo2_l2.h5ad\"))\n",
    "embryo3_l2 = sc.read_h5ad(os.path.join(DATA_ROOT,\"seqFISH_embryo3_l2.h5ad\"))\n"
   ]
  },
  {
   "cell_type": "markdown",
   "id": "66cbb493",
   "metadata": {},
   "source": [
    "### 2.2 Performing alignment and evaluation"
   ]
  },
  {
   "cell_type": "code",
   "execution_count": 13,
   "id": "4edf1a6a",
   "metadata": {},
   "outputs": [
    {
     "name": "stderr",
     "output_type": "stream",
     "text": [
      "INFO:root:Aligning data for embryo1_l2\n",
      "INFO:root:349 training genes are saved in `uns``training_genes` of both single cell and spatial Anndatas.\n",
      "INFO:root:349 overlapped genes are saved in `uns``overlap_genes` of both single cell and spatial Anndatas.\n",
      "INFO:root:uniform based density prior is calculated and saved in `obs``uniform_density` of the spatial Anndata.\n",
      "INFO:root:rna count based density prior is calculated and saved in `obs``rna_count_based_density` of the spatial Anndata.\n",
      "INFO:root:Allocate tensors for mapping.\n",
      "INFO:root:Begin training with 349 genes and rna_count_based density_prior in cells mode...\n",
      "INFO:root:Printing scores every 100 epochs.\n"
     ]
    },
    {
     "name": "stdout",
     "output_type": "stream",
     "text": [
      "Score: 0.301, KL reg: 0.023\n",
      "Score: 0.594, KL reg: 0.006\n",
      "Score: 0.606, KL reg: 0.005\n",
      "Score: 0.608, KL reg: 0.005\n",
      "Score: 0.609, KL reg: 0.005\n",
      "Score: 0.609, KL reg: 0.005\n",
      "Score: 0.610, KL reg: 0.005\n",
      "Score: 0.610, KL reg: 0.005\n",
      "Score: 0.610, KL reg: 0.005\n",
      "Score: 0.611, KL reg: 0.005\n"
     ]
    },
    {
     "name": "stderr",
     "output_type": "stream",
     "text": [
      "INFO:root:Saving results..\n",
      "INFO:root:Aligning DONE\n",
      "100%|███████████████████████████████████████████████████████████████████████████████████████████████████████████| 7656/7656 [00:19<00:00, 391.40it/s]\n",
      "INFO:root:Aligning data for embryo2_l2\n",
      "INFO:root:349 training genes are saved in `uns``training_genes` of both single cell and spatial Anndatas.\n",
      "INFO:root:349 overlapped genes are saved in `uns``overlap_genes` of both single cell and spatial Anndatas.\n",
      "INFO:root:uniform based density prior is calculated and saved in `obs``uniform_density` of the spatial Anndata.\n",
      "INFO:root:rna count based density prior is calculated and saved in `obs``rna_count_based_density` of the spatial Anndata.\n",
      "INFO:root:Allocate tensors for mapping.\n",
      "INFO:root:Begin training with 349 genes and rna_count_based density_prior in cells mode...\n",
      "INFO:root:Printing scores every 100 epochs.\n"
     ]
    },
    {
     "name": "stdout",
     "output_type": "stream",
     "text": [
      "Score: 0.301, KL reg: 0.023\n",
      "Score: 0.606, KL reg: 0.006\n",
      "Score: 0.617, KL reg: 0.005\n",
      "Score: 0.619, KL reg: 0.005\n",
      "Score: 0.620, KL reg: 0.005\n",
      "Score: 0.620, KL reg: 0.005\n",
      "Score: 0.621, KL reg: 0.005\n",
      "Score: 0.621, KL reg: 0.005\n",
      "Score: 0.621, KL reg: 0.005\n",
      "Score: 0.621, KL reg: 0.005\n"
     ]
    },
    {
     "name": "stderr",
     "output_type": "stream",
     "text": [
      "INFO:root:Saving results..\n",
      "INFO:root:Aligning DONE\n",
      "100%|███████████████████████████████████████████████████████████████████████████████████████████████████████████| 6524/6524 [00:14<00:00, 439.28it/s]\n",
      "INFO:root:Aligning data for embryo3_l2\n",
      "INFO:root:349 training genes are saved in `uns``training_genes` of both single cell and spatial Anndatas.\n",
      "INFO:root:349 overlapped genes are saved in `uns``overlap_genes` of both single cell and spatial Anndatas.\n",
      "INFO:root:uniform based density prior is calculated and saved in `obs``uniform_density` of the spatial Anndata.\n",
      "INFO:root:rna count based density prior is calculated and saved in `obs``rna_count_based_density` of the spatial Anndata.\n",
      "INFO:root:Allocate tensors for mapping.\n",
      "INFO:root:Begin training with 349 genes and rna_count_based density_prior in cells mode...\n",
      "INFO:root:Printing scores every 100 epochs.\n"
     ]
    },
    {
     "name": "stdout",
     "output_type": "stream",
     "text": [
      "Score: 0.301, KL reg: 0.023\n",
      "Score: 0.635, KL reg: 0.006\n",
      "Score: 0.647, KL reg: 0.005\n",
      "Score: 0.650, KL reg: 0.005\n",
      "Score: 0.651, KL reg: 0.005\n",
      "Score: 0.652, KL reg: 0.005\n",
      "Score: 0.652, KL reg: 0.005\n",
      "Score: 0.652, KL reg: 0.005\n",
      "Score: 0.653, KL reg: 0.005\n",
      "Score: 0.653, KL reg: 0.005\n"
     ]
    },
    {
     "name": "stderr",
     "output_type": "stream",
     "text": [
      "INFO:root:Saving results..\n",
      "INFO:root:Aligning DONE\n",
      "100%|███████████████████████████████████████████████████████████████████████████████████████████████████████████| 9408/9408 [00:26<00:00, 349.03it/s]\n"
     ]
    }
   ],
   "source": [
    "test_adata_list = {\"embryo1_l2\":embryo1_l2,\"embryo2_l2\":embryo2_l2,\"embryo3_l2\":embryo3_l2}\n",
    "# set the reference data\n",
    "ad_sp = stereoseq_E2S1\n",
    "\n",
    "neighbor_hit_res = {'Dataset':[],'K nearest neighbor':[],'Average hit number':[]}\n",
    "JSD_spearman_res = {'Dataset':[],'Average JSD':[],\"Average spearman's rank correlation coefficient\":[]}\n",
    "res_summary_all   = {\"Dataset\":[],\"Cell type\":[],\"Average JSD\":[],\"Average spearman\":[]}\n",
    "\n",
    "for test_name in test_adata_list:\n",
    "    cur_test_adata = test_adata_list[test_name]\n",
    "    cur_truth_coor = np.column_stack((cur_test_adata.obs['x'].values,cur_test_adata.obs['y'].values))\n",
    "    \n",
    "    logging.info(\"Aligning data for \"+test_name)\n",
    "    ad_sc = cur_test_adata\n",
    "    tg.pp_adatas(ad_sc, ad_sp, genes=None)\n",
    "    ad_map = tg.map_cells_to_space(ad_sc, ad_sp)\n",
    "    logging.info(\"Aligning DONE\")\n",
    "    mapping_mat = ad_map.X\n",
    "    predicted_coor = getPredictedCoor(ad_sp,ad_sc,mapping_mat)\n",
    "    predicted_distances =  cdist(predicted_coor, predicted_coor)\n",
    "    predicted_sorted_ind = np.argsort(predicted_distances)\n",
    "    \n",
    "    truth_distances =  cdist(cur_truth_coor, cur_truth_coor)\n",
    "    truth_sorted_ind = np.argsort(truth_distances)\n",
    "    \n",
    "    # neighbor hit\n",
    "    cur_neighbor_res,cur_average_neighbor_res = utils.calNeiborHit(truth_sorted_ind,predicted_sorted_ind)\n",
    "    neighbor_hit_res['Dataset'].extend([test_name]*10)\n",
    "    neighbor_hit_res['K nearest neighbor'].extend(cur_average_neighbor_res['K nearest neighbor'])\n",
    "    neighbor_hit_res['Average hit number'].extend(cur_average_neighbor_res['Average hit number'])\n",
    "    \n",
    "    # JSD\n",
    "    cur_truth_cell_types = cur_test_adata.obs['cell_type'].values\n",
    "    cur_jsd_list = utils.calJSD(truth_sorted_ind,predicted_sorted_ind,cur_truth_cell_types,neighbor_num=20)\n",
    "    \n",
    "    # Spearman rank correlation\n",
    "    spearman_corr_list,spearman_p_list = utils.calSpearmanRank(predicted_distances,truth_distances)\n",
    "    \n",
    "    JSD_spearman_res['Dataset'].append(test_name)\n",
    "    JSD_spearman_res['Average JSD'].append(np.mean(cur_jsd_list))\n",
    "    JSD_spearman_res[\"Average spearman's rank correlation coefficient\"].append(np.mean(spearman_corr_list))\n",
    "    \n",
    "    res_summary_all['Dataset'].extend([test_name]*len(cur_truth_cell_types))\n",
    "    res_summary_all['Cell type'].extend(cur_truth_cell_types)\n",
    "    res_summary_all['Average JSD'].extend(cur_jsd_list)\n",
    "    res_summary_all['Average spearman'].extend(spearman_corr_list)\n",
    "    \n",
    "neighbor_hit_res = pd.DataFrame(neighbor_hit_res)\n",
    "JSD_spearman_res = pd.DataFrame(JSD_spearman_res)\n",
    "res_summary_all = pd.DataFrame(res_summary_all)"
   ]
  },
  {
   "cell_type": "code",
   "execution_count": 14,
   "id": "3827191c",
   "metadata": {},
   "outputs": [],
   "source": [
    "res_summary_all.to_csv(\"results/tangram_mouse_stereoseq_ref.csv\")"
   ]
  },
  {
   "cell_type": "markdown",
   "id": "a06cf4d4",
   "metadata": {},
   "source": [
    "### 2.3 Benchmarking results"
   ]
  },
  {
   "cell_type": "markdown",
   "id": "39f10efd",
   "metadata": {},
   "source": [
    "#### 2.3.1 Nearest neighbor hit"
   ]
  },
  {
   "cell_type": "code",
   "execution_count": 17,
   "id": "c5d8f59b",
   "metadata": {},
   "outputs": [
    {
     "data": {
      "text/plain": [
       "<AxesSubplot: xlabel='K nearest neighbor', ylabel='Average hit number'>"
      ]
     },
     "execution_count": 17,
     "metadata": {},
     "output_type": "execute_result"
    },
    {
     "data": {
      "image/png": "[encoded data removed]",
      "text/plain": [
       "<Figure size 640x480 with 1 Axes>"
      ]
     },
     "metadata": {},
     "output_type": "display_data"
    }
   ],
   "source": [
    "sns.set_style('whitegrid')\n",
    "sns.lineplot(data=neighbor_hit_res,x=\"K nearest neighbor\",y=\"Average hit number\",hue=\"Dataset\",markers=True,style='Dataset',\\\n",
    "             dashes=False,linewidth=2)"
   ]
  },
  {
   "cell_type": "markdown",
   "id": "1ba7156d",
   "metadata": {},
   "source": [
    "#### 2.3.2 Average JSD and  spearman's rank correlation coefficient\n"
   ]
  },
  {
   "cell_type": "code",
   "execution_count": 18,
   "id": "15245bb4",
   "metadata": {},
   "outputs": [
    {
     "data": {
      "text/html": [
       "<div>\n",
       "<style scoped>\n",
       "    .dataframe tbody tr th:only-of-type {\n",
       "        vertical-align: middle;\n",
       "    }\n",
       "\n",
       "    .dataframe tbody tr th {\n",
       "        vertical-align: top;\n",
       "    }\n",
       "\n",
       "    .dataframe thead th {\n",
       "        text-align: right;\n",
       "    }\n",
       "</style>\n",
       "<table border=\"1\" class=\"dataframe\">\n",
       "  <thead>\n",
       "    <tr style=\"text-align: right;\">\n",
       "      <th></th>\n",
       "      <th>Dataset</th>\n",
       "      <th>Average JSD</th>\n",
       "      <th>Average spearman's rank correlation coefficient</th>\n",
       "    </tr>\n",
       "  </thead>\n",
       "  <tbody>\n",
       "    <tr>\n",
       "      <th>0</th>\n",
       "      <td>embryo1_l2</td>\n",
       "      <td>0.627456</td>\n",
       "      <td>0.038806</td>\n",
       "    </tr>\n",
       "    <tr>\n",
       "      <th>1</th>\n",
       "      <td>embryo2_l2</td>\n",
       "      <td>0.573128</td>\n",
       "      <td>0.075179</td>\n",
       "    </tr>\n",
       "    <tr>\n",
       "      <th>2</th>\n",
       "      <td>embryo3_l2</td>\n",
       "      <td>0.640634</td>\n",
       "      <td>0.047662</td>\n",
       "    </tr>\n",
       "  </tbody>\n",
       "</table>\n",
       "</div>"
      ],
      "text/plain": [
       "      Dataset  Average JSD  Average spearman's rank correlation coefficient\n",
       "0  embryo1_l2     0.627456                                         0.038806\n",
       "1  embryo2_l2     0.573128                                         0.075179\n",
       "2  embryo3_l2     0.640634                                         0.047662"
      ]
     },
     "metadata": {},
     "output_type": "display_data"
    }
   ],
   "source": [
    "display(JSD_spearman_res)"
   ]
  },
  {
   "cell_type": "markdown",
   "id": "20d1835c",
   "metadata": {},
   "source": [
    "## 3. Spatial location inference across platforms: human breast cancer datasets\n"
   ]
  },
  {
   "cell_type": "markdown",
   "id": "6f9261a2",
   "metadata": {},
   "source": [
    "### 3.1 Load data"
   ]
  },
  {
   "cell_type": "code",
   "execution_count": 22,
   "id": "2d2eb2e2",
   "metadata": {},
   "outputs": [
    {
     "name": "stdout",
     "output_type": "stream",
     "text": [
      "human_breast_s06 (3037, 36503) human_breast_s08 (2801, 36503)\n"
     ]
    }
   ],
   "source": [
    "DATA_ROOT = \"../benchmarking_data\"\n",
    "human_breast_s06 = sc.read_h5ad(os.path.join(DATA_ROOT,\"s06_normal.h5ad\"))\n",
    "human_breast_s08 = sc.read_h5ad(os.path.join(DATA_ROOT,\"s08_normal.h5ad\"))\n",
    "print(\"human_breast_s06\",human_breast_s06.shape,\"human_breast_s08\",human_breast_s08.shape)"
   ]
  },
  {
   "cell_type": "markdown",
   "id": "c5b72d69",
   "metadata": {},
   "source": [
    "### 3.2 Performing alignment and evaluation"
   ]
  },
  {
   "cell_type": "code",
   "execution_count": 23,
   "id": "41714db2",
   "metadata": {},
   "outputs": [
    {
     "name": "stderr",
     "output_type": "stream",
     "text": [
      "INFO:root:Aligning data for Human breast cells\n",
      "INFO:root:18314 training genes are saved in `uns``training_genes` of both single cell and spatial Anndatas.\n",
      "INFO:root:18314 overlapped genes are saved in `uns``overlap_genes` of both single cell and spatial Anndatas.\n",
      "INFO:root:uniform based density prior is calculated and saved in `obs``uniform_density` of the spatial Anndata.\n",
      "INFO:root:rna count based density prior is calculated and saved in `obs``rna_count_based_density` of the spatial Anndata.\n",
      "INFO:root:Allocate tensors for mapping.\n",
      "INFO:root:Begin training with 18314 genes and rna_count_based density_prior in cells mode...\n",
      "INFO:root:Printing scores every 100 epochs.\n"
     ]
    },
    {
     "name": "stdout",
     "output_type": "stream",
     "text": [
      "Score: 0.199, KL reg: 0.034\n",
      "Score: 0.350, KL reg: 0.000\n",
      "Score: 0.355, KL reg: 0.000\n",
      "Score: 0.356, KL reg: 0.000\n",
      "Score: 0.356, KL reg: 0.000\n",
      "Score: 0.357, KL reg: 0.000\n",
      "Score: 0.357, KL reg: 0.000\n",
      "Score: 0.357, KL reg: 0.000\n",
      "Score: 0.357, KL reg: 0.000\n",
      "Score: 0.357, KL reg: 0.000\n"
     ]
    },
    {
     "name": "stderr",
     "output_type": "stream",
     "text": [
      "INFO:root:Saving results..\n",
      "INFO:root:Aligning DONE\n",
      "100%|███████████████████████████████████████████████████████████████████████████████████████████████████████████| 2801/2801 [00:04<00:00, 637.78it/s]\n"
     ]
    }
   ],
   "source": [
    "# set the reference data\n",
    "ad_sp = human_breast_s06\n",
    "# set the query data\n",
    "ad_sc = human_breast_s08\n",
    "neighbor_hit_res = {'Dataset':[],'K nearest neighbor':[],'Average hit number':[]}\n",
    "JSD_spearman_res = {'Dataset':[],'Average JSD':[],\"Average spearman's rank correlation coefficient\":[]}\n",
    "res_summary_all   = {\"Dataset\":[],\"Cell type\":[],\"Average JSD\":[],\"Average spearman\":[]}\n",
    "\n",
    "\n",
    "cur_test_adata = human_breast_s08\n",
    "cur_truth_coor = np.column_stack((cur_test_adata.obs['x'].values,cur_test_adata.obs['y'].values))\n",
    "    \n",
    "logging.info(\"Aligning data for \"+\"Human breast cells\")\n",
    "ad_sc = cur_test_adata\n",
    "tg.pp_adatas(ad_sc, ad_sp, genes=None)\n",
    "ad_map = tg.map_cells_to_space(ad_sc, ad_sp)\n",
    "logging.info(\"Aligning DONE\")\n",
    "mapping_mat = ad_map.X\n",
    "predicted_coor = getPredictedCoor(ad_sp,ad_sc,mapping_mat)\n",
    "predicted_distances =  cdist(predicted_coor, predicted_coor)\n",
    "predicted_sorted_ind = np.argsort(predicted_distances)\n",
    "    \n",
    "truth_distances =  cdist(cur_truth_coor, cur_truth_coor)\n",
    "truth_sorted_ind = np.argsort(truth_distances)\n",
    "    \n",
    "# neighbor hit\n",
    "cur_neighbor_res,cur_average_neighbor_res = utils.calNeiborHit(truth_sorted_ind,predicted_sorted_ind)\n",
    "neighbor_hit_res['Dataset'].extend([\"human breast S08\"]*10)\n",
    "neighbor_hit_res['K nearest neighbor'].extend(cur_average_neighbor_res['K nearest neighbor'])\n",
    "neighbor_hit_res['Average hit number'].extend(cur_average_neighbor_res['Average hit number'])\n",
    "    \n",
    "# JSD\n",
    "cur_truth_cell_types = cur_test_adata.obs['cell_type'].values\n",
    "cur_jsd_list = utils.calJSD(truth_sorted_ind,predicted_sorted_ind,cur_truth_cell_types,neighbor_num=20)\n",
    "    \n",
    "# Spearman rank correlation\n",
    "spearman_corr_list,spearman_p_list = utils.calSpearmanRank(predicted_distances,truth_distances)\n",
    "    \n",
    "JSD_spearman_res['Dataset'].append(\"human breast S08\")\n",
    "JSD_spearman_res['Average JSD'].append(np.mean(cur_jsd_list))\n",
    "JSD_spearman_res[\"Average spearman's rank correlation coefficient\"].append(np.mean(spearman_corr_list))\n",
    "    \n",
    "res_summary_all['Dataset'].extend([\"human breast S08\"]*len(cur_truth_cell_types))\n",
    "res_summary_all['Cell type'].extend(cur_truth_cell_types)\n",
    "res_summary_all['Average JSD'].extend(cur_jsd_list)\n",
    "res_summary_all['Average spearman'].extend(spearman_corr_list)\n",
    "    \n",
    "neighbor_hit_res = pd.DataFrame(neighbor_hit_res)\n",
    "JSD_spearman_res = pd.DataFrame(JSD_spearman_res)\n",
    "res_summary_all = pd.DataFrame(res_summary_all)"
   ]
  },
  {
   "cell_type": "code",
   "execution_count": 24,
   "id": "fcbd611a",
   "metadata": {},
   "outputs": [],
   "source": [
    "res_summary_all.to_csv(\"results/tangram_human_breast.csv\")"
   ]
  },
  {
   "cell_type": "markdown",
   "id": "0f814793",
   "metadata": {},
   "source": [
    "### 3.3 Benchmarking results"
   ]
  },
  {
   "cell_type": "markdown",
   "id": "c23b7c43",
   "metadata": {},
   "source": [
    "#### 3.3.1 Nearest neighbor hit"
   ]
  },
  {
   "cell_type": "code",
   "execution_count": 25,
   "id": "91a85d28",
   "metadata": {},
   "outputs": [
    {
     "data": {
      "text/plain": [
       "<AxesSubplot: xlabel='K nearest neighbor', ylabel='Average hit number'>"
      ]
     },
     "execution_count": 25,
     "metadata": {},
     "output_type": "execute_result"
    },
    {
     "data": {
      "image/png": "[encoded data removed]",
      "text/plain": [
       "<Figure size 640x480 with 1 Axes>"
      ]
     },
     "metadata": {},
     "output_type": "display_data"
    }
   ],
   "source": [
    "sns.set_style('whitegrid')\n",
    "sns.lineplot(data=neighbor_hit_res,x=\"K nearest neighbor\",y=\"Average hit number\",hue=\"Dataset\",markers=True,style='Dataset',\\\n",
    "             dashes=False,linewidth=2)"
   ]
  },
  {
   "cell_type": "markdown",
   "id": "8788a0e1",
   "metadata": {},
   "source": [
    "#### 2.3.2 Average JSD and  spearman's rank correlation coefficient\n"
   ]
  },
  {
   "cell_type": "code",
   "execution_count": 26,
   "id": "c1a2f00a",
   "metadata": {},
   "outputs": [
    {
     "data": {
      "text/html": [
       "<div>\n",
       "<style scoped>\n",
       "    .dataframe tbody tr th:only-of-type {\n",
       "        vertical-align: middle;\n",
       "    }\n",
       "\n",
       "    .dataframe tbody tr th {\n",
       "        vertical-align: top;\n",
       "    }\n",
       "\n",
       "    .dataframe thead th {\n",
       "        text-align: right;\n",
       "    }\n",
       "</style>\n",
       "<table border=\"1\" class=\"dataframe\">\n",
       "  <thead>\n",
       "    <tr style=\"text-align: right;\">\n",
       "      <th></th>\n",
       "      <th>Dataset</th>\n",
       "      <th>Average JSD</th>\n",
       "      <th>Average spearman's rank correlation coefficient</th>\n",
       "    </tr>\n",
       "  </thead>\n",
       "  <tbody>\n",
       "    <tr>\n",
       "      <th>0</th>\n",
       "      <td>human breast S08</td>\n",
       "      <td>0.485774</td>\n",
       "      <td>0.008958</td>\n",
       "    </tr>\n",
       "  </tbody>\n",
       "</table>\n",
       "</div>"
      ],
      "text/plain": [
       "            Dataset  Average JSD  \\\n",
       "0  human breast S08     0.485774   \n",
       "\n",
       "   Average spearman's rank correlation coefficient  \n",
       "0                                         0.008958  "
      ]
     },
     "metadata": {},
     "output_type": "display_data"
    }
   ],
   "source": [
    "display(JSD_spearman_res)"
   ]
  },
  {
   "cell_type": "code",
   "execution_count": null,
   "id": "f97e0309",
   "metadata": {},
   "outputs": [],
   "source": []
  },
  {
   "cell_type": "markdown",
   "id": "4ffa4288",
   "metadata": {},
   "source": [
    "## 4. Spatial location inference: mouse brain cells generated by MERSCOPE"
   ]
  },
  {
   "cell_type": "markdown",
   "id": "6eb64e0e",
   "metadata": {},
   "source": [
    "### 4.1. Load data"
   ]
  },
  {
   "cell_type": "code",
   "execution_count": 9,
   "id": "84418059",
   "metadata": {},
   "outputs": [],
   "source": [
    "DATA_ROOT = \"../benchmarking_data\"\n",
    "left_brain_adata = sc.read_h5ad(os.path.join(DATA_ROOT,\"s1r1_left_original.h5ad\"))\n",
    "right_brain_adata = sc.read_h5ad(os.path.join(DATA_ROOT,\"s1r1_right_original.h5ad\"))"
   ]
  },
  {
   "cell_type": "markdown",
   "id": "3f7f56bb",
   "metadata": {},
   "source": [
    "### 4.2 Performing alignment and evaluation"
   ]
  },
  {
   "cell_type": "code",
   "execution_count": null,
   "id": "7c707b39",
   "metadata": {},
   "outputs": [
    {
     "name": "stderr",
     "output_type": "stream",
     "text": [
      "INFO:root:Aligning data for merfish\n",
      "INFO:root:649 training genes are saved in `uns``training_genes` of both single cell and spatial Anndatas.\n",
      "INFO:root:649 overlapped genes are saved in `uns``overlap_genes` of both single cell and spatial Anndatas.\n",
      "INFO:root:uniform based density prior is calculated and saved in `obs``uniform_density` of the spatial Anndata.\n",
      "INFO:root:rna count based density prior is calculated and saved in `obs``rna_count_based_density` of the spatial Anndata.\n",
      "INFO:root:Allocate tensors for mapping.\n",
      "INFO:root:Begin training with 649 genes and rna_count_based density_prior in cells mode...\n",
      "INFO:root:Printing scores every 100 epochs.\n"
     ]
    },
    {
     "name": "stdout",
     "output_type": "stream",
     "text": [
      "Score: 0.309, KL reg: 0.003\n",
      "Score: 0.809, KL reg: 0.001\n",
      "Score: 0.823, KL reg: 0.001\n",
      "Score: 0.826, KL reg: 0.001\n",
      "Score: 0.828, KL reg: 0.001\n",
      "Score: 0.829, KL reg: 0.001\n",
      "Score: 0.829, KL reg: 0.001\n",
      "Score: 0.830, KL reg: 0.001\n",
      "Score: 0.830, KL reg: 0.001\n",
      "Score: 0.830, KL reg: 0.001\n"
     ]
    },
    {
     "name": "stderr",
     "output_type": "stream",
     "text": [
      "INFO:root:Saving results..\n",
      "INFO:root:Aligning DONE\n",
      " 70%|████████████████████████████████████████████████▎                    | 6591/9419 [00:21<00:08, 315.12it/s]"
     ]
    }
   ],
   "source": [
    "# set the reference data\n",
    "ad_sp = left_brain_adata\n",
    "# set the query data\n",
    "ad_sc = right_brain_adata\n",
    "\n",
    "neighbor_hit_res = {'Dataset':[],'K nearest neighbor':[],'Average hit number':[]}\n",
    "JSD_spearman_res = {'Dataset':[],'Average JSD':[],\"Average spearman's rank correlation coefficient\":[]}\n",
    "res_summary_all   = {\"Dataset\":[],\"Cell type\":[],\"Average JSD\":[],\"Average spearman\":[]}\n",
    "\n",
    "\n",
    "cur_test_adata = ad_sc\n",
    "cur_truth_coor = np.column_stack((cur_test_adata.obs['x'].values,cur_test_adata.obs['y'].values))\n",
    "    \n",
    "logging.info(\"Aligning data for \"+\"merfish\")\n",
    "ad_sc = cur_test_adata\n",
    "tg.pp_adatas(ad_sc, ad_sp, genes=None)\n",
    "ad_map = tg.map_cells_to_space(ad_sc, ad_sp)\n",
    "logging.info(\"Aligning DONE\")\n",
    "mapping_mat = ad_map.X\n",
    "predicted_coor = getPredictedCoor(ad_sp,ad_sc,mapping_mat)\n",
    "predicted_distances =  cdist(predicted_coor, predicted_coor)\n",
    "predicted_sorted_ind = np.argsort(predicted_distances)\n",
    "    \n",
    "truth_distances =  cdist(cur_truth_coor, cur_truth_coor)\n",
    "truth_sorted_ind = np.argsort(truth_distances)\n",
    "    \n",
    "# neighbor hit\n",
    "cur_neighbor_res,cur_average_neighbor_res = utils.calNeiborHit(truth_sorted_ind,predicted_sorted_ind)\n",
    "neighbor_hit_res['Dataset'].extend([\"human breast S08\"]*10)\n",
    "neighbor_hit_res['K nearest neighbor'].extend(cur_average_neighbor_res['K nearest neighbor'])\n",
    "neighbor_hit_res['Average hit number'].extend(cur_average_neighbor_res['Average hit number'])\n",
    "    \n",
    "# JSD\n",
    "cur_truth_cell_types = cur_test_adata.obs['cell_type'].values\n",
    "cur_jsd_list = utils.calJSD(truth_sorted_ind,predicted_sorted_ind,cur_truth_cell_types,neighbor_num=20)\n",
    "    \n",
    "# Spearman rank correlation\n",
    "spearman_corr_list,spearman_p_list = utils.calSpearmanRank(predicted_distances,truth_distances)\n",
    "    \n",
    "JSD_spearman_res['Dataset'].append(\"human breast S08\")\n",
    "JSD_spearman_res['Average JSD'].append(np.mean(cur_jsd_list))\n",
    "JSD_spearman_res[\"Average spearman's rank correlation coefficient\"].append(np.mean(spearman_corr_list))\n",
    "    \n",
    "res_summary_all['Dataset'].extend([\"human breast S08\"]*len(cur_truth_cell_types))\n",
    "res_summary_all['Cell type'].extend(cur_truth_cell_types)\n",
    "res_summary_all['Average JSD'].extend(cur_jsd_list)\n",
    "res_summary_all['Average spearman'].extend(spearman_corr_list)\n",
    "    \n",
    "neighbor_hit_res = pd.DataFrame(neighbor_hit_res)\n",
    "JSD_spearman_res = pd.DataFrame(JSD_spearman_res)\n",
    "res_summary_all = pd.DataFrame(res_summary_all)"
   ]
  },
  {
   "cell_type": "markdown",
   "id": "e9724ed2",
   "metadata": {},
   "source": [
    "### 4.4 Benchmarking results"
   ]
  },
  {
   "cell_type": "markdown",
   "id": "929ee7ad",
   "metadata": {},
   "source": [
    "#### 4.4.1 Nearest neighbor hit"
   ]
  },
  {
   "cell_type": "code",
   "execution_count": 15,
   "id": "cac7b692",
   "metadata": {},
   "outputs": [
    {
     "data": {
      "text/plain": [
       "<AxesSubplot: xlabel='K nearest neighbor', ylabel='Average hit number'>"
      ]
     },
     "execution_count": 15,
     "metadata": {},
     "output_type": "execute_result"
    },
    {
     "data": {
      "image/png": "[encoded data removed]",
      "text/plain": [
       "<Figure size 640x480 with 1 Axes>"
      ]
     },
     "metadata": {},
     "output_type": "display_data"
    }
   ],
   "source": [
    "sns.set_style('whitegrid')\n",
    "sns.lineplot(data=neighbor_hit_res,x=\"K nearest neighbor\",y=\"Average hit number\",hue=\"Dataset\",markers=True,style='Dataset',\\\n",
    "             dashes=False,linewidth=2)"
   ]
  },
  {
   "cell_type": "markdown",
   "id": "90a32811",
   "metadata": {},
   "source": [
    "#### 4.4.2 Average spearman's rank correlation coefficient"
   ]
  },
  {
   "cell_type": "code",
   "execution_count": 16,
   "id": "36fedf43",
   "metadata": {},
   "outputs": [
    {
     "data": {
      "text/html": [
       "<div>\n",
       "<style scoped>\n",
       "    .dataframe tbody tr th:only-of-type {\n",
       "        vertical-align: middle;\n",
       "    }\n",
       "\n",
       "    .dataframe tbody tr th {\n",
       "        vertical-align: top;\n",
       "    }\n",
       "\n",
       "    .dataframe thead th {\n",
       "        text-align: right;\n",
       "    }\n",
       "</style>\n",
       "<table border=\"1\" class=\"dataframe\">\n",
       "  <thead>\n",
       "    <tr style=\"text-align: right;\">\n",
       "      <th></th>\n",
       "      <th>Dataset</th>\n",
       "      <th>Average JSD</th>\n",
       "      <th>Average spearman's rank correlation coefficient</th>\n",
       "    </tr>\n",
       "  </thead>\n",
       "  <tbody>\n",
       "    <tr>\n",
       "      <th>0</th>\n",
       "      <td>human breast S08</td>\n",
       "      <td>NaN</td>\n",
       "      <td>0.136098</td>\n",
       "    </tr>\n",
       "  </tbody>\n",
       "</table>\n",
       "</div>"
      ],
      "text/plain": [
       "            Dataset  Average JSD  \\\n",
       "0  human breast S08          NaN   \n",
       "\n",
       "   Average spearman's rank correlation coefficient  \n",
       "0                                         0.136098  "
      ]
     },
     "metadata": {},
     "output_type": "display_data"
    }
   ],
   "source": [
    "display(JSD_spearman_res)"
   ]
  },
  {
   "cell_type": "code",
   "execution_count": null,
   "id": "5d85eb8a",
   "metadata": {},
   "outputs": [],
   "source": []
  }
 ],
 "metadata": {
  "kernelspec": {
   "display_name": "tangram-env",
   "language": "python",
   "name": "tangram-env"
  },
  "language_info": {
   "codemirror_mode": {
    "name": "ipython",
    "version": 3
   },
   "file_extension": ".py",
   "mimetype": "text/x-python",
   "name": "python",
   "nbconvert_exporter": "python",
   "pygments_lexer": "ipython3",
   "version": "3.8.15"
  }
 },
 "nbformat": 4,
 "nbformat_minor": 5
}
